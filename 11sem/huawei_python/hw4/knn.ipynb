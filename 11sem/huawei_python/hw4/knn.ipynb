{
 "cells": [
  {
   "cell_type": "markdown",
   "metadata": {},
   "source": [
    "### Задание"
   ]
  },
  {
   "cell_type": "markdown",
   "metadata": {},
   "source": [
    "Реализуйте алгоритм классификации метод k ближайших соседей.\n",
    "\n",
    "Требования к коду:\n",
    "* Код должен быть хорошо структурирован\n",
    "* Код должен быть эффективен\n",
    "* Имплементация должна быть максимально векторизованной и, где это возможно, не использовать циклы\n",
    "\n",
    "Необходимо реализовать класс KnnBruteClassifier, с реализацией прототипа, представленного ниже.\n",
    "\n",
    "Должна быть реализована поддержка метрики расстояния L2 (параметр metric) и параметр weights типа 'uniform' и 'distance'.\n",
    "\n",
    "В качестве входного файла необходимо использовать файл \"knn_data_XXX.npy\", полученный от бота командой /get seminar04\n",
    "\n",
    "В качестве решения необходимо отправить боту, указав seminar04 в поле caption,  следующие файлы:\n",
    "* knn.ipynb - содержит класс, реализующий ваш алгоритм\n",
    "* results.npy - файл с результатами тестов, который можно будет сгенерировать с помощью этого ноутбука\n",
    "\n",
    "Для проверки решения после отправки необходимо отправить боту следующую команду:\n",
    "/check seminar04\n",
    "\n",
    "В случае возникновения вопросов по интерфейсу смотрите детали реализации класса sklearn.neighbors.KNeighborsClassifier\n",
    "https://scikit-learn.org/stable/modules/generated/sklearn.neighbors.KNeighborsClassifier.html"
   ]
  },
  {
   "cell_type": "code",
   "execution_count": 10,
   "metadata": {
    "ExecuteTime": {
     "end_time": "2023-10-26T08:43:49.792699019Z",
     "start_time": "2023-10-26T08:43:49.782277729Z"
    }
   },
   "outputs": [],
   "source": [
    "import numpy as np"
   ]
  },
  {
   "cell_type": "code",
   "execution_count": 11,
   "outputs": [],
   "source": [
    "class KnnBruteClassifier:\n",
    "    \"\"\"Классификатор реализует взвешенное голосование по ближайшим соседям.\n",
    "    Поиск ближайшего соседа осуществляется полным перебором.\n",
    "    Параметры\n",
    "    ----------\n",
    "    n_neighbors : int, optional\n",
    "        Число ближайших соседей, учитывающихся в голосовании\n",
    "    weights : str, optional (default = 'uniform')\n",
    "        веса, используемые в голосовании. Возможные значения:\n",
    "        - 'uniform' : все веса равны.\n",
    "        - 'distance' : веса обратно пропорциональны расстоянию до классифицируемого объекта\n",
    "        -  функция, которая получает на вход массив расстояний и возвращает массив весов\n",
    "    metric: функция подсчета расстояния (по умолчанию l2).\n",
    "    \"\"\"\n",
    "    def __init__(self, n_neighbors=1, weights='uniform', metric=\"l2\"):\n",
    "        self.n_neighbors = n_neighbors\n",
    "        self.weights = weights\n",
    "        self.metric = metric\n",
    "\n",
    "\n",
    "    def fit(self, X, y):\n",
    "        \"\"\"Обучение модели.\n",
    "        Парметры\n",
    "        ----------\n",
    "        x : двумерным массив признаков размера n_queries x n_features\n",
    "        y : массив/список правильных меток размера n_queries\n",
    "        Выход\n",
    "        -------\n",
    "        Метод возвращает обученную модель\n",
    "        \"\"\"\n",
    "        self.X_train = X\n",
    "        self.y_train = y\n",
    "\n",
    "    def predict(self, X):\n",
    "        \"\"\" Предсказание класса для входных объектов\n",
    "        Параметры\n",
    "        ----------\n",
    "        X : двумерным массив признаков размера n_queries x n_features\n",
    "        Выход\n",
    "        -------\n",
    "        y : Массив размера n_queries\n",
    "        \"\"\"\n",
    "        predictions = []\n",
    "        for x in X:\n",
    "            distances = np.linalg.norm(self.X_train - x, axis=1)\n",
    "            if self.weights == 'uniform':\n",
    "                nearest_indices = np.argpartition(distances, self.n_neighbors)[:self.n_neighbors]\n",
    "            elif self.weights == 'distance':\n",
    "                inverse_distances = 1 / (distances + 1e-10)\n",
    "                weighted_nearest_indices = np.argpartition(inverse_distances, self.n_neighbors)[self.n_neighbors:]\n",
    "                nearest_indices = weighted_nearest_indices[np.argsort(inverse_distances[weighted_nearest_indices])]\n",
    "\n",
    "            nearest_labels = self.y_train[nearest_indices]\n",
    "            unique, counts = np.unique(nearest_labels, return_counts=True)\n",
    "            predicted_label = unique[np.argmax(counts)]\n",
    "            predictions.append(predicted_label)\n",
    "        return np.array(predictions)\n",
    "\n",
    "    def predict_proba(self, X):\n",
    "        \"\"\"Возвращает вероятности классов для входных объектов\n",
    "        Параметры\n",
    "        ----------\n",
    "        X : двумерным массив признаков размера n_queries x n_features\n",
    "        Выход\n",
    "        -------\n",
    "        p : массив размера n_queries x n_classes] c вероятностями принадлежности\n",
    "        объекта к каждому классу\n",
    "        \"\"\"\n",
    "        proba = []\n",
    "        for x in X:\n",
    "            distances = np.linalg.norm(self.X_train - x, axis=1)\n",
    "            if self.weights == 'uniform':\n",
    "                nearest_indices = np.argpartition(distances, self.n_neighbors)[:self.n_neighbors]\n",
    "            elif self.weights == 'distance':\n",
    "                inverse_distances = 1 / (distances + 1e-10)\n",
    "                weighted_nearest_indices = np.argpartition(inverse_distances, self.n_neighbors)[self.n_neighbors:]\n",
    "                nearest_indices = weighted_nearest_indices[np.argsort(inverse_distances[weighted_nearest_indices])]\n",
    "\n",
    "            nearest_labels = self.y_train[nearest_indices]\n",
    "            unique, counts = np.unique(nearest_labels, return_counts=True)\n",
    "            class_proba = counts / self.n_neighbors\n",
    "            proba.append(class_proba)\n",
    "        return np.array(proba)\n",
    "\n",
    "    def kneighbors(self, X, n_neighbors):\n",
    "        \"\"\"Возвращает n_neighbors ближайших соседей для всех входных объектов и расстояния до них\n",
    "        Параметры\n",
    "        ----------\n",
    "        X : двумерным массив признаков размера n_queries x n_features\n",
    "        Выход\n",
    "        -------\n",
    "        neigh_dist массив размера n_queries х n_neighbors\n",
    "        расстояния до ближайших элементов\n",
    "        neigh_indarray, массив размера n_queries x n_neighbors\n",
    "        индексы ближайших элементов\n",
    "        \"\"\"\n",
    "        neigh_dist = []\n",
    "        neigh_ind = []\n",
    "        for x in X:\n",
    "            distances = np.linalg.norm(self.X_train - x, axis=1)\n",
    "            nearest_indices = np.argpartition(distances, n_neighbors)[:n_neighbors]\n",
    "            nearest_distances = distances[nearest_indices]\n",
    "            neigh_dist.append(nearest_distances)\n",
    "            neigh_ind.append(nearest_indices)\n",
    "        return np.array(neigh_dist), np.array(neigh_ind)"
   ],
   "metadata": {
    "collapsed": false,
    "ExecuteTime": {
     "end_time": "2023-10-26T08:43:49.828140178Z",
     "start_time": "2023-10-26T08:43:49.827534033Z"
    }
   }
  },
  {
   "cell_type": "code",
   "execution_count": 12,
   "outputs": [],
   "source": [
    "def load_file(filename):\n",
    "    raw_data = np.load(filename, allow_pickle=True)\n",
    "    return {'X_train': raw_data[()]['X_train'], 'y_train': raw_data[()]['y_train'], 'X_test': raw_data[()]['X_test']}"
   ],
   "metadata": {
    "collapsed": false,
    "ExecuteTime": {
     "end_time": "2023-10-26T08:43:49.828748437Z",
     "start_time": "2023-10-26T08:43:49.828528233Z"
    }
   }
  },
  {
   "cell_type": "markdown",
   "source": [],
   "metadata": {
    "collapsed": false
   }
  },
  {
   "cell_type": "code",
   "execution_count": 13,
   "outputs": [],
   "source": [
    "input_filename = \"knn_data_065.npy\"\n",
    "data_dict = load_file(input_filename)"
   ],
   "metadata": {
    "collapsed": false,
    "ExecuteTime": {
     "end_time": "2023-10-26T08:43:49.829014714Z",
     "start_time": "2023-10-26T08:43:49.828654339Z"
    }
   }
  },
  {
   "cell_type": "code",
   "execution_count": 14,
   "outputs": [],
   "source": [
    "model = KnnBruteClassifier(n_neighbors=5, weights='uniform')\n",
    "model.fit(data_dict[\"X_train\"], data_dict[\"y_train\"])\n",
    "l2_uniform_n5_y_predict = model.predict(data_dict[\"X_test\"])"
   ],
   "metadata": {
    "collapsed": false,
    "ExecuteTime": {
     "end_time": "2023-10-26T08:43:49.829212889Z",
     "start_time": "2023-10-26T08:43:49.828912681Z"
    }
   }
  },
  {
   "cell_type": "code",
   "execution_count": 15,
   "outputs": [],
   "source": [
    "model = KnnBruteClassifier(n_neighbors=10, weights='uniform')\n",
    "model.fit(data_dict[\"X_train\"], data_dict[\"y_train\"])\n",
    "l2_uniform_10_y_predict = model.predict(data_dict[\"X_test\"])"
   ],
   "metadata": {
    "collapsed": false,
    "ExecuteTime": {
     "end_time": "2023-10-26T08:43:49.871254637Z",
     "start_time": "2023-10-26T08:43:49.870772934Z"
    }
   }
  },
  {
   "cell_type": "code",
   "execution_count": 16,
   "outputs": [],
   "source": [
    "model = KnnBruteClassifier(n_neighbors=5, weights='distance')\n",
    "model.fit(data_dict[\"X_train\"], data_dict[\"y_train\"])\n",
    "l2_distance_n5_y_predict = model.predict(data_dict[\"X_test\"])"
   ],
   "metadata": {
    "collapsed": false,
    "ExecuteTime": {
     "end_time": "2023-10-26T08:43:49.871639586Z",
     "start_time": "2023-10-26T08:43:49.871077780Z"
    }
   }
  },
  {
   "cell_type": "markdown",
   "source": [],
   "metadata": {
    "collapsed": false
   }
  },
  {
   "cell_type": "code",
   "execution_count": 17,
   "outputs": [],
   "source": [
    "output_filename = \"results.npy\"\n",
    "result_dict = {\n",
    "    \"input_filename\": input_filename,\n",
    "    \"l2_uniform_n5_y_predict\": l2_uniform_n5_y_predict,\n",
    "    \"l2_uniform_10_y_predict\": l2_uniform_10_y_predict,\n",
    "    \"l2_distance_n5_y_predict\": l2_distance_n5_y_predict,\n",
    "}\n",
    "np.save(output_filename, result_dict)"
   ],
   "metadata": {
    "collapsed": false,
    "ExecuteTime": {
     "end_time": "2023-10-26T08:43:49.871852768Z",
     "start_time": "2023-10-26T08:43:49.871552290Z"
    }
   }
  },
  {
   "cell_type": "code",
   "execution_count": 2,
   "outputs": [
    {
     "name": "stdout",
     "output_type": "stream",
     "text": [
      "[x = 11223344]\n"
     ]
    }
   ],
   "source": [
    "from z3 import *\n",
    "s=Solver()\n",
    "x=BitVec(\"x\" ,32)\n",
    "a=1103515245\n",
    "c=12345\n",
    "s.add((((x*a)+c)>>16) & 32767 == 4583)\n",
    "s.add((((((x*a)+c)*a)+c)>>16) & 32767 == 16304)\n",
    "s.check()\n",
    "print(s.model())"
   ],
   "metadata": {
    "collapsed": false,
    "ExecuteTime": {
     "end_time": "2023-10-31T00:56:01.431150867Z",
     "start_time": "2023-10-31T00:55:59.344991987Z"
    }
   }
  }
 ],
 "metadata": {
  "kernelspec": {
   "display_name": "Python 3 (ipykernel)",
   "language": "python",
   "name": "python3"
  },
  "language_info": {
   "codemirror_mode": {
    "name": "ipython",
    "version": 3
   },
   "file_extension": ".py",
   "mimetype": "text/x-python",
   "name": "python",
   "nbconvert_exporter": "python",
   "pygments_lexer": "ipython3",
   "version": "3.11.5"
  }
 },
 "nbformat": 4,
 "nbformat_minor": 4
}
