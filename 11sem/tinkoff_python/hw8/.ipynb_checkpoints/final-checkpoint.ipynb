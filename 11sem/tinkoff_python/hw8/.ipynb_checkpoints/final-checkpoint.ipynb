{
 "cells": [
  {
   "cell_type": "markdown",
   "id": "91aaf227",
   "metadata": {
    "id": "91aaf227"
   },
   "source": [
    "## Краткое описание задания\n",
    "Перед вами 7 заданий с разным уровнем сложности на основе одного датафрейма.\n",
    "\n",
    "Зачет будет проходить в формате общения на предмет решенных задач, где будем обсуждать не только полученные ответы, но и путь решения/почему такой ответ мог получиться.\n",
    "\n",
    "Для большей части задач визуализация является важным дополнением, без которой возможно получение только неполного балла. Для последней задачи итоговый балл варьируется в зависимости от сложности представленного решения."
   ]
  },
  {
   "cell_type": "code",
   "execution_count": 1,
   "id": "9oYaTkr2ElVe",
   "metadata": {
    "id": "9oYaTkr2ElVe"
   },
   "outputs": [],
   "source": [
    "import pandas as pd\n",
    "import matplotlib"
   ]
  },
  {
   "cell_type": "code",
   "execution_count": 2,
   "id": "L18KwYdFCTeb",
   "metadata": {
    "colab": {
     "base_uri": "https://localhost:8080/",
     "height": 328
    },
    "id": "L18KwYdFCTeb",
    "outputId": "3c437473-b87a-4c7b-e266-64ff050ca553"
   },
   "outputs": [
    {
     "data": {
      "text/html": [
       "<div>\n",
       "<style scoped>\n",
       "    .dataframe tbody tr th:only-of-type {\n",
       "        vertical-align: middle;\n",
       "    }\n",
       "\n",
       "    .dataframe tbody tr th {\n",
       "        vertical-align: top;\n",
       "    }\n",
       "\n",
       "    .dataframe thead th {\n",
       "        text-align: right;\n",
       "    }\n",
       "</style>\n",
       "<table border=\"1\" class=\"dataframe\">\n",
       "  <thead>\n",
       "    <tr style=\"text-align: right;\">\n",
       "      <th></th>\n",
       "      <th>user_id</th>\n",
       "      <th>date_</th>\n",
       "      <th>prosmotr</th>\n",
       "      <th>story_id</th>\n",
       "      <th>age</th>\n",
       "      <th>device_type</th>\n",
       "      <th>app_or_web</th>\n",
       "      <th>browser</th>\n",
       "      <th>os</th>\n",
       "      <th>gender</th>\n",
       "      <th>geo_country</th>\n",
       "      <th>geo_region</th>\n",
       "      <th>geo_city</th>\n",
       "      <th>day_of_week</th>\n",
       "      <th>user_hour</th>\n",
       "      <th>button_tap_flg</th>\n",
       "      <th>like_tap_flg</th>\n",
       "      <th>share_tap_flg</th>\n",
       "      <th>favorite_tap_flg</th>\n",
       "      <th>name</th>\n",
       "    </tr>\n",
       "  </thead>\n",
       "  <tbody>\n",
       "    <tr>\n",
       "      <th>0</th>\n",
       "      <td>7143ce74749c9d588e3bef0a43260a2cdc5f29ba9e020d...</td>\n",
       "      <td>2022-10-16</td>\n",
       "      <td>1</td>\n",
       "      <td>17281</td>\n",
       "      <td>29</td>\n",
       "      <td>HIGHEND_PHONE</td>\n",
       "      <td>APP</td>\n",
       "      <td>Mobile Safari</td>\n",
       "      <td>iOS</td>\n",
       "      <td>M</td>\n",
       "      <td>RU</td>\n",
       "      <td>MOW</td>\n",
       "      <td>Москва</td>\n",
       "      <td>6,0</td>\n",
       "      <td>15,0</td>\n",
       "      <td>1</td>\n",
       "      <td>0</td>\n",
       "      <td>0</td>\n",
       "      <td>0</td>\n",
       "      <td>NaN</td>\n",
       "    </tr>\n",
       "    <tr>\n",
       "      <th>1</th>\n",
       "      <td>5ab91653f362eb92a4f1c4148aff76c5145f40d3fbd8c7...</td>\n",
       "      <td>2022-10-20</td>\n",
       "      <td>1</td>\n",
       "      <td>11626</td>\n",
       "      <td>24</td>\n",
       "      <td>HIGHEND_PHONE</td>\n",
       "      <td>APP</td>\n",
       "      <td>Mobile Safari</td>\n",
       "      <td>iOS</td>\n",
       "      <td>M</td>\n",
       "      <td>RU</td>\n",
       "      <td>LEN</td>\n",
       "      <td>NaN</td>\n",
       "      <td>4,0</td>\n",
       "      <td>12,0</td>\n",
       "      <td>0</td>\n",
       "      <td>0</td>\n",
       "      <td>0</td>\n",
       "      <td>0</td>\n",
       "      <td>Ваша карта Tinkoff Black</td>\n",
       "    </tr>\n",
       "    <tr>\n",
       "      <th>2</th>\n",
       "      <td>4843a90a104d5b37e2db0c961dafb94c4a0d6ef40254f8...</td>\n",
       "      <td>2022-10-16</td>\n",
       "      <td>1</td>\n",
       "      <td>19778</td>\n",
       "      <td>30</td>\n",
       "      <td>HIGHEND_PHONE</td>\n",
       "      <td>APP</td>\n",
       "      <td>Unknown MIUI Browser</td>\n",
       "      <td>Android</td>\n",
       "      <td>F</td>\n",
       "      <td>RU</td>\n",
       "      <td>ORL</td>\n",
       "      <td>Орёл</td>\n",
       "      <td>7,0</td>\n",
       "      <td>15,0</td>\n",
       "      <td>0</td>\n",
       "      <td>0</td>\n",
       "      <td>0</td>\n",
       "      <td>0</td>\n",
       "      <td>Ваши  письма  в прошлое</td>\n",
       "    </tr>\n",
       "  </tbody>\n",
       "</table>\n",
       "</div>"
      ],
      "text/plain": [
       "                                             user_id       date_  prosmotr  \\\n",
       "0  7143ce74749c9d588e3bef0a43260a2cdc5f29ba9e020d...  2022-10-16         1   \n",
       "1  5ab91653f362eb92a4f1c4148aff76c5145f40d3fbd8c7...  2022-10-20         1   \n",
       "2  4843a90a104d5b37e2db0c961dafb94c4a0d6ef40254f8...  2022-10-16         1   \n",
       "\n",
       "   story_id  age    device_type app_or_web               browser       os  \\\n",
       "0     17281   29  HIGHEND_PHONE        APP         Mobile Safari      iOS   \n",
       "1     11626   24  HIGHEND_PHONE        APP         Mobile Safari      iOS   \n",
       "2     19778   30  HIGHEND_PHONE        APP  Unknown MIUI Browser  Android   \n",
       "\n",
       "  gender geo_country geo_region geo_city day_of_week user_hour  \\\n",
       "0      M          RU        MOW   Москва         6,0      15,0   \n",
       "1      M          RU        LEN      NaN         4,0      12,0   \n",
       "2      F          RU        ORL     Орёл         7,0      15,0   \n",
       "\n",
       "   button_tap_flg  like_tap_flg  share_tap_flg  favorite_tap_flg  \\\n",
       "0               1             0              0                 0   \n",
       "1               0             0              0                 0   \n",
       "2               0             0              0                 0   \n",
       "\n",
       "                       name  \n",
       "0                       NaN  \n",
       "1  Ваша карта Tinkoff Black  \n",
       "2   Ваши  письма  в прошлое  "
      ]
     },
     "execution_count": 2,
     "metadata": {},
     "output_type": "execute_result"
    }
   ],
   "source": [
    "df = pd.read_csv('final_ff_1.csv', delimiter=';')\n",
    "df.head(3)"
   ]
  },
  {
   "cell_type": "markdown",
   "id": "f6e5a90b",
   "metadata": {
    "id": "f6e5a90b"
   },
   "source": [
    "## Задание 1 [5 баллов]\n",
    "\n",
    "* Разбейте пользователей приложения на возрастные группы с интервалом в 5 лет (например, группа пользователей  (20-25] лет).\n",
    "Выделите среди них возрастную группу, которая стала самой активной (в абсолютных значениях) в репостах сторис.\n",
    "В ответе отразите возрастной интервал, а также кол-во репостов сторис\n",
    "#### Формат ответа:\n",
    "40-45; 1111"
   ]
  },
  {
   "cell_type": "markdown",
   "id": "76d4b334-d732-448e-b162-1a59984aba19",
   "metadata": {},
   "source": [
    "### Решение:"
   ]
  },
  {
   "cell_type": "code",
   "execution_count": 24,
   "id": "BRgN_bqWh7vv",
   "metadata": {
    "colab": {
     "base_uri": "https://localhost:8080/"
    },
    "id": "BRgN_bqWh7vv",
    "outputId": "739cee8a-d7c1-437f-f557-37373bf10d89"
   },
   "outputs": [
    {
     "data": {
      "text/plain": [
       "<Axes: ylabel='Frequency'>"
      ]
     },
     "execution_count": 24,
     "metadata": {},
     "output_type": "execute_result"
    },
    {
     "data": {
      "image/png": "[encoded data removed]",
      "text/plain": [
       "<Figure size 640x480 with 1 Axes>"
      ]
     },
     "metadata": {},
     "output_type": "display_data"
    }
   ],
   "source": [
    "df = pd.read_csv('final_ff_1.csv', delimiter=';')\n",
    "df['age_group'] = df['age'].apply(lambda x: 5.0 * round(x / 5.0))\n",
    "df['age_group'].plot(kind='hist', bins=20, grid=True)"
   ]
  },
  {
   "cell_type": "code",
   "execution_count": 5,
   "id": "i0O5KYjkoBXE",
   "metadata": {
    "colab": {
     "base_uri": "https://localhost:8080/"
    },
    "id": "i0O5KYjkoBXE",
    "outputId": "881ba2b5-f60a-48ae-acd5-cb2b87b60b76"
   },
   "outputs": [
    {
     "name": "stdout",
     "output_type": "stream",
     "text": [
      "AGE GROUP: 0, SHARE TAPS: 0\n",
      "AGE GROUP: 5, SHARE TAPS: 0\n",
      "AGE GROUP: 10, SHARE TAPS: 0\n",
      "AGE GROUP: 15, SHARE TAPS: 83\n",
      "AGE GROUP: 20, SHARE TAPS: 161\n",
      "AGE GROUP: 25, SHARE TAPS: 227\n",
      "AGE GROUP: 30, SHARE TAPS: 230\n",
      "AGE GROUP: 35, SHARE TAPS: 238\n",
      "AGE GROUP: 40, SHARE TAPS: 175\n",
      "AGE GROUP: 45, SHARE TAPS: 106\n",
      "AGE GROUP: 50, SHARE TAPS: 85\n",
      "AGE GROUP: 55, SHARE TAPS: 54\n",
      "AGE GROUP: 60, SHARE TAPS: 52\n",
      "AGE GROUP: 65, SHARE TAPS: 25\n",
      "AGE GROUP: 70, SHARE TAPS: 6\n",
      "AGE GROUP: 75, SHARE TAPS: 6\n",
      "AGE GROUP: 80, SHARE TAPS: 2\n",
      "AGE GROUP: 85, SHARE TAPS: 0\n",
      "AGE GROUP: 90, SHARE TAPS: 0\n",
      "AGE GROUP: 95, SHARE TAPS: 0\n"
     ]
    }
   ],
   "source": [
    "for i in range(0, 100, 5):\n",
    "  print(f\"AGE GROUP: {i}, SHARE TAPS: {(df.loc[df['age_group'] == i])['share_tap_flg'].sum()}\")"
   ]
  },
  {
   "cell_type": "markdown",
   "id": "Qu2sqFuGzHtT",
   "metadata": {
    "id": "Qu2sqFuGzHtT"
   },
   "source": [
    "#### Ответ: AGE GROUP: 35, SHARE TAPS: 238"
   ]
  },
  {
   "cell_type": "markdown",
   "id": "8e143698",
   "metadata": {
    "id": "8e143698"
   },
   "source": [
    "## Задание 2 [5 баллов]\n",
    "\n",
    "* Кто чаще ставит лайки сторис: пользователи, которые находятся внутри страны (inside_country),или пользователи за её пределами(outside_country)?\n",
    "В ответе укажите, кто ставит лайки чаще, а также укажите долю лайков от общего количества показанных сторис для данной группы (округлите проценты до тысячных).\n",
    "#### Формат ответа:\n",
    "outside_country; 20.012\n",
    "\n"
   ]
  },
  {
   "cell_type": "markdown",
   "id": "fee541f8-a399-4fee-b7ee-7091c50e467e",
   "metadata": {},
   "source": [
    "### Решение:"
   ]
  },
  {
   "cell_type": "code",
   "execution_count": 6,
   "id": "bjwRA6qk1PYT",
   "metadata": {
    "id": "bjwRA6qk1PYT"
   },
   "outputs": [
    {
     "name": "stdout",
     "output_type": "stream",
     "text": [
      "WHERE: inside_country, LIKE STORIES: 4368\n",
      "WHERE: outside_country, LIKE STORIES: 156\n"
     ]
    },
    {
     "data": {
      "text/plain": [
       "622454"
      ]
     },
     "execution_count": 6,
     "metadata": {},
     "output_type": "execute_result"
    }
   ],
   "source": [
    "df = pd.read_csv('final_ff_1.csv', delimiter=';')\n",
    "df['in_country'] = df['geo_country'].apply(lambda x: 'inside_country' if x == 'RU' else 'outside_country')\n",
    "\n",
    "for i in ['inside_country', 'outside_country']:\n",
    "  print(f\"WHERE: {i}, LIKE STORIES: {(df.loc[df['in_country'] == i])['like_tap_flg'].sum()}\")\n",
    "    \n",
    "df.loc[df['in_country'] == 'inside_country']['prosmotr'].sum()"
   ]
  },
  {
   "cell_type": "code",
   "execution_count": 7,
   "id": "C8P9UKzmzgdM",
   "metadata": {
    "colab": {
     "base_uri": "https://localhost:8080/"
    },
    "id": "C8P9UKzmzgdM",
    "outputId": "b5d0d0b6-829e-4f81-d445-8ecacc9315ea"
   },
   "outputs": [
    {
     "name": "stdout",
     "output_type": "stream",
     "text": [
      "inside_country; 0.702\n",
      "outside_country; 0.025\n"
     ]
    }
   ],
   "source": [
    "print (f'inside_country; {round(4368 / 622454 * 100, 3)}')\n",
    "print (f'outside_country; {round(156 / 622454 * 100, 3)}')"
   ]
  },
  {
   "cell_type": "markdown",
   "id": "371b421f-d844-46a1-9c3a-4111ebd03a7e",
   "metadata": {},
   "source": [
    "#### Ответ: inside_country; 0.702"
   ]
  },
  {
   "cell_type": "markdown",
   "id": "8dc735c5",
   "metadata": {
    "id": "8dc735c5"
   },
   "source": [
    "## Задание 3 [5 баллов]\n",
    "\n",
    "* Назовите краткое название сторис (поле name), которая показала наибольшую конверсию в категорию \"любимые\" (т.е. были добавлены в закладки пользователями - favorite_tap_flg). При выборе анализируйте только те сторис, которые были показаны более, чем 100 раз.\n",
    "\n"
   ]
  },
  {
   "cell_type": "code",
   "execution_count": 15,
   "id": "rfsNcrKENmEc",
   "metadata": {
    "colab": {
     "base_uri": "https://localhost:8080/",
     "height": 455
    },
    "id": "rfsNcrKENmEc",
    "outputId": "561f0b64-8e5d-480c-ad2d-42d8ef1a22bf"
   },
   "outputs": [
    {
     "data": {
      "text/html": [
       "<div>\n",
       "<style scoped>\n",
       "    .dataframe tbody tr th:only-of-type {\n",
       "        vertical-align: middle;\n",
       "    }\n",
       "\n",
       "    .dataframe tbody tr th {\n",
       "        vertical-align: top;\n",
       "    }\n",
       "\n",
       "    .dataframe thead th {\n",
       "        text-align: right;\n",
       "    }\n",
       "</style>\n",
       "<table border=\"1\" class=\"dataframe\">\n",
       "  <thead>\n",
       "    <tr style=\"text-align: right;\">\n",
       "      <th></th>\n",
       "      <th>prosmotr</th>\n",
       "      <th>favorite_tap_flg</th>\n",
       "      <th>conv</th>\n",
       "    </tr>\n",
       "    <tr>\n",
       "      <th>name</th>\n",
       "      <th></th>\n",
       "      <th></th>\n",
       "      <th></th>\n",
       "    </tr>\n",
       "  </thead>\n",
       "  <tbody>\n",
       "    <tr>\n",
       "      <th>Как выучить язык</th>\n",
       "      <td>127</td>\n",
       "      <td>7</td>\n",
       "      <td>0.055118</td>\n",
       "    </tr>\n",
       "    <tr>\n",
       "      <th>Почему потеют стекла</th>\n",
       "      <td>132</td>\n",
       "      <td>6</td>\n",
       "      <td>0.045455</td>\n",
       "    </tr>\n",
       "    <tr>\n",
       "      <th>Поддержка   T-команды</th>\n",
       "      <td>133</td>\n",
       "      <td>6</td>\n",
       "      <td>0.045113</td>\n",
       "    </tr>\n",
       "    <tr>\n",
       "      <th>Москва из окна трамвая</th>\n",
       "      <td>183</td>\n",
       "      <td>8</td>\n",
       "      <td>0.043716</td>\n",
       "    </tr>\n",
       "    <tr>\n",
       "      <th>Критическое мышление</th>\n",
       "      <td>102</td>\n",
       "      <td>4</td>\n",
       "      <td>0.039216</td>\n",
       "    </tr>\n",
       "    <tr>\n",
       "      <th>...</th>\n",
       "      <td>...</td>\n",
       "      <td>...</td>\n",
       "      <td>...</td>\n",
       "    </tr>\n",
       "    <tr>\n",
       "      <th>Совет дня:  экономить  на ремонте</th>\n",
       "      <td>147</td>\n",
       "      <td>0</td>\n",
       "      <td>0.000000</td>\n",
       "    </tr>\n",
       "    <tr>\n",
       "      <th>Совет дня: покупать выгодно</th>\n",
       "      <td>193</td>\n",
       "      <td>0</td>\n",
       "      <td>0.000000</td>\n",
       "    </tr>\n",
       "    <tr>\n",
       "      <th>Уход  за кожаной  обувью</th>\n",
       "      <td>145</td>\n",
       "      <td>0</td>\n",
       "      <td>0.000000</td>\n",
       "    </tr>\n",
       "    <tr>\n",
       "      <th>Финансовый чекап</th>\n",
       "      <td>138</td>\n",
       "      <td>0</td>\n",
       "      <td>0.000000</td>\n",
       "    </tr>\n",
       "    <tr>\n",
       "      <th>Эффект Дидро</th>\n",
       "      <td>179</td>\n",
       "      <td>0</td>\n",
       "      <td>0.000000</td>\n",
       "    </tr>\n",
       "  </tbody>\n",
       "</table>\n",
       "<p>287 rows × 3 columns</p>\n",
       "</div>"
      ],
      "text/plain": [
       "                                   prosmotr  favorite_tap_flg      conv\n",
       "name                                                                   \n",
       "Как выучить язык                        127                 7  0.055118\n",
       "Почему потеют стекла                    132                 6  0.045455\n",
       "Поддержка   T-команды                   133                 6  0.045113\n",
       "Москва из окна трамвая                  183                 8  0.043716\n",
       "Критическое мышление                    102                 4  0.039216\n",
       "...                                     ...               ...       ...\n",
       "Совет дня:  экономить  на ремонте       147                 0  0.000000\n",
       "Совет дня: покупать выгодно             193                 0  0.000000\n",
       "Уход  за кожаной  обувью                145                 0  0.000000\n",
       "Финансовый чекап                        138                 0  0.000000\n",
       "Эффект Дидро                            179                 0  0.000000\n",
       "\n",
       "[287 rows x 3 columns]"
      ]
     },
     "execution_count": 15,
     "metadata": {},
     "output_type": "execute_result"
    }
   ],
   "source": [
    "df = pd.read_csv('final_ff_1.csv', delimiter=';')\n",
    "df = df.groupby('name').agg({'prosmotr' : 'sum', 'favorite_tap_flg' : 'sum'}).sort_values('favorite_tap_flg', ascending=False)\n",
    "df = df[df['prosmotr'] > 100] \n",
    "df['conv'] = (df['favorite_tap_flg'] / df['prosmotr'])\n",
    "df.sort_values('conv', ascending=False)"
   ]
  },
  {
   "cell_type": "markdown",
   "id": "p9aQgXTsdN_D",
   "metadata": {
    "id": "p9aQgXTsdN_D"
   },
   "source": [
    "#### ОТВЕТ: Как выучить язык"
   ]
  },
  {
   "cell_type": "markdown",
   "id": "905f7987",
   "metadata": {
    "id": "905f7987"
   },
   "source": [
    "## Задание 5 [10 баллов]\n",
    "\n",
    "* Постройте распределение клиентов в зависимости от возраста, типа устройства и типа операционной системы\n",
    "* Ответьте на вопрос: \"Как меняется в зависимости от возраста число клиентов с каждым типом операционной системы и типом устройства?\""
   ]
  },
  {
   "cell_type": "code",
   "execution_count": 23,
   "id": "QKKvxpufdsZl",
   "metadata": {
    "colab": {
     "base_uri": "https://localhost:8080/",
     "height": 447
    },
    "id": "QKKvxpufdsZl",
    "outputId": "84cbebb6-6f42-483f-df42-da4f6f51e631"
   },
   "outputs": [
    {
     "data": {
      "text/plain": [
       "<Axes: ylabel='Frequency'>"
      ]
     },
     "execution_count": 23,
     "metadata": {},
     "output_type": "execute_result"
    },
    {
     "data": {
      "image/png": "[encoded data removed]",
      "text/plain": [
       "<Figure size 640x480 with 1 Axes>"
      ]
     },
     "metadata": {},
     "output_type": "display_data"
    }
   ],
   "source": [
    "df = pd.read_csv('final_ff_1.csv', delimiter=';')\n",
    "df['age'].plot(kind='hist', bins=100, grid=True)"
   ]
  },
  {
   "cell_type": "code",
   "execution_count": 17,
   "id": "Mk6ISR5GesVY",
   "metadata": {
    "colab": {
     "base_uri": "https://localhost:8080/"
    },
    "id": "Mk6ISR5GesVY",
    "outputId": "21993743-0c0c-4a0f-b8be-a5d82c7fef0c"
   },
   "outputs": [
    {
     "name": "stdout",
     "output_type": "stream",
     "text": [
      "AGE 0 : COUNT USERS: 1\n",
      "AGE 1 : COUNT USERS: 0\n",
      "AGE 2 : COUNT USERS: 0\n",
      "AGE 3 : COUNT USERS: 4\n",
      "AGE 4 : COUNT USERS: 0\n",
      "AGE 5 : COUNT USERS: 0\n",
      "AGE 6 : COUNT USERS: 1\n",
      "AGE 7 : COUNT USERS: 0\n",
      "AGE 8 : COUNT USERS: 3\n",
      "AGE 9 : COUNT USERS: 26\n",
      "AGE 10 : COUNT USERS: 11\n",
      "AGE 11 : COUNT USERS: 69\n",
      "AGE 12 : COUNT USERS: 17\n",
      "AGE 13 : COUNT USERS: 22\n",
      "AGE 14 : COUNT USERS: 11299\n",
      "AGE 15 : COUNT USERS: 9583\n",
      "AGE 16 : COUNT USERS: 11632\n",
      "AGE 17 : COUNT USERS: 14030\n",
      "AGE 18 : COUNT USERS: 18579\n",
      "AGE 19 : COUNT USERS: 20054\n",
      "AGE 20 : COUNT USERS: 19562\n",
      "AGE 21 : COUNT USERS: 20426\n",
      "AGE 22 : COUNT USERS: 21259\n",
      "AGE 23 : COUNT USERS: 20596\n",
      "AGE 24 : COUNT USERS: 21623\n",
      "AGE 25 : COUNT USERS: 21781\n",
      "AGE 26 : COUNT USERS: 21709\n",
      "AGE 27 : COUNT USERS: 21232\n",
      "AGE 28 : COUNT USERS: 21701\n",
      "AGE 29 : COUNT USERS: 20413\n",
      "AGE 30 : COUNT USERS: 20956\n",
      "AGE 31 : COUNT USERS: 22824\n",
      "AGE 32 : COUNT USERS: 23051\n",
      "AGE 33 : COUNT USERS: 23171\n",
      "AGE 34 : COUNT USERS: 22576\n",
      "AGE 35 : COUNT USERS: 21642\n",
      "AGE 36 : COUNT USERS: 19937\n",
      "AGE 37 : COUNT USERS: 18537\n",
      "AGE 38 : COUNT USERS: 16878\n",
      "AGE 39 : COUNT USERS: 15257\n",
      "AGE 40 : COUNT USERS: 13979\n",
      "AGE 41 : COUNT USERS: 11806\n",
      "AGE 42 : COUNT USERS: 11139\n",
      "AGE 43 : COUNT USERS: 10242\n",
      "AGE 44 : COUNT USERS: 9824\n",
      "AGE 45 : COUNT USERS: 8496\n",
      "AGE 46 : COUNT USERS: 8252\n",
      "AGE 47 : COUNT USERS: 7441\n",
      "AGE 48 : COUNT USERS: 7189\n",
      "AGE 49 : COUNT USERS: 6013\n",
      "AGE 50 : COUNT USERS: 5737\n",
      "AGE 51 : COUNT USERS: 5604\n",
      "AGE 52 : COUNT USERS: 4717\n",
      "AGE 53 : COUNT USERS: 4089\n",
      "AGE 54 : COUNT USERS: 3538\n",
      "AGE 55 : COUNT USERS: 3180\n",
      "AGE 56 : COUNT USERS: 2511\n",
      "AGE 57 : COUNT USERS: 2545\n",
      "AGE 58 : COUNT USERS: 2409\n",
      "AGE 59 : COUNT USERS: 2433\n",
      "AGE 60 : COUNT USERS: 2007\n",
      "AGE 61 : COUNT USERS: 1763\n",
      "AGE 62 : COUNT USERS: 1614\n",
      "AGE 63 : COUNT USERS: 1445\n",
      "AGE 64 : COUNT USERS: 1467\n",
      "AGE 65 : COUNT USERS: 960\n",
      "AGE 66 : COUNT USERS: 1009\n",
      "AGE 67 : COUNT USERS: 597\n",
      "AGE 68 : COUNT USERS: 595\n",
      "AGE 69 : COUNT USERS: 552\n",
      "AGE 70 : COUNT USERS: 414\n",
      "AGE 71 : COUNT USERS: 377\n",
      "AGE 72 : COUNT USERS: 266\n",
      "AGE 73 : COUNT USERS: 221\n",
      "AGE 74 : COUNT USERS: 198\n",
      "AGE 75 : COUNT USERS: 226\n",
      "AGE 76 : COUNT USERS: 139\n",
      "AGE 77 : COUNT USERS: 112\n",
      "AGE 78 : COUNT USERS: 71\n",
      "AGE 79 : COUNT USERS: 24\n",
      "AGE 80 : COUNT USERS: 39\n",
      "AGE 81 : COUNT USERS: 27\n",
      "AGE 82 : COUNT USERS: 24\n",
      "AGE 83 : COUNT USERS: 49\n",
      "AGE 84 : COUNT USERS: 31\n",
      "AGE 85 : COUNT USERS: 7\n",
      "AGE 86 : COUNT USERS: 13\n",
      "AGE 87 : COUNT USERS: 5\n",
      "AGE 88 : COUNT USERS: 2\n",
      "AGE 89 : COUNT USERS: 0\n",
      "AGE 90 : COUNT USERS: 2\n",
      "AGE 91 : COUNT USERS: 0\n",
      "AGE 92 : COUNT USERS: 5\n",
      "AGE 93 : COUNT USERS: 5\n",
      "AGE 94 : COUNT USERS: 0\n",
      "AGE 95 : COUNT USERS: 2\n",
      "AGE 96 : COUNT USERS: 0\n",
      "AGE 97 : COUNT USERS: 0\n",
      "AGE 98 : COUNT USERS: 0\n",
      "AGE 99 : COUNT USERS: 0\n"
     ]
    }
   ],
   "source": [
    "for i in range(100):\n",
    "  print(f\"AGE {i} : COUNT USERS: {df.loc[df['age'] == i]['user_id'].count()}\")"
   ]
  },
  {
   "cell_type": "code",
   "execution_count": 22,
   "id": "iTIRs-b7fhpE",
   "metadata": {
    "colab": {
     "base_uri": "https://localhost:8080/",
     "height": 482
    },
    "id": "iTIRs-b7fhpE",
    "outputId": "8e4b5681-9976-402b-b9ec-9d8ed8e9f23b"
   },
   "outputs": [
    {
     "data": {
      "text/plain": [
       "<Axes: xlabel='device_type'>"
      ]
     },
     "execution_count": 22,
     "metadata": {},
     "output_type": "execute_result"
    },
    {
     "data": {
      "image/png": "[encoded data removed]",
      "text/plain": [
       "<Figure size 640x480 with 1 Axes>"
      ]
     },
     "metadata": {},
     "output_type": "display_data"
    }
   ],
   "source": [
    "df = pd.read_csv('final_ff_1.csv', delimiter=';')\n",
    "df.groupby('device_type').agg({'user_id' : 'count'}).plot()"
   ]
  },
  {
   "cell_type": "code",
   "execution_count": 19,
   "id": "AsovQAkSg7Ed",
   "metadata": {
    "colab": {
     "base_uri": "https://localhost:8080/"
    },
    "id": "AsovQAkSg7Ed",
    "outputId": "9c744a2c-6945-4bbb-81d5-af72c2c9a38c"
   },
   "outputs": [
    {
     "name": "stdout",
     "output_type": "stream",
     "text": [
      "HIGHEND PHONE USERS: 628576\n"
     ]
    }
   ],
   "source": [
    "print(f\"HIGHEND PHONE USERS: {df.loc[df['device_type'] == 'HIGHEND_PHONE']['user_id'].count()}\")"
   ]
  },
  {
   "cell_type": "code",
   "execution_count": 21,
   "id": "arQmVxdZhJ_-",
   "metadata": {
    "colab": {
     "base_uri": "https://localhost:8080/",
     "height": 483
    },
    "id": "arQmVxdZhJ_-",
    "outputId": "8f3496a3-3b33-42c1-bdf4-34a96a7ec1b3"
   },
   "outputs": [
    {
     "data": {
      "text/plain": [
       "<Axes: xlabel='os'>"
      ]
     },
     "execution_count": 21,
     "metadata": {},
     "output_type": "execute_result"
    },
    {
     "data": {
      "image/png": "[encoded data removed]",
      "text/plain": [
       "<Figure size 640x480 with 1 Axes>"
      ]
     },
     "metadata": {},
     "output_type": "display_data"
    }
   ],
   "source": [
    "df = pd.read_csv('final_ff_1.csv', delimiter=';')\n",
    "df.groupby('os').agg({'user_id' : 'count'}).plot()"
   ]
  },
  {
   "cell_type": "code",
   "execution_count": null,
   "id": "kLmstkzwhYVX",
   "metadata": {
    "colab": {
     "base_uri": "https://localhost:8080/"
    },
    "id": "kLmstkzwhYVX",
    "outputId": "37b39dc1-350b-453b-b87d-7a4c8cca38db"
   },
   "outputs": [],
   "source": [
    "print(f\"ANDROID USERS: {df5.loc[df['os'] == 'Android']['user_id'].count()}\")\n",
    "print(f\"IOS USERS: {df5.loc[df['os'] == 'iOS']['user_id'].count()}\")\n"
   ]
  },
  {
   "cell_type": "code",
   "execution_count": 25,
   "id": "KlMIXSnIh5le",
   "metadata": {
    "colab": {
     "base_uri": "https://localhost:8080/",
     "height": 552
    },
    "id": "KlMIXSnIh5le",
    "outputId": "b6b04da3-e8d1-4235-db4b-774306633973"
   },
   "outputs": [
    {
     "data": {
      "text/plain": [
       "os\n",
       "Android    Axes(0.125,0.11;0.775x0.77)\n",
       "Unknown    Axes(0.125,0.11;0.775x0.77)\n",
       "Windows    Axes(0.125,0.11;0.775x0.77)\n",
       "iOS        Axes(0.125,0.11;0.775x0.77)\n",
       "iPadOS     Axes(0.125,0.11;0.775x0.77)\n",
       "Name: age, dtype: object"
      ]
     },
     "execution_count": 25,
     "metadata": {},
     "output_type": "execute_result"
    },
    {
     "data": {
      "image/png": "[encoded data removed]",
      "text/plain": [
       "<Figure size 640x480 with 1 Axes>"
      ]
     },
     "metadata": {},
     "output_type": "display_data"
    }
   ],
   "source": [
    "df = pd.read_csv('final_ff_1.csv', delimiter=';')\n",
    "df.groupby('os')['age'].plot(kind='hist', bins=100, grid=True)"
   ]
  },
  {
   "cell_type": "code",
   "execution_count": 26,
   "id": "70zdIfAAjwfC",
   "metadata": {
    "colab": {
     "base_uri": "https://localhost:8080/",
     "height": 557
    },
    "id": "70zdIfAAjwfC",
    "outputId": "787ea05c-03ae-47ba-d224-24e9d961c742"
   },
   "outputs": [
    {
     "data": {
      "text/plain": [
       "device_type\n",
       "BOT                  Axes(0.125,0.11;0.775x0.77)\n",
       "HIGHEND_PHONE        Axes(0.125,0.11;0.775x0.77)\n",
       "PERSONAL_COMPUTER    Axes(0.125,0.11;0.775x0.77)\n",
       "SET_TOP_BOX          Axes(0.125,0.11;0.775x0.77)\n",
       "TABLET               Axes(0.125,0.11;0.775x0.77)\n",
       "Name: age, dtype: object"
      ]
     },
     "execution_count": 26,
     "metadata": {},
     "output_type": "execute_result"
    },
    {
     "data": {
      "image/png": "[encoded data removed]",
      "text/plain": [
       "<Figure size 640x480 with 1 Axes>"
      ]
     },
     "metadata": {},
     "output_type": "display_data"
    }
   ],
   "source": [
    "df = pd.read_csv('final_ff_1.csv', delimiter=';')\n",
    "df.groupby('device_type')['age'].plot(kind='hist', bins=100, grid=True)"
   ]
  },
  {
   "cell_type": "markdown",
   "id": "HjOyR7WHkEFu",
   "metadata": {
    "id": "HjOyR7WHkEFu"
   },
   "source": [
    "#### ОТВЕТ:\n",
    "\n",
    "Самый популярный тип устройств HIGHEND PHONE USERS: 628576\n",
    "\n",
    "Самые популярные OS\n",
    "ANDROID USERS: 337705\n",
    "IOS USERS: 307016\n",
    "\n",
    "Количество пользователей с IOS максимально в возрастном диапазоне 20-25, пользователей же с Android больше всего в диапазоне 30-35 лет."
   ]
  },
  {
   "cell_type": "markdown",
   "id": "e18fc9ae",
   "metadata": {
    "id": "e18fc9ae"
   },
   "source": [
    "## Задание 6 [15 баллов]\n",
    "\n",
    "#### Представьте что вы аналитик сторис.\n",
    "* Определите категорию клиентов, у которых будет самая большая конверсия в лайк при запуске новой истории по тратам?\n",
    "* В какие дни эта история будет максимально эффективной и почему?\n"
   ]
  },
  {
   "cell_type": "code",
   "execution_count": 28,
   "id": "qP1_5aTFnnkI",
   "metadata": {
    "colab": {
     "base_uri": "https://localhost:8080/",
     "height": 670
    },
    "id": "qP1_5aTFnnkI",
    "outputId": "b0711185-2570-4a4b-97f1-a4b0275df63f"
   },
   "outputs": [
    {
     "data": {
      "text/html": [
       "<div>\n",
       "<style scoped>\n",
       "    .dataframe tbody tr th:only-of-type {\n",
       "        vertical-align: middle;\n",
       "    }\n",
       "\n",
       "    .dataframe tbody tr th {\n",
       "        vertical-align: top;\n",
       "    }\n",
       "\n",
       "    .dataframe thead th {\n",
       "        text-align: right;\n",
       "    }\n",
       "</style>\n",
       "<table border=\"1\" class=\"dataframe\">\n",
       "  <thead>\n",
       "    <tr style=\"text-align: right;\">\n",
       "      <th></th>\n",
       "      <th>user_id</th>\n",
       "      <th>date_</th>\n",
       "      <th>prosmotr</th>\n",
       "      <th>story_id</th>\n",
       "      <th>age</th>\n",
       "      <th>device_type</th>\n",
       "      <th>app_or_web</th>\n",
       "      <th>browser</th>\n",
       "      <th>os</th>\n",
       "      <th>gender</th>\n",
       "      <th>geo_country</th>\n",
       "      <th>geo_region</th>\n",
       "      <th>geo_city</th>\n",
       "      <th>day_of_week</th>\n",
       "      <th>user_hour</th>\n",
       "      <th>button_tap_flg</th>\n",
       "      <th>like_tap_flg</th>\n",
       "      <th>share_tap_flg</th>\n",
       "      <th>favorite_tap_flg</th>\n",
       "      <th>name</th>\n",
       "    </tr>\n",
       "  </thead>\n",
       "  <tbody>\n",
       "    <tr>\n",
       "      <th>23</th>\n",
       "      <td>fbdeea31f801627c213856eb12c41173786f754a886baf...</td>\n",
       "      <td>2022-10-16</td>\n",
       "      <td>1</td>\n",
       "      <td>12739</td>\n",
       "      <td>28</td>\n",
       "      <td>HIGHEND_PHONE</td>\n",
       "      <td>APP</td>\n",
       "      <td>Mobile Safari</td>\n",
       "      <td>iOS</td>\n",
       "      <td>M</td>\n",
       "      <td>RU</td>\n",
       "      <td>SVE</td>\n",
       "      <td>Среднеуральск</td>\n",
       "      <td>7,0</td>\n",
       "      <td>19,0</td>\n",
       "      <td>0</td>\n",
       "      <td>0</td>\n",
       "      <td>0</td>\n",
       "      <td>0</td>\n",
       "      <td>Ваши траты на продукты</td>\n",
       "    </tr>\n",
       "    <tr>\n",
       "      <th>51</th>\n",
       "      <td>eab38335d2c42eeb80beb778185dc70da4955e289b1eb0...</td>\n",
       "      <td>2022-10-22</td>\n",
       "      <td>1</td>\n",
       "      <td>12739</td>\n",
       "      <td>40</td>\n",
       "      <td>HIGHEND_PHONE</td>\n",
       "      <td>APP</td>\n",
       "      <td>Unknown MIUI Browser</td>\n",
       "      <td>Android</td>\n",
       "      <td>M</td>\n",
       "      <td>RU</td>\n",
       "      <td>KDA</td>\n",
       "      <td>NaN</td>\n",
       "      <td>4,0</td>\n",
       "      <td>10,0</td>\n",
       "      <td>0</td>\n",
       "      <td>0</td>\n",
       "      <td>0</td>\n",
       "      <td>0</td>\n",
       "      <td>Ваши траты на продукты</td>\n",
       "    </tr>\n",
       "    <tr>\n",
       "      <th>53</th>\n",
       "      <td>0bcd0c9f774ff142739a4a923998ff4ce93ee3cd4e62cb...</td>\n",
       "      <td>2022-10-17</td>\n",
       "      <td>1</td>\n",
       "      <td>12401</td>\n",
       "      <td>26</td>\n",
       "      <td>HIGHEND_PHONE</td>\n",
       "      <td>APP</td>\n",
       "      <td>Mobile Safari</td>\n",
       "      <td>iOS</td>\n",
       "      <td>M</td>\n",
       "      <td>RU</td>\n",
       "      <td>SVE</td>\n",
       "      <td>Екатеринбург</td>\n",
       "      <td>1,0</td>\n",
       "      <td>13,0</td>\n",
       "      <td>0</td>\n",
       "      <td>0</td>\n",
       "      <td>0</td>\n",
       "      <td>0</td>\n",
       "      <td>Траты на такси</td>\n",
       "    </tr>\n",
       "    <tr>\n",
       "      <th>60</th>\n",
       "      <td>33bde777d0d97173eb28dd55faa85dec7d6c0cb8b0929c...</td>\n",
       "      <td>2022-10-16</td>\n",
       "      <td>1</td>\n",
       "      <td>12399</td>\n",
       "      <td>17</td>\n",
       "      <td>HIGHEND_PHONE</td>\n",
       "      <td>APP</td>\n",
       "      <td>Mobile Safari</td>\n",
       "      <td>iOS</td>\n",
       "      <td>M</td>\n",
       "      <td>RU</td>\n",
       "      <td>CHE</td>\n",
       "      <td>Снежинск</td>\n",
       "      <td>7,0</td>\n",
       "      <td>19,0</td>\n",
       "      <td>0</td>\n",
       "      <td>0</td>\n",
       "      <td>0</td>\n",
       "      <td>0</td>\n",
       "      <td>Частые траты</td>\n",
       "    </tr>\n",
       "    <tr>\n",
       "      <th>61</th>\n",
       "      <td>6542714c9a5055360d7b515d55fdeae5746e7626560a17...</td>\n",
       "      <td>2022-10-18</td>\n",
       "      <td>1</td>\n",
       "      <td>12739</td>\n",
       "      <td>44</td>\n",
       "      <td>HIGHEND_PHONE</td>\n",
       "      <td>APP</td>\n",
       "      <td>Unknown Android App</td>\n",
       "      <td>Android</td>\n",
       "      <td>F</td>\n",
       "      <td>RU</td>\n",
       "      <td>CHE</td>\n",
       "      <td>Челябинск</td>\n",
       "      <td>7,0</td>\n",
       "      <td>15,0</td>\n",
       "      <td>0</td>\n",
       "      <td>0</td>\n",
       "      <td>0</td>\n",
       "      <td>0</td>\n",
       "      <td>Ваши траты на продукты</td>\n",
       "    </tr>\n",
       "    <tr>\n",
       "      <th>...</th>\n",
       "      <td>...</td>\n",
       "      <td>...</td>\n",
       "      <td>...</td>\n",
       "      <td>...</td>\n",
       "      <td>...</td>\n",
       "      <td>...</td>\n",
       "      <td>...</td>\n",
       "      <td>...</td>\n",
       "      <td>...</td>\n",
       "      <td>...</td>\n",
       "      <td>...</td>\n",
       "      <td>...</td>\n",
       "      <td>...</td>\n",
       "      <td>...</td>\n",
       "      <td>...</td>\n",
       "      <td>...</td>\n",
       "      <td>...</td>\n",
       "      <td>...</td>\n",
       "      <td>...</td>\n",
       "      <td>...</td>\n",
       "    </tr>\n",
       "    <tr>\n",
       "      <th>645846</th>\n",
       "      <td>e4f7970c8622f719a218ab033b5379eafef39f3fa64189...</td>\n",
       "      <td>2022-10-20</td>\n",
       "      <td>1</td>\n",
       "      <td>12399</td>\n",
       "      <td>71</td>\n",
       "      <td>HIGHEND_PHONE</td>\n",
       "      <td>APP</td>\n",
       "      <td>Mobile Safari</td>\n",
       "      <td>iOS</td>\n",
       "      <td>F</td>\n",
       "      <td>RU</td>\n",
       "      <td>MOS</td>\n",
       "      <td>Химки</td>\n",
       "      <td>2,0</td>\n",
       "      <td>19,0</td>\n",
       "      <td>0</td>\n",
       "      <td>0</td>\n",
       "      <td>0</td>\n",
       "      <td>0</td>\n",
       "      <td>Частые траты</td>\n",
       "    </tr>\n",
       "    <tr>\n",
       "      <th>645864</th>\n",
       "      <td>1069268b993ad96c62d06fce5039d4286976c63c0c8fb1...</td>\n",
       "      <td>2022-10-22</td>\n",
       "      <td>1</td>\n",
       "      <td>12399</td>\n",
       "      <td>18</td>\n",
       "      <td>HIGHEND_PHONE</td>\n",
       "      <td>APP</td>\n",
       "      <td>Mobile Safari</td>\n",
       "      <td>iOS</td>\n",
       "      <td>F</td>\n",
       "      <td>RU</td>\n",
       "      <td>IRK</td>\n",
       "      <td>Иркутск</td>\n",
       "      <td>5,0</td>\n",
       "      <td>14,0</td>\n",
       "      <td>0</td>\n",
       "      <td>0</td>\n",
       "      <td>0</td>\n",
       "      <td>0</td>\n",
       "      <td>Частые траты</td>\n",
       "    </tr>\n",
       "    <tr>\n",
       "      <th>645867</th>\n",
       "      <td>5944abb9d7adb1952d1c9abb2d33b7b46e076695851fed...</td>\n",
       "      <td>2022-10-21</td>\n",
       "      <td>1</td>\n",
       "      <td>12399</td>\n",
       "      <td>32</td>\n",
       "      <td>HIGHEND_PHONE</td>\n",
       "      <td>APP</td>\n",
       "      <td>Unknown Android App</td>\n",
       "      <td>Android</td>\n",
       "      <td>M</td>\n",
       "      <td>RU</td>\n",
       "      <td>PRI</td>\n",
       "      <td>Владивосток</td>\n",
       "      <td>5,0</td>\n",
       "      <td>13,0</td>\n",
       "      <td>0</td>\n",
       "      <td>0</td>\n",
       "      <td>0</td>\n",
       "      <td>0</td>\n",
       "      <td>Частые траты</td>\n",
       "    </tr>\n",
       "    <tr>\n",
       "      <th>645870</th>\n",
       "      <td>0d60d88a1ac1c81684d7494bac5766acba0a9cc33fde39...</td>\n",
       "      <td>2022-10-21</td>\n",
       "      <td>1</td>\n",
       "      <td>12739</td>\n",
       "      <td>25</td>\n",
       "      <td>HIGHEND_PHONE</td>\n",
       "      <td>APP</td>\n",
       "      <td>Mobile Safari</td>\n",
       "      <td>iOS</td>\n",
       "      <td>F</td>\n",
       "      <td>RU</td>\n",
       "      <td>MOW</td>\n",
       "      <td>Москва</td>\n",
       "      <td>3,0</td>\n",
       "      <td>20,0</td>\n",
       "      <td>0</td>\n",
       "      <td>0</td>\n",
       "      <td>0</td>\n",
       "      <td>0</td>\n",
       "      <td>Ваши траты на продукты</td>\n",
       "    </tr>\n",
       "    <tr>\n",
       "      <th>645872</th>\n",
       "      <td>5f9d3feba45af169b79c9d12ffa967b74957938178c217...</td>\n",
       "      <td>2022-10-16</td>\n",
       "      <td>1</td>\n",
       "      <td>12739</td>\n",
       "      <td>17</td>\n",
       "      <td>HIGHEND_PHONE</td>\n",
       "      <td>APP</td>\n",
       "      <td>Mobile Safari</td>\n",
       "      <td>iOS</td>\n",
       "      <td>M</td>\n",
       "      <td>RU</td>\n",
       "      <td>ROS</td>\n",
       "      <td>Ростов-на-Дону</td>\n",
       "      <td>6,0</td>\n",
       "      <td>20,0</td>\n",
       "      <td>0</td>\n",
       "      <td>0</td>\n",
       "      <td>0</td>\n",
       "      <td>0</td>\n",
       "      <td>Ваши траты на продукты</td>\n",
       "    </tr>\n",
       "  </tbody>\n",
       "</table>\n",
       "<p>55871 rows × 20 columns</p>\n",
       "</div>"
      ],
      "text/plain": [
       "                                                  user_id       date_  \\\n",
       "23      fbdeea31f801627c213856eb12c41173786f754a886baf...  2022-10-16   \n",
       "51      eab38335d2c42eeb80beb778185dc70da4955e289b1eb0...  2022-10-22   \n",
       "53      0bcd0c9f774ff142739a4a923998ff4ce93ee3cd4e62cb...  2022-10-17   \n",
       "60      33bde777d0d97173eb28dd55faa85dec7d6c0cb8b0929c...  2022-10-16   \n",
       "61      6542714c9a5055360d7b515d55fdeae5746e7626560a17...  2022-10-18   \n",
       "...                                                   ...         ...   \n",
       "645846  e4f7970c8622f719a218ab033b5379eafef39f3fa64189...  2022-10-20   \n",
       "645864  1069268b993ad96c62d06fce5039d4286976c63c0c8fb1...  2022-10-22   \n",
       "645867  5944abb9d7adb1952d1c9abb2d33b7b46e076695851fed...  2022-10-21   \n",
       "645870  0d60d88a1ac1c81684d7494bac5766acba0a9cc33fde39...  2022-10-21   \n",
       "645872  5f9d3feba45af169b79c9d12ffa967b74957938178c217...  2022-10-16   \n",
       "\n",
       "        prosmotr  story_id  age    device_type app_or_web  \\\n",
       "23             1     12739   28  HIGHEND_PHONE        APP   \n",
       "51             1     12739   40  HIGHEND_PHONE        APP   \n",
       "53             1     12401   26  HIGHEND_PHONE        APP   \n",
       "60             1     12399   17  HIGHEND_PHONE        APP   \n",
       "61             1     12739   44  HIGHEND_PHONE        APP   \n",
       "...          ...       ...  ...            ...        ...   \n",
       "645846         1     12399   71  HIGHEND_PHONE        APP   \n",
       "645864         1     12399   18  HIGHEND_PHONE        APP   \n",
       "645867         1     12399   32  HIGHEND_PHONE        APP   \n",
       "645870         1     12739   25  HIGHEND_PHONE        APP   \n",
       "645872         1     12739   17  HIGHEND_PHONE        APP   \n",
       "\n",
       "                     browser       os gender geo_country geo_region  \\\n",
       "23             Mobile Safari      iOS      M          RU        SVE   \n",
       "51      Unknown MIUI Browser  Android      M          RU        KDA   \n",
       "53             Mobile Safari      iOS      M          RU        SVE   \n",
       "60             Mobile Safari      iOS      M          RU        CHE   \n",
       "61       Unknown Android App  Android      F          RU        CHE   \n",
       "...                      ...      ...    ...         ...        ...   \n",
       "645846         Mobile Safari      iOS      F          RU        MOS   \n",
       "645864         Mobile Safari      iOS      F          RU        IRK   \n",
       "645867   Unknown Android App  Android      M          RU        PRI   \n",
       "645870         Mobile Safari      iOS      F          RU        MOW   \n",
       "645872         Mobile Safari      iOS      M          RU        ROS   \n",
       "\n",
       "              geo_city day_of_week user_hour  button_tap_flg  like_tap_flg  \\\n",
       "23       Среднеуральск         7,0      19,0               0             0   \n",
       "51                 NaN         4,0      10,0               0             0   \n",
       "53        Екатеринбург         1,0      13,0               0             0   \n",
       "60            Снежинск         7,0      19,0               0             0   \n",
       "61           Челябинск         7,0      15,0               0             0   \n",
       "...                ...         ...       ...             ...           ...   \n",
       "645846           Химки         2,0      19,0               0             0   \n",
       "645864         Иркутск         5,0      14,0               0             0   \n",
       "645867     Владивосток         5,0      13,0               0             0   \n",
       "645870          Москва         3,0      20,0               0             0   \n",
       "645872  Ростов-на-Дону         6,0      20,0               0             0   \n",
       "\n",
       "        share_tap_flg  favorite_tap_flg                    name  \n",
       "23                  0                 0  Ваши траты на продукты  \n",
       "51                  0                 0  Ваши траты на продукты  \n",
       "53                  0                 0          Траты на такси  \n",
       "60                  0                 0            Частые траты  \n",
       "61                  0                 0  Ваши траты на продукты  \n",
       "...               ...               ...                     ...  \n",
       "645846              0                 0            Частые траты  \n",
       "645864              0                 0            Частые траты  \n",
       "645867              0                 0            Частые траты  \n",
       "645870              0                 0  Ваши траты на продукты  \n",
       "645872              0                 0  Ваши траты на продукты  \n",
       "\n",
       "[55871 rows x 20 columns]"
      ]
     },
     "execution_count": 28,
     "metadata": {},
     "output_type": "execute_result"
    }
   ],
   "source": [
    "df = pd.read_csv('final_ff_1.csv', delimiter=';')\n",
    "df = df[df['name'].str.contains(r'[Т,т]раты', na=False)]\n",
    "df"
   ]
  },
  {
   "cell_type": "code",
   "execution_count": 29,
   "id": "VVkNHs-2slGH",
   "metadata": {
    "colab": {
     "base_uri": "https://localhost:8080/",
     "height": 447
    },
    "id": "VVkNHs-2slGH",
    "outputId": "18100991-2b9f-4429-d960-12c7c998922b"
   },
   "outputs": [
    {
     "data": {
      "text/plain": [
       "<Axes: ylabel='Frequency'>"
      ]
     },
     "execution_count": 29,
     "metadata": {},
     "output_type": "execute_result"
    },
    {
     "data": {
      "image/png": "[encoded data removed]",
      "text/plain": [
       "<Figure size 640x480 with 1 Axes>"
      ]
     },
     "metadata": {},
     "output_type": "display_data"
    }
   ],
   "source": [
    "df[df['like_tap_flg'] == 1]['age'].plot(kind='hist', bins=100, grid=True)"
   ]
  },
  {
   "cell_type": "code",
   "execution_count": 32,
   "id": "Gs02DNu4v030",
   "metadata": {
    "colab": {
     "base_uri": "https://localhost:8080/"
    },
    "id": "Gs02DNu4v030",
    "outputId": "2426a0dc-b24f-4ffa-a778-6ceada947ca1"
   },
   "outputs": [
    {
     "ename": "ValueError",
     "evalue": "The truth value of a Series is ambiguous. Use a.empty, a.bool(), a.item(), a.any() or a.all().",
     "output_type": "error",
     "traceback": [
      "\u001b[0;31m---------------------------------------------------------------------------\u001b[0m",
      "\u001b[0;31mValueError\u001b[0m                                Traceback (most recent call last)",
      "\u001b[0;32m/tmp/ipykernel_1530084/1763982265.py\u001b[0m in \u001b[0;36m?\u001b[0;34m()\u001b[0m\n\u001b[1;32m      1\u001b[0m \u001b[0;32mfor\u001b[0m \u001b[0mi\u001b[0m \u001b[0;32min\u001b[0m \u001b[0mrange\u001b[0m\u001b[0;34m(\u001b[0m\u001b[0;36m100\u001b[0m\u001b[0;34m)\u001b[0m\u001b[0;34m:\u001b[0m\u001b[0;34m\u001b[0m\u001b[0;34m\u001b[0m\u001b[0m\n\u001b[0;32m----> 2\u001b[0;31m   \u001b[0mprint\u001b[0m\u001b[0;34m(\u001b[0m\u001b[0;34mf\"AGE {i} : LIKES: {df.loc[(df['age'] == i) and (df['prosmotr'] == 1) and (df['like_tap_flg'] == 1)]['like_tap_flg'].count()}\"\u001b[0m\u001b[0;34m)\u001b[0m\u001b[0;34m\u001b[0m\u001b[0;34m\u001b[0m\u001b[0m\n\u001b[0m",
      "\u001b[0;32m/usr/lib/python3.11/site-packages/pandas/core/generic.py\u001b[0m in \u001b[0;36m?\u001b[0;34m(self)\u001b[0m\n\u001b[1;32m   1525\u001b[0m     \u001b[0;34m@\u001b[0m\u001b[0mfinal\u001b[0m\u001b[0;34m\u001b[0m\u001b[0;34m\u001b[0m\u001b[0m\n\u001b[1;32m   1526\u001b[0m     \u001b[0;32mdef\u001b[0m \u001b[0m__nonzero__\u001b[0m\u001b[0;34m(\u001b[0m\u001b[0mself\u001b[0m\u001b[0;34m)\u001b[0m \u001b[0;34m->\u001b[0m \u001b[0mNoReturn\u001b[0m\u001b[0;34m:\u001b[0m\u001b[0;34m\u001b[0m\u001b[0;34m\u001b[0m\u001b[0m\n\u001b[0;32m-> 1527\u001b[0;31m         raise ValueError(\n\u001b[0m\u001b[1;32m   1528\u001b[0m             \u001b[0;34mf\"The truth value of a {type(self).__name__} is ambiguous. \"\u001b[0m\u001b[0;34m\u001b[0m\u001b[0;34m\u001b[0m\u001b[0m\n\u001b[1;32m   1529\u001b[0m             \u001b[0;34m\"Use a.empty, a.bool(), a.item(), a.any() or a.all().\"\u001b[0m\u001b[0;34m\u001b[0m\u001b[0;34m\u001b[0m\u001b[0m\n\u001b[1;32m   1530\u001b[0m         )\n",
      "\u001b[0;31mValueError\u001b[0m: The truth value of a Series is ambiguous. Use a.empty, a.bool(), a.item(), a.any() or a.all()."
     ]
    }
   ],
   "source": [
    "for i in range(100):\n",
    "  print(f\"AGE {i} : LIKES: {df.loc[(df['age'] == i) & (df['prosmotr'] == 1) & (df['like_tap_flg'] == 1)]['like_tap_flg'].count()}\")"
   ]
  },
  {
   "cell_type": "code",
   "execution_count": null,
   "id": "cU9OSnB8ugKd",
   "metadata": {
    "colab": {
     "base_uri": "https://localhost:8080/",
     "height": 447
    },
    "id": "cU9OSnB8ugKd",
    "outputId": "1e2cfc6c-7cea-4f5d-a9c8-1fe351e6d90e"
   },
   "outputs": [],
   "source": [
    "df6[df6['like_tap_flg'] == 1]['age'].plot(kind='hist', bins=30, grid=True, xticks=[i for i in range(0,100,5)], yticks=[i for i in range(0,21, 1)])"
   ]
  },
  {
   "cell_type": "code",
   "execution_count": null,
   "id": "mX-_7K8ktYN5",
   "metadata": {
    "colab": {
     "base_uri": "https://localhost:8080/",
     "height": 482
    },
    "id": "mX-_7K8ktYN5",
    "outputId": "dcd1c88d-2c4e-4a0a-cfb4-27be9da30e59"
   },
   "outputs": [],
   "source": [
    "df6[(df6['age'] > 20) & (df6['age'] < 35)].groupby('day_of_week').agg({'prosmotr' : 'count'}).plot(figsize=(10,5))"
   ]
  },
  {
   "cell_type": "markdown",
   "id": "D4D3Sz1pxQyc",
   "metadata": {
    "id": "D4D3Sz1pxQyc"
   },
   "source": [
    "ОТВЕТ: Больше всего лайков идет от категории клиентов в возрасте 25-25 лет. Наиболее эффективна история будет в четверг или в воскресенье, поскольку количество просмотров будет максимальным."
   ]
  },
  {
   "cell_type": "code",
   "execution_count": null,
   "id": "wNVZmXHB4xhn",
   "metadata": {
    "colab": {
     "base_uri": "https://localhost:8080/"
    },
    "id": "wNVZmXHB4xhn",
    "outputId": "b515d44f-dc1e-4d9a-8ca3-58eddcc43081"
   },
   "outputs": [],
   "source": [
    "df7[df7['categories'] == 'Остальное']['categories'].count()"
   ]
  },
  {
   "cell_type": "markdown",
   "id": "2SowO-9u9iq1",
   "metadata": {
    "id": "2SowO-9u9iq1"
   },
   "source": [
    "Можно в любой момент выделить новую категорию в случае необходимости.\n",
    "\n",
    "Метрики:\n",
    "\n",
    "- всевозможные конверсии/воронки вроде Просмотр - Лайк, Просмотр -  Избранное, Просмотр - Поделиться\n",
    "\n",
    "- было бы неплохо добавить метрику для сториз со ссылками Просмотр - переход по ссылке\n",
    "\n",
    "- Количество просмотров сториз в дни первого месяца после регистрации новых пользователей. Нужно стремиться к тому, чтобы это значение стремилось к константе, а в идеале увеличивалось\n",
    "\n",
    "- Просмотр историй о подписках Тинькофф для пользователей без единой подписки\n",
    "\n",
    "- Отношение (количество дней с просмотром историй) / (количество дней, когда пользователей заходил в приложение)"
   ]
  }
 ],
 "metadata": {
  "colab": {
   "provenance": []
  },
  "kernelspec": {
   "display_name": "Python 3 (ipykernel)",
   "language": "python",
   "name": "python3"
  },
  "language_info": {
   "codemirror_mode": {
    "name": "ipython",
    "version": 3
   },
   "file_extension": ".py",
   "mimetype": "text/x-python",
   "name": "python",
   "nbconvert_exporter": "python",
   "pygments_lexer": "ipython3",
   "version": "3.11.6"
  },
  "vscode": {
   "interpreter": {
    "hash": "5ebfda1f520baf9a6c516fb37dde7521de9a0adcf5482da629f31f380eb5d40d"
   }
  }
 },
 "nbformat": 4,
 "nbformat_minor": 5
}
