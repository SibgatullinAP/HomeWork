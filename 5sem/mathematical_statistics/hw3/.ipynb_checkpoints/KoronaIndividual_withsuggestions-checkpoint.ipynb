{
 "cells": [
  {
   "cell_type": "markdown",
   "metadata": {},
   "source": [
    "Устанавливаем пакет для непараметрической статистики"
   ]
  },
  {
   "cell_type": "code",
   "execution_count": 1,
   "metadata": {
    "scrolled": true
   },
   "outputs": [
    {
     "name": "stdout",
     "output_type": "stream",
     "text": [
      "Requirement already satisfied: PyNonpar in /opt/anaconda3/lib/python3.7/site-packages (0.2.0)\n",
      "Requirement already satisfied: pytest in /opt/anaconda3/lib/python3.7/site-packages (from PyNonpar) (5.2.1)\n",
      "Requirement already satisfied: codecov in /opt/anaconda3/lib/python3.7/site-packages (from PyNonpar) (2.0.22)\n",
      "Requirement already satisfied: numpy in /opt/anaconda3/lib/python3.7/site-packages (from PyNonpar) (1.17.2)\n",
      "Requirement already satisfied: pytest-cov in /opt/anaconda3/lib/python3.7/site-packages (from PyNonpar) (2.8.1)\n",
      "Requirement already satisfied: scipy in /opt/anaconda3/lib/python3.7/site-packages (from PyNonpar) (1.3.1)\n",
      "Requirement already satisfied: pandas in /opt/anaconda3/lib/python3.7/site-packages (from PyNonpar) (0.25.1)\n",
      "Requirement already satisfied: numba in /opt/anaconda3/lib/python3.7/site-packages (from PyNonpar) (0.45.1)\n",
      "Requirement already satisfied: py>=1.5.0 in /opt/anaconda3/lib/python3.7/site-packages (from pytest->PyNonpar) (1.8.0)\n",
      "Requirement already satisfied: packaging in /opt/anaconda3/lib/python3.7/site-packages (from pytest->PyNonpar) (19.2)\n",
      "Requirement already satisfied: attrs>=17.4.0 in /opt/anaconda3/lib/python3.7/site-packages (from pytest->PyNonpar) (19.2.0)\n",
      "Requirement already satisfied: more-itertools>=4.0.0 in /opt/anaconda3/lib/python3.7/site-packages (from pytest->PyNonpar) (7.2.0)\n",
      "Requirement already satisfied: atomicwrites>=1.0 in /opt/anaconda3/lib/python3.7/site-packages (from pytest->PyNonpar) (1.3.0)\n",
      "Requirement already satisfied: pluggy<1.0,>=0.12 in /opt/anaconda3/lib/python3.7/site-packages (from pytest->PyNonpar) (0.13.0)\n",
      "Requirement already satisfied: wcwidth in /opt/anaconda3/lib/python3.7/site-packages (from pytest->PyNonpar) (0.1.7)\n",
      "Requirement already satisfied: importlib-metadata>=0.12 in /opt/anaconda3/lib/python3.7/site-packages (from pytest->PyNonpar) (0.23)\n",
      "Requirement already satisfied: requests>=2.7.9 in /opt/anaconda3/lib/python3.7/site-packages (from codecov->PyNonpar) (2.22.0)\n",
      "Requirement already satisfied: coverage in /opt/anaconda3/lib/python3.7/site-packages (from codecov->PyNonpar) (5.0.4)\n",
      "Requirement already satisfied: pytz>=2017.2 in /opt/anaconda3/lib/python3.7/site-packages (from pandas->PyNonpar) (2019.3)\n",
      "Requirement already satisfied: python-dateutil>=2.6.1 in /opt/anaconda3/lib/python3.7/site-packages (from pandas->PyNonpar) (2.8.0)\n",
      "Requirement already satisfied: llvmlite>=0.29.0dev0 in /opt/anaconda3/lib/python3.7/site-packages (from numba->PyNonpar) (0.29.0)\n",
      "Requirement already satisfied: pyparsing>=2.0.2 in /opt/anaconda3/lib/python3.7/site-packages (from packaging->pytest->PyNonpar) (2.4.2)\n",
      "Requirement already satisfied: six in /opt/anaconda3/lib/python3.7/site-packages (from packaging->pytest->PyNonpar) (1.12.0)\n",
      "Requirement already satisfied: zipp>=0.5 in /opt/anaconda3/lib/python3.7/site-packages (from importlib-metadata>=0.12->pytest->PyNonpar) (0.6.0)\n",
      "Requirement already satisfied: certifi>=2017.4.17 in /opt/anaconda3/lib/python3.7/site-packages (from requests>=2.7.9->codecov->PyNonpar) (2019.9.11)\n",
      "Requirement already satisfied: idna<2.9,>=2.5 in /opt/anaconda3/lib/python3.7/site-packages (from requests>=2.7.9->codecov->PyNonpar) (2.8)\n",
      "Requirement already satisfied: chardet<3.1.0,>=3.0.2 in /opt/anaconda3/lib/python3.7/site-packages (from requests>=2.7.9->codecov->PyNonpar) (3.0.4)\n",
      "Requirement already satisfied: urllib3!=1.25.0,!=1.25.1,<1.26,>=1.21.1 in /opt/anaconda3/lib/python3.7/site-packages (from requests>=2.7.9->codecov->PyNonpar) (1.24.2)\n",
      "Note: you may need to restart the kernel to use updated packages.\n"
     ]
    }
   ],
   "source": [
    "pip install PyNonpar\n"
   ]
  },
  {
   "cell_type": "markdown",
   "metadata": {},
   "source": [
    "Теперь его можно импортировать, как общепринятые пакеты"
   ]
  },
  {
   "cell_type": "code",
   "execution_count": 2,
   "metadata": {},
   "outputs": [],
   "source": [
    "import PyNonpar\n",
    "from PyNonpar import*\n",
    "\n"
   ]
  },
  {
   "cell_type": "markdown",
   "metadata": {},
   "source": [
    "Применяем точного Вилкоксона (затабулированного)"
   ]
  },
  {
   "cell_type": "code",
   "execution_count": 3,
   "metadata": {},
   "outputs": [
    {
     "name": "stderr",
     "output_type": "stream",
     "text": [
      "/opt/anaconda3/lib/python3.7/site-packages/numba/ir_utils.py:1959: NumbaPendingDeprecationWarning: \u001b[1m\n",
      "Encountered the use of a type that is scheduled for deprecation: type 'reflected list' found for argument 'data' of function '_psrank_average'.\n",
      "\n",
      "For more information visit http://numba.pydata.org/numba-doc/latest/reference/deprecation.html#deprecation-of-reflection-for-list-and-set-types\n",
      "\u001b[1m\n",
      "File \"../../../opt/anaconda3/lib/python3.7/site-packages/PyNonpar/pseudorank.py\", line 19:\u001b[0m\n",
      "\u001b[1m@nu.jit(nopython=True)\n",
      "\u001b[1mdef _psrank_average(data: list, group: list, N: int, n: list, a: int) -> list:\n",
      "\u001b[0m\u001b[1m^\u001b[0m\u001b[0m\n",
      "\u001b[0m\n",
      "  warnings.warn(NumbaPendingDeprecationWarning(msg, loc=loc))\n",
      "/opt/anaconda3/lib/python3.7/site-packages/numba/ir_utils.py:1959: NumbaPendingDeprecationWarning: \u001b[1m\n",
      "Encountered the use of a type that is scheduled for deprecation: type 'reflected list' found for argument 'group' of function '_psrank_average'.\n",
      "\n",
      "For more information visit http://numba.pydata.org/numba-doc/latest/reference/deprecation.html#deprecation-of-reflection-for-list-and-set-types\n",
      "\u001b[1m\n",
      "File \"../../../opt/anaconda3/lib/python3.7/site-packages/PyNonpar/pseudorank.py\", line 19:\u001b[0m\n",
      "\u001b[1m@nu.jit(nopython=True)\n",
      "\u001b[1mdef _psrank_average(data: list, group: list, N: int, n: list, a: int) -> list:\n",
      "\u001b[0m\u001b[1m^\u001b[0m\u001b[0m\n",
      "\u001b[0m\n",
      "  warnings.warn(NumbaPendingDeprecationWarning(msg, loc=loc))\n",
      "/opt/anaconda3/lib/python3.7/site-packages/numba/ir_utils.py:1959: NumbaPendingDeprecationWarning: \u001b[1m\n",
      "Encountered the use of a type that is scheduled for deprecation: type 'reflected list' found for argument 'n' of function '_psrank_average'.\n",
      "\n",
      "For more information visit http://numba.pydata.org/numba-doc/latest/reference/deprecation.html#deprecation-of-reflection-for-list-and-set-types\n",
      "\u001b[1m\n",
      "File \"../../../opt/anaconda3/lib/python3.7/site-packages/PyNonpar/pseudorank.py\", line 19:\u001b[0m\n",
      "\u001b[1m@nu.jit(nopython=True)\n",
      "\u001b[1mdef _psrank_average(data: list, group: list, N: int, n: list, a: int) -> list:\n",
      "\u001b[0m\u001b[1m^\u001b[0m\u001b[0m\n",
      "\u001b[0m\n",
      "  warnings.warn(NumbaPendingDeprecationWarning(msg, loc=loc))\n"
     ]
    },
    {
     "data": {
      "text/plain": [
       "WilcoxonMannWhitneyResult(alternative='less', statistic=123.5, HodgesLehmann=1.5, lowerCI=-2, upperCI=5, pvalue=0.0837915954015025)"
      ]
     },
     "execution_count": 3,
     "metadata": {},
     "output_type": "execute_result"
    }
   ],
   "source": [
    "x = [8,4,10,4,9,1,3,3,4,8]\n",
    "y = [10,5,11,6,11,2,4,5,5,10]\n",
    "\n",
    "PyNonpar.twosample.wilcoxon_mann_whitney_test(x, y, alternative=\"less\", method = \"exact\", alpha = 0.05)"
   ]
  },
  {
   "cell_type": "markdown",
   "metadata": {},
   "source": [
    "Теперь асимптотического"
   ]
  },
  {
   "cell_type": "code",
   "execution_count": 4,
   "metadata": {},
   "outputs": [
    {
     "data": {
      "text/plain": [
       "WilcoxonMannWhitneyResult(alternative='less', statistic=1.4096415789863137, HodgesLehmann=1.5, lowerCI=-2, upperCI=5, pvalue=0.07932277156815992)"
      ]
     },
     "execution_count": 4,
     "metadata": {},
     "output_type": "execute_result"
    }
   ],
   "source": [
    "PyNonpar.twosample.wilcoxon_mann_whitney_test(x, y, alternative=\"less\", method = \"asymptotic\", alpha = 0.05)"
   ]
  },
  {
   "cell_type": "markdown",
   "metadata": {},
   "source": [
    "HodgesLehmann - это оценка сдвига - медиана Ходжеса-Лемана - можно прочитать про нее в Холлендере-Вульфе"
   ]
  },
  {
   "cell_type": "markdown",
   "metadata": {},
   "source": [
    "Теперь попробуем с файлом"
   ]
  },
  {
   "cell_type": "code",
   "execution_count": 7,
   "metadata": {},
   "outputs": [],
   "source": [
    "import numpy as np\n",
    "import matplotlib.pyplot as plt\n",
    "import seaborn as sns\n",
    "import pandas as pd\n",
    "from scipy import stats\n"
   ]
  },
  {
   "cell_type": "markdown",
   "metadata": {},
   "source": [
    "Поскольку файл дикий  - придется читать его с помощью pandas"
   ]
  },
  {
   "cell_type": "code",
   "execution_count": 9,
   "metadata": {},
   "outputs": [
    {
     "data": {
      "text/html": [
       "<div>\n",
       "<style scoped>\n",
       "    .dataframe tbody tr th:only-of-type {\n",
       "        vertical-align: middle;\n",
       "    }\n",
       "\n",
       "    .dataframe tbody tr th {\n",
       "        vertical-align: top;\n",
       "    }\n",
       "\n",
       "    .dataframe thead th {\n",
       "        text-align: right;\n",
       "    }\n",
       "</style>\n",
       "<table border=\"1\" class=\"dataframe\">\n",
       "  <thead>\n",
       "    <tr style=\"text-align: right;\">\n",
       "      <th></th>\n",
       "      <th>reporting date</th>\n",
       "      <th>location</th>\n",
       "      <th>country</th>\n",
       "      <th>gender</th>\n",
       "      <th>age</th>\n",
       "      <th>symptom_onset</th>\n",
       "      <th>exposure_start</th>\n",
       "      <th>exposure_end</th>\n",
       "      <th>visiting Wuhan</th>\n",
       "      <th>from Wuhan</th>\n",
       "      <th>death</th>\n",
       "      <th>recovered</th>\n",
       "    </tr>\n",
       "  </thead>\n",
       "  <tbody>\n",
       "    <tr>\n",
       "      <td>0</td>\n",
       "      <td>1/20/2020</td>\n",
       "      <td>Shenzhen, Guangdong</td>\n",
       "      <td>China</td>\n",
       "      <td>male</td>\n",
       "      <td>66.0</td>\n",
       "      <td>01/03/20</td>\n",
       "      <td>12/29/2019</td>\n",
       "      <td>01/04/20</td>\n",
       "      <td>1</td>\n",
       "      <td>0.0</td>\n",
       "      <td>0</td>\n",
       "      <td>0</td>\n",
       "    </tr>\n",
       "    <tr>\n",
       "      <td>1</td>\n",
       "      <td>1/20/2020</td>\n",
       "      <td>Shanghai</td>\n",
       "      <td>China</td>\n",
       "      <td>female</td>\n",
       "      <td>56.0</td>\n",
       "      <td>1/15/2020</td>\n",
       "      <td>NaN</td>\n",
       "      <td>01/12/20</td>\n",
       "      <td>0</td>\n",
       "      <td>1.0</td>\n",
       "      <td>0</td>\n",
       "      <td>0</td>\n",
       "    </tr>\n",
       "    <tr>\n",
       "      <td>2</td>\n",
       "      <td>1/21/2020</td>\n",
       "      <td>Zhejiang</td>\n",
       "      <td>China</td>\n",
       "      <td>male</td>\n",
       "      <td>46.0</td>\n",
       "      <td>01/04/20</td>\n",
       "      <td>NaN</td>\n",
       "      <td>01/03/20</td>\n",
       "      <td>0</td>\n",
       "      <td>1.0</td>\n",
       "      <td>0</td>\n",
       "      <td>0</td>\n",
       "    </tr>\n",
       "    <tr>\n",
       "      <td>3</td>\n",
       "      <td>1/21/2020</td>\n",
       "      <td>Tianjin</td>\n",
       "      <td>China</td>\n",
       "      <td>female</td>\n",
       "      <td>60.0</td>\n",
       "      <td>NaN</td>\n",
       "      <td>NaN</td>\n",
       "      <td>NaN</td>\n",
       "      <td>1</td>\n",
       "      <td>0.0</td>\n",
       "      <td>0</td>\n",
       "      <td>0</td>\n",
       "    </tr>\n",
       "    <tr>\n",
       "      <td>4</td>\n",
       "      <td>1/21/2020</td>\n",
       "      <td>Tianjin</td>\n",
       "      <td>China</td>\n",
       "      <td>male</td>\n",
       "      <td>58.0</td>\n",
       "      <td>NaN</td>\n",
       "      <td>NaN</td>\n",
       "      <td>NaN</td>\n",
       "      <td>0</td>\n",
       "      <td>0.0</td>\n",
       "      <td>0</td>\n",
       "      <td>0</td>\n",
       "    </tr>\n",
       "  </tbody>\n",
       "</table>\n",
       "</div>"
      ],
      "text/plain": [
       "  reporting date             location country  gender   age symptom_onset  \\\n",
       "0      1/20/2020  Shenzhen, Guangdong   China    male  66.0      01/03/20   \n",
       "1      1/20/2020             Shanghai   China  female  56.0     1/15/2020   \n",
       "2      1/21/2020             Zhejiang   China    male  46.0      01/04/20   \n",
       "3      1/21/2020              Tianjin   China  female  60.0           NaN   \n",
       "4      1/21/2020              Tianjin   China    male  58.0           NaN   \n",
       "\n",
       "  exposure_start exposure_end  visiting Wuhan  from Wuhan death recovered  \n",
       "0     12/29/2019     01/04/20               1         0.0     0         0  \n",
       "1            NaN     01/12/20               0         1.0     0         0  \n",
       "2            NaN     01/03/20               0         1.0     0         0  \n",
       "3            NaN          NaN               1         0.0     0         0  \n",
       "4            NaN          NaN               0         0.0     0         0  "
      ]
     },
     "execution_count": 9,
     "metadata": {},
     "output_type": "execute_result"
    }
   ],
   "source": [
    "data = pd.read_csv(\"covid_short_data.csv\")\n",
    "data.head()"
   ]
  },
  {
   "cell_type": "code",
   "execution_count": 7,
   "metadata": {},
   "outputs": [
    {
     "data": {
      "text/plain": [
       "pandas.core.frame.DataFrame"
      ]
     },
     "execution_count": 7,
     "metadata": {},
     "output_type": "execute_result"
    }
   ],
   "source": [
    "type(data)"
   ]
  },
  {
   "cell_type": "code",
   "execution_count": 8,
   "metadata": {},
   "outputs": [
    {
     "name": "stdout",
     "output_type": "stream",
     "text": [
      "0    66.0\n",
      "1    56.0\n",
      "2    46.0\n",
      "3    60.0\n",
      "4    58.0\n",
      "5    44.0\n",
      "6    34.0\n",
      "7    37.0\n",
      "8    39.0\n",
      "9    56.0\n",
      "Name: age, dtype: float64\n"
     ]
    }
   ],
   "source": [
    "print(data['age'][0:10])"
   ]
  },
  {
   "cell_type": "markdown",
   "metadata": {},
   "source": [
    "symptom_onset - дата появления симптомов\n",
    "\n",
    "exposure_start - дата начала контакта с вирусом\n",
    "\n",
    "exposure_end - дата окончания контакта с вирусом\n"
   ]
  },
  {
   "cell_type": "markdown",
   "metadata": {},
   "source": [
    "Посчитаем бессмысленную характеристику, чтобы не тратить зря осмысленные. Посчитаем есть ли различия в длине периода от заболевания до даты отчета у мужчин и женщин"
   ]
  },
  {
   "cell_type": "markdown",
   "metadata": {},
   "source": [
    "\n",
    "Работа с датами"
   ]
  },
  {
   "cell_type": "code",
   "execution_count": 2,
   "metadata": {},
   "outputs": [],
   "source": [
    "from datetime import datetime"
   ]
  },
  {
   "cell_type": "code",
   "execution_count": 5,
   "metadata": {},
   "outputs": [
    {
     "name": "stdout",
     "output_type": "stream",
     "text": [
      "43 days\n",
      "43 days\n"
     ]
    }
   ],
   "source": [
    "\n",
    "def to_date(date):\n",
    "    if len(date.split('/')[-1])==2:\n",
    "        return datetime.strptime(date, '%m/%d/%y').date()\n",
    "    return datetime.strptime(date, '%m/%d/%Y').date()\n",
    "def numOfDays(date1, date2): \n",
    "    return (to_date(date2)-to_date(date1)).days \n",
    "\n",
    "def numOfDays1(date1, date2):\n",
    "    if type(date1)==str and type(date2)==str:\n",
    "        return (to_date(date2)-to_date(date1)).days\n",
    "    return np.nan\n",
    "\n",
    "date1 = '12/31/2019'\n",
    "date2 = '02/12/20'\n",
    "print(numOfDays(date1, date2), \"days\") \n",
    "print(numOfDays1(date1, date2), \"days\") "
   ]
  },
  {
   "cell_type": "markdown",
   "metadata": {},
   "source": [
    "Применяем к файлу"
   ]
  },
  {
   "cell_type": "code",
   "execution_count": 13,
   "metadata": {},
   "outputs": [],
   "source": [
    "\n",
    "clear = lambda x:x[np.isfinite(x)]\n",
    "daysMale = np.array([numOfDays(data['symptom_onset'][n], data['reporting date'][n]) \n",
    "                     for n in range(len(data['reporting date'])) \n",
    "                     if type(data['symptom_onset'][n]) == str \n",
    "                     and type(data['reporting date'][n]) == str \n",
    "                     and data['gender'][n] == 'male'])"
   ]
  },
  {
   "cell_type": "code",
   "execution_count": 14,
   "metadata": {},
   "outputs": [],
   "source": [
    "daysMale1 = clear(np.array([numOfDays1(data['symptom_onset'][n], data['reporting date'][n]) \n",
    "                     for n in range(len(data['reporting date'])) \n",
    "                     if data['gender'][n] == 'male']))"
   ]
  },
  {
   "cell_type": "code",
   "execution_count": 16,
   "metadata": {},
   "outputs": [
    {
     "name": "stderr",
     "output_type": "stream",
     "text": [
      "/opt/anaconda3/lib/python3.7/site-packages/ipykernel_launcher.py:1: DeprecationWarning: elementwise comparison failed; this will raise an error in the future.\n",
      "  \"\"\"Entry point for launching an IPython kernel.\n"
     ]
    },
    {
     "data": {
      "text/plain": [
       "False"
      ]
     },
     "execution_count": 16,
     "metadata": {},
     "output_type": "execute_result"
    }
   ],
   "source": []
  },
  {
   "cell_type": "code",
   "execution_count": 10,
   "metadata": {},
   "outputs": [],
   "source": [
    "daysFemale = np.array([numOfDays(data['symptom_onset'][n], data['reporting date'][n]) \n",
    "                       for n in range(len(data['reporting date'])) \n",
    "                       if type(data['symptom_onset'][n]) == str \n",
    "                       and type(data['reporting date'][n]) == str \n",
    "                       and data['gender'][n] == 'female'])"
   ]
  },
  {
   "cell_type": "code",
   "execution_count": 11,
   "metadata": {},
   "outputs": [
    {
     "data": {
      "text/plain": [
       "(0.9008046388626099, 3.8857816026275846e-14)"
      ]
     },
     "execution_count": 11,
     "metadata": {},
     "output_type": "execute_result"
    }
   ],
   "source": [
    "stats.shapiro(daysMale)"
   ]
  },
  {
   "cell_type": "code",
   "execution_count": 12,
   "metadata": {},
   "outputs": [
    {
     "data": {
      "text/plain": [
       "(0.8628406524658203, 4.725056066898214e-13)"
      ]
     },
     "execution_count": 12,
     "metadata": {},
     "output_type": "execute_result"
    }
   ],
   "source": [
    "stats.shapiro(daysFemale)"
   ]
  },
  {
   "cell_type": "code",
   "execution_count": 13,
   "metadata": {},
   "outputs": [],
   "source": [
    "daysMalemini = np.array([numOfDays(data['symptom_onset'][n], data['reporting date'][n]) \n",
    "                     for n in range(30) \n",
    "                     if type(data['symptom_onset'][n]) == str \n",
    "                     and type(data['reporting date'][n]) == str \n",
    "                     and data['gender'][n] == 'male'])"
   ]
  },
  {
   "cell_type": "code",
   "execution_count": 14,
   "metadata": {},
   "outputs": [],
   "source": [
    "daysFemalemini = np.array([numOfDays(data['symptom_onset'][n], data['reporting date'][n]) \n",
    "                       for n in range(50) \n",
    "                       if type(data['symptom_onset'][n]) == str \n",
    "                       and type(data['reporting date'][n]) == str \n",
    "                       and data['gender'][n] == 'female'])"
   ]
  },
  {
   "cell_type": "code",
   "execution_count": 27,
   "metadata": {},
   "outputs": [
    {
     "name": "stdout",
     "output_type": "stream",
     "text": [
      "3.0\n",
      "True\n"
     ]
    }
   ],
   "source": [
    "deltaDays = np.array([numOfDays(data['exposure_start'][n], data['exposure_end'][n]) \n",
    "                     for n in range(len(data['reporting date'])) \n",
    "                     if type(data['exposure_start'][n]) == str \n",
    "                     and type(data['exposure_end'][n]) == str \n",
    "                     ])\n",
    "deltaDays1 = data.apply(lambda x: numOfDays1(x['exposure_start'], x['exposure_end']), axis=1).dropna()\n",
    "median = np.median(deltaDays)\n",
    "\n",
    "print(median)\n",
    "print(np.all(deltaDays1.values==deltaDays) )"
   ]
  },
  {
   "cell_type": "code",
   "execution_count": 21,
   "metadata": {},
   "outputs": [
    {
     "data": {
      "text/plain": [
       "\"['01/04/20' '01/12/20' '01/03/20' ... '2/17/2020' '2/21/2020' '2/15/2020']\""
      ]
     },
     "execution_count": 21,
     "metadata": {},
     "output_type": "execute_result"
    }
   ],
   "source": [
    "str(data['exposure_end'].values)"
   ]
  },
  {
   "cell_type": "code",
   "execution_count": 94,
   "metadata": {},
   "outputs": [
    {
     "name": "stdout",
     "output_type": "stream",
     "text": [
      "[ 4.  6.  8.  3.  4.  4.  4. 11.  5.  7.  5. 10.  4.  8.  5.  4.  9. 11.\n",
      "  4.  4.  3.  8.  6.  4.  3.  4. 10.  7.  4. 10.  6.  3.  6.  3.  6.  7.\n",
      "  3.  9.  5.  9.  4.  4.  7.  4.  4.  5.  4.  5.  3. 15.  6. 12. 11. 31.\n",
      "  7.  5.  8.  5.  4.  4.  9.  4.  8.  4.  5.  4. 10.  5.  4.  6.  4.  6.\n",
      "  5. 20.  4.  6.  4. 12.  3.  4.  7.  4.  9.  3.  5.  5.  6.  8.  5.  4.\n",
      "  9.  9. 11. 12.  4. 16. 16.  3.  7.  5.]\n"
     ]
    }
   ],
   "source": [
    "def IncubationPeriod(data,m,n,gender='male'):\n",
    "    if (type(data['exposure_end'][n])==str) and type(data['symptom_onset'][n])==str and data['gender'][n] == gender:\n",
    "        nD=numOfDays(data['exposure_end'][n], data['symptom_onset'][n])\n",
    "        if nD>=0:\n",
    "            return nD+m\n",
    "    elif type(data['exposure_start'][n]) == str  and type(data['symptom_onset'][n]) == str and data['gender'][n] == gender:\n",
    "        return numOfDays(data['exposure_start'][n], data['symptom_onset'][n])-m\n",
    "    return    \n",
    "IncubationMale = np.array([IncubationPeriod(data,median,n) for n in range(len(data['reporting date'])) if IncubationPeriod(data,median,n) is not None])\n",
    "print(IncubationMale)                         "
   ]
  },
  {
   "cell_type": "code",
   "execution_count": 71,
   "metadata": {},
   "outputs": [
    {
     "data": {
      "text/plain": [
       "4"
      ]
     },
     "execution_count": 71,
     "metadata": {},
     "output_type": "execute_result"
    }
   ],
   "source": [
    "numOfDays(data['exposure_end'][383], data['symptom_onset'][383])"
   ]
  },
  {
   "cell_type": "code",
   "execution_count": 93,
   "metadata": {},
   "outputs": [
    {
     "name": "stdout",
     "output_type": "stream",
     "text": [
      "[ 4.  6.  8.  3.  4.  4.  4. 11.  5.  7.  5. 10.  4.  8.  5.  4.  9. 11.\n",
      "  4.  4.  3.  8.  6.  4.  3.  4. 10.  7.  4. 10.  6.  3.  6.  3.  6.  7.\n",
      "  3.  9.  5.  9.  4.  4.  7.  4.  4.  5.  4.  5.  3. 15.  6. 12. 11. 31.\n",
      "  7.  5.  8.  5.  4.  4.  9.  4.  8.  4.  5.  4. 10.  5.  4.  6.  4.  6.\n",
      "  5. 20.  4.  6.  4. 12.  3.  4.  7.  4.  9.  3.  5.  5.  6.  8.  5.  4.\n",
      "  9.  9. 11. 12.  4. 16. 16.  3.  7.  5.]\n"
     ]
    }
   ],
   "source": [
    "def numOfDays1(date1, date2):\n",
    "    if type(date1)==str and type(date2)==str:\n",
    "        return (to_date(date2)-to_date(date1)).days\n",
    "    return np.nan\n",
    "\n",
    "\n",
    "\n",
    "def IncubationPeriod1(data,m,gender):\n",
    "    df = data[data['gender'] == gender]\n",
    "    end_to_onset = df.apply(lambda x: numOfDays1(x['exposure_end'], x['symptom_onset']), axis=1)\n",
    "    end_to_onset[end_to_onset>=0] += m\n",
    "    start_to_onset = df.apply(lambda x: numOfDays1(x['exposure_start'], x['symptom_onset']), axis=1) - m\n",
    "    end_to_onset[np.isnan(end_to_onset)&(~np.isnan(start_to_onset))] = start_to_onset[np.isnan(end_to_onset)]\n",
    "    return  np.array((end_to_onset.dropna())[end_to_onset>=0] )\n",
    "IncubationMale1 = (IncubationPeriod1(data,median,'male'))\n",
    "\n",
    "print(IncubationPeriod1(data,median,'male'))\n"
   ]
  },
  {
   "cell_type": "code",
   "execution_count": 92,
   "metadata": {},
   "outputs": [
    {
     "data": {
      "text/plain": [
       "nan"
      ]
     },
     "execution_count": 92,
     "metadata": {},
     "output_type": "execute_result"
    }
   ],
   "source": [
    "df = data[data['gender'] == 'male']\n",
    "end_to_onset = df.apply(lambda x: numOfDays1(x['exposure_end'], x['symptom_onset']), axis=1)\n",
    "start_to_onset = df.apply(lambda x: numOfDays1(x['exposure_end'], x['symptom_onset']), axis=1) - 3\n",
    "numOfDays1(x['exposure_end'][313], x['symptom_onset'])"
   ]
  },
  {
   "cell_type": "code",
   "execution_count": 31,
   "metadata": {},
   "outputs": [
    {
     "name": "stdout",
     "output_type": "stream",
     "text": [
      "0    1\n",
      "1    4\n",
      "2    5\n",
      "3    8\n",
      "dtype: int64\n",
      "0     1.0\n",
      "1     4.0\n",
      "2     7.5\n",
      "3    10.5\n",
      "dtype: float64\n"
     ]
    }
   ],
   "source": [
    "a = pd.Series([1,4,5,8])\n",
    "b = pd.Series([1,4,5,8])\n",
    "b[b>4] +=2.5\n",
    "print(a)\n",
    "print(b)"
   ]
  },
  {
   "cell_type": "code",
   "execution_count": 259,
   "metadata": {},
   "outputs": [
    {
     "data": {
      "text/plain": [
       "(0.9288505911827087, 0.20820747315883636)"
      ]
     },
     "execution_count": 259,
     "metadata": {},
     "output_type": "execute_result"
    }
   ],
   "source": [
    "stats.shapiro(daysMalemini)"
   ]
  },
  {
   "cell_type": "code",
   "execution_count": 260,
   "metadata": {},
   "outputs": [
    {
     "data": {
      "text/plain": [
       "(0.848726749420166, 0.07215212285518646)"
      ]
     },
     "execution_count": 260,
     "metadata": {},
     "output_type": "execute_result"
    }
   ],
   "source": [
    "stats.shapiro(daysFemalemini)"
   ]
  },
  {
   "cell_type": "code",
   "execution_count": 261,
   "metadata": {
    "scrolled": true
   },
   "outputs": [
    {
     "name": "stdout",
     "output_type": "stream",
     "text": [
      "17\n",
      "9\n"
     ]
    }
   ],
   "source": [
    "print(len(daysMalemini))\n",
    "print(len(daysFemalemini))"
   ]
  },
  {
   "cell_type": "markdown",
   "metadata": {},
   "source": [
    "Ну вот вдруг у кого-то получится вот так - что нормальность не отвергается (p-value >0.05)"
   ]
  },
  {
   "cell_type": "markdown",
   "metadata": {},
   "source": [
    "Тогда можно Стьюдента  (Ttest)"
   ]
  },
  {
   "cell_type": "markdown",
   "metadata": {},
   "source": [
    "Только сперва нужно проверить равенство дисперсий"
   ]
  },
  {
   "cell_type": "code",
   "execution_count": 262,
   "metadata": {},
   "outputs": [],
   "source": [
    "def Ftest_pvalue(d1,d2):\n",
    "    df1 = len(d1) - 1\n",
    "    df2 = len(d2) - 1\n",
    "    F = d1.var(ddof=1)/d2.var(ddof=1)\n",
    "    double_tailed_pval = 2*stats.f.cdf(F,df1,df2) if F<1 else 2*(1-stats.f.cdf(F,df1,df2))\n",
    "    return double_tailed_pval"
   ]
  },
  {
   "cell_type": "code",
   "execution_count": 263,
   "metadata": {},
   "outputs": [
    {
     "data": {
      "text/plain": [
       "0.3909077267279053"
      ]
     },
     "execution_count": 263,
     "metadata": {},
     "output_type": "execute_result"
    }
   ],
   "source": [
    "Ftest_pvalue(daysMalemini, daysFemalemini)"
   ]
  },
  {
   "cell_type": "markdown",
   "metadata": {},
   "source": [
    "Значит можно применять Т - тест с равными дисперсиями"
   ]
  },
  {
   "cell_type": "code",
   "execution_count": 264,
   "metadata": {},
   "outputs": [
    {
     "data": {
      "text/plain": [
       "Ttest_indResult(statistic=0.20323400501910402, pvalue=0.8390264901057278)"
      ]
     },
     "execution_count": 264,
     "metadata": {},
     "output_type": "execute_result"
    }
   ],
   "source": [
    "stats.ttest_ind(daysMale, daysFemale)"
   ]
  },
  {
   "cell_type": "markdown",
   "metadata": {},
   "source": [
    "Есть минимум две реализации двухвыборочного Вилкоксона"
   ]
  },
  {
   "cell_type": "markdown",
   "metadata": {},
   "source": [
    "Этот работает с массивами и годится только для достаточно больших выборок (n,m>30) \n",
    "потому что реализован только асимптотически"
   ]
  },
  {
   "cell_type": "code",
   "execution_count": 265,
   "metadata": {},
   "outputs": [
    {
     "data": {
      "text/plain": [
       "RanksumsResult(statistic=0.32774663784970953, pvalue=0.7431032373745743)"
      ]
     },
     "execution_count": 265,
     "metadata": {},
     "output_type": "execute_result"
    }
   ],
   "source": [
    "stats.ranksums(daysMale, daysFemale)"
   ]
  },
  {
   "cell_type": "markdown",
   "metadata": {},
   "source": [
    "\n",
    "\n",
    "\n",
    "А этот работает со списками и есть в точном варианте - можно задать method = \"exact\" - это важно для тех, у кого получатся небольшие выборки"
   ]
  },
  {
   "cell_type": "code",
   "execution_count": 266,
   "metadata": {},
   "outputs": [
    {
     "data": {
      "text/plain": [
       "WilcoxonMannWhitneyResult(alternative='two.sided', statistic=-0.32852302329989425, HodgesLehmann=0.0, lowerCI=-1, upperCI=1, pvalue=0.7425162393218762)"
      ]
     },
     "execution_count": 266,
     "metadata": {},
     "output_type": "execute_result"
    }
   ],
   "source": [
    "PyNonpar.twosample.wilcoxon_mann_whitney_test(list(daysMale), list(daysFemale), alternative=\"two.sided\", method = \"asymptotic\", alpha = 0.05)"
   ]
  },
  {
   "cell_type": "code",
   "execution_count": 267,
   "metadata": {},
   "outputs": [
    {
     "data": {
      "text/plain": [
       "WilcoxonMannWhitneyResult(alternative='two.sided', statistic=100.5, HodgesLehmann=-2.0, lowerCI=-6, upperCI=1, pvalue=0.2697905298362964)"
      ]
     },
     "execution_count": 267,
     "metadata": {},
     "output_type": "execute_result"
    }
   ],
   "source": [
    "PyNonpar.twosample.wilcoxon_mann_whitney_test(list(daysMalemini), list(daysFemalemini), alternative=\"two.sided\", method = \"exact\", alpha = 0.05)"
   ]
  },
  {
   "cell_type": "markdown",
   "metadata": {},
   "source": [
    "Ну) видим, что pvalue в одном случае громадный а в другом просто большой - то есть данные совсем не противоречат тому, что различий нет)"
   ]
  },
  {
   "cell_type": "code",
   "execution_count": 268,
   "metadata": {},
   "outputs": [
    {
     "name": "stdout",
     "output_type": "stream",
     "text": [
      "[17 17 10  7 12  5  5  6 12 12 11  8  8  3  2  2  2  2  3  3  2  9  2  4\n",
      "  4  4 33 23 14  9 12 10 13 31  7 17 20 16 17  6  6  5  0  3  3 17 25 14\n",
      "  4  5  9 13 13 15 12 21 11 14 12 32  3  8  8  5  1  1  1  4 11  2  2  5\n",
      "  4  4  5  7  7  4  3  7  1  9  5  1  5  0  1  7  9 10  4  5  2  6  3  3\n",
      " 12 10  3  6 14  1  5  6 10 12 12  2  3 15 13 11 13 25 11 14  3 11 13  1\n",
      " 10  0 14 10  2  2  9 11 13  5 16 11 16  8 15  7 14  1  6  6  3  5 15  3\n",
      "  2  2  7 20 19  6 12 10  2  2  6  5  2 11  7  8 10  7 10 11  5  6  5  5\n",
      "  4  4 14  9  3  2  4 14 12  2  1  2  3 13 11  7  7  2  2 10 11  9 12  6\n",
      "  6  3  6  3  7  5  5  1  1  1  1 12  7  3 22  3  3  3  4  5  8  3  8 12\n",
      "  4  9 16 15  9  9 10  9  8  8 10 10  6  5 11  9  5  9  6  3 14  1  2  3\n",
      "  7  8 11 16  4 14  5  7  4  2 22  5  7 19 14  3  6  5  1  0  1 10  8 19\n",
      " 20  1  2 18  3 11 12 20 20 26  3  3  3 11  5  4  2  2  9  6  3  2 10  1\n",
      "  5  2  1  6  2  2  4 10  6  1  5  1  4  1  7  2  1  8  0 14 13  7  6  3\n",
      "  4 10 10  2 11  9  6 12 11  8  9 15  5 12  9  5  7 26 12  2  3 13  5  5\n",
      "  9  1  6  8  8]\n",
      "[ 5  6  2  6  8  3  5 14  3 43 13  6  5  6  8  7  9  8  0 14 16 15 19 14\n",
      "  4  3  7  8  0  7  6  6  2  4  2  1  6  2  0  0 15  2  8  9 17  6  9 17\n",
      "  6  4  5 20  2  4  2  9  6  7 11  5  4 22  9 10  8  2  3 15 16  2  6  5\n",
      " 11 20 17  1  5 10  6 16  5  7 16  9  3  2  1  1  3  6  4  3  5  0  8  5\n",
      "  2  2  7  9 10 20  2  4 17  3  1  1  5 12  3  3  3  5  3  4  2  1  2  6\n",
      " 10  2  5  8 12 15  5  3  6  5  4  5 16 12  9  6 14 10 15  6 15 33  2 10\n",
      "  2 10 11 11 11 10  1  5  2  3  3  4  5  9  5 11 29 24 18  8  4  9  1  8\n",
      "  5  4  7  2  5  5  8  3  6  4  1  6  1  2  1 12  1  6  5 11  9 11 11 13\n",
      "  7 10  9 13  9 16  5  7 10  9 15 10 16  5  0 20  8 13  8 14 10 14  2  3\n",
      "  4]\n"
     ]
    }
   ],
   "source": [
    "print(daysMale)\n",
    "print(daysFemale)"
   ]
  },
  {
   "cell_type": "code",
   "execution_count": null,
   "metadata": {},
   "outputs": [],
   "source": []
  },
  {
   "cell_type": "code",
   "execution_count": null,
   "metadata": {},
   "outputs": [],
   "source": []
  }
 ],
 "metadata": {
  "kernelspec": {
   "display_name": "Python 3",
   "language": "python",
   "name": "python3"
  },
  "language_info": {
   "codemirror_mode": {
    "name": "ipython",
    "version": 3
   },
   "file_extension": ".py",
   "mimetype": "text/x-python",
   "name": "python",
   "nbconvert_exporter": "python",
   "pygments_lexer": "ipython3",
   "version": "3.8.3"
  }
 },
 "nbformat": 4,
 "nbformat_minor": 2
}
