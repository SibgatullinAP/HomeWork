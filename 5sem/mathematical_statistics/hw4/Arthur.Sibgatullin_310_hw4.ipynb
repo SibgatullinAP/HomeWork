{
 "cells": [
  {
   "cell_type": "code",
   "execution_count": 1,
   "metadata": {},
   "outputs": [],
   "source": [
    "import numpy as np\n",
    "import scipy as sp\n",
    "import matplotlib.pyplot as plt\n",
    "import seaborn as sns\n",
    "import pandas as pd\n",
    "from scipy import stats\n",
    "from statsmodels.stats.multicomp import pairwise_tukeyhsd\n",
    "import scikit_posthocs as spp"
   ]
  },
  {
   "cell_type": "code",
   "execution_count": 14,
   "metadata": {},
   "outputs": [
    {
     "name": "stdout",
     "output_type": "stream",
     "text": [
      "        Unnamed: 0   country  \\\n",
      "0                0     Italy   \n",
      "1                1  Portugal   \n",
      "2                2        US   \n",
      "3                3        US   \n",
      "4                4        US   \n",
      "...            ...       ...   \n",
      "129966      129966   Germany   \n",
      "129967      129967        US   \n",
      "129968      129968    France   \n",
      "129969      129969    France   \n",
      "129970      129970    France   \n",
      "\n",
      "                                              description  \\\n",
      "0       Aromas include tropical fruit, broom, brimston...   \n",
      "1       This is ripe and fruity, a wine that is smooth...   \n",
      "2       Tart and snappy, the flavors of lime flesh and...   \n",
      "3       Pineapple rind, lemon pith and orange blossom ...   \n",
      "4       Much like the regular bottling from 2012, this...   \n",
      "...                                                   ...   \n",
      "129966  Notes of honeysuckle and cantaloupe sweeten th...   \n",
      "129967  Citation is given as much as a decade of bottl...   \n",
      "129968  Well-drained gravel soil gives this wine its c...   \n",
      "129969  A dry style of Pinot Gris, this is crisp with ...   \n",
      "129970  Big, rich and off-dry, this is powered by inte...   \n",
      "\n",
      "                                   designation  points  price  \\\n",
      "0                                 Vulkà Bianco      87    NaN   \n",
      "1                                     Avidagos      87   15.0   \n",
      "2                                          NaN      87   14.0   \n",
      "3                         Reserve Late Harvest      87   13.0   \n",
      "4           Vintner's Reserve Wild Child Block      87   65.0   \n",
      "...                                        ...     ...    ...   \n",
      "129966  Brauneberger Juffer-Sonnenuhr Spätlese      90   28.0   \n",
      "129967                                     NaN      90   75.0   \n",
      "129968                                   Kritt      90   30.0   \n",
      "129969                                     NaN      90   32.0   \n",
      "129970           Lieu-dit Harth Cuvée Caroline      90   21.0   \n",
      "\n",
      "                 province             region_1           region_2  \\\n",
      "0       Sicily & Sardinia                 Etna                NaN   \n",
      "1                   Douro                  NaN                NaN   \n",
      "2                  Oregon    Willamette Valley  Willamette Valley   \n",
      "3                Michigan  Lake Michigan Shore                NaN   \n",
      "4                  Oregon    Willamette Valley  Willamette Valley   \n",
      "...                   ...                  ...                ...   \n",
      "129966              Mosel                  NaN                NaN   \n",
      "129967             Oregon               Oregon       Oregon Other   \n",
      "129968             Alsace               Alsace                NaN   \n",
      "129969             Alsace               Alsace                NaN   \n",
      "129970             Alsace               Alsace                NaN   \n",
      "\n",
      "               taster_name taster_twitter_handle  \\\n",
      "0            Kerin O’Keefe          @kerinokeefe   \n",
      "1               Roger Voss            @vossroger   \n",
      "2             Paul Gregutt           @paulgwine    \n",
      "3       Alexander Peartree                   NaN   \n",
      "4             Paul Gregutt           @paulgwine    \n",
      "...                    ...                   ...   \n",
      "129966  Anna Lee C. Iijima                   NaN   \n",
      "129967        Paul Gregutt           @paulgwine    \n",
      "129968          Roger Voss            @vossroger   \n",
      "129969          Roger Voss            @vossroger   \n",
      "129970          Roger Voss            @vossroger   \n",
      "\n",
      "                                                    title         variety  \\\n",
      "0                       Nicosia 2013 Vulkà Bianco  (Etna)     White Blend   \n",
      "1           Quinta dos Avidagos 2011 Avidagos Red (Douro)  Portuguese Red   \n",
      "2           Rainstorm 2013 Pinot Gris (Willamette Valley)      Pinot Gris   \n",
      "3       St. Julian 2013 Reserve Late Harvest Riesling ...        Riesling   \n",
      "4       Sweet Cheeks 2012 Vintner's Reserve Wild Child...      Pinot Noir   \n",
      "...                                                   ...             ...   \n",
      "129966  Dr. H. Thanisch (Erben Müller-Burggraef) 2013 ...        Riesling   \n",
      "129967                  Citation 2004 Pinot Noir (Oregon)      Pinot Noir   \n",
      "129968  Domaine Gresser 2013 Kritt Gewurztraminer (Als...  Gewürztraminer   \n",
      "129969      Domaine Marcel Deiss 2012 Pinot Gris (Alsace)      Pinot Gris   \n",
      "129970  Domaine Schoffit 2012 Lieu-dit Harth Cuvée Car...  Gewürztraminer   \n",
      "\n",
      "                                          winery  \n",
      "0                                        Nicosia  \n",
      "1                            Quinta dos Avidagos  \n",
      "2                                      Rainstorm  \n",
      "3                                     St. Julian  \n",
      "4                                   Sweet Cheeks  \n",
      "...                                          ...  \n",
      "129966  Dr. H. Thanisch (Erben Müller-Burggraef)  \n",
      "129967                                  Citation  \n",
      "129968                           Domaine Gresser  \n",
      "129969                      Domaine Marcel Deiss  \n",
      "129970                          Domaine Schoffit  \n",
      "\n",
      "[129971 rows x 14 columns]\n"
     ]
    }
   ],
   "source": [
    "def C(x):\n",
    "    if type(x)==str:\n",
    "        if 'Canada' in x:\n",
    "            return True\n",
    "        else:\n",
    "            return False\n",
    "    return False\n",
    "\n",
    "def G(x):\n",
    "    if type(x)==str:\n",
    "        if 'Greece' in x:\n",
    "            return True\n",
    "        else:\n",
    "            return False\n",
    "    return False\n",
    "\n",
    "def P(x):\n",
    "    if type(x)==str:\n",
    "        if 'Portugal' in x:\n",
    "            return True\n",
    "        else:\n",
    "            return False\n",
    "    return False\n",
    "\n",
    "def I(x):\n",
    "    if type(x)==str:\n",
    "        if 'Italy' in x:\n",
    "            return True\n",
    "        else:\n",
    "            return False\n",
    "    return False\n",
    "\n",
    "def F(x):\n",
    "    if type(x)==str:\n",
    "        if 'France' in x:\n",
    "            return True\n",
    "        else:\n",
    "            return False\n",
    "    return False\n",
    "\n",
    "def U(x):\n",
    "    if type(x)==str:\n",
    "        if 'US' in x:\n",
    "            return True\n",
    "        else:\n",
    "            return False\n",
    "    return False\n",
    "\n",
    "print (data)\n",
    "\n",
    "data = pd.read_csv(\"winemag-data-130k-v2.csv\")\n",
    "df = data[['country', 'points', 'price']]\n",
    "df.to_csv ('new_wine.csv', index=False)\n",
    "data_new = pd.read_csv ('new_wine.csv')\n",
    "\n",
    "data_new = data_new.groupby(data.apply(lambda x: C(x['country']) or G(x['country']) or P(x['country']) or F(x['country']) or I(x['country']) or U(x['country']), axis=1))\n",
    "data_new = data_new.get_group(True)\n",
    "data_new = data_new.dropna(axis=0)\n",
    "\n",
    "# data_new = data_new.sort_values(by='country')\n",
    "# data_new = data_new[:1000]\n",
    "# data_new.groupby('country').groups"
   ]
  },
  {
   "cell_type": "markdown",
   "metadata": {},
   "source": [
    "Закончили предварительную обработку таблиц. Посчитаем соотношение цена/качество для каждой записи. И построим \"ящики с усами\" чтобы прикинуть совпадают ли дисперсии"
   ]
  },
  {
   "cell_type": "code",
   "execution_count": 15,
   "metadata": {},
   "outputs": [
    {
     "data": {
      "image/png": "[encoded data removed]",
      "text/plain": [
       "<Figure size 432x288 with 1 Axes>"
      ]
     },
     "metadata": {
      "needs_background": "light"
     },
     "output_type": "display_data"
    }
   ],
   "source": [
    "data_new['pointsbyprice']= data_new.apply(lambda x: x['points']/(10+np.log( x['price'])), axis=1)\n",
    "\n",
    "sns.boxplot( y=data_new['pointsbyprice'], x=data_new['country'] );\n",
    "plt.show()"
   ]
  },
  {
   "cell_type": "markdown",
   "metadata": {},
   "source": [
    "По графикам видно, что все плохо и дисперсии не совпадают, теперь проверим это статистически с помощью Теста Левена. Также проверим с помощью Теста Шапиро нормальность выборок."
   ]
  },
  {
   "cell_type": "code",
   "execution_count": 17,
   "metadata": {},
   "outputs": [
    {
     "name": "stdout",
     "output_type": "stream",
     "text": [
      "LeveneResult(statistic=3.530985144246875, pvalue=0.029341410309435587)\n",
      "ShapiroResult(statistic=0.974319338798523, pvalue=9.390311398481639e-29)\n",
      "ShapiroResult(statistic=0.9893981218338013, pvalue=0.002050064504146576)\n",
      "ShapiroResult(statistic=0.9927505850791931, pvalue=0.25151291489601135)\n",
      "ShapiroResult(statistic=0.9855698347091675, pvalue=7.430619964704963e-38)\n",
      "ShapiroResult(statistic=0.9817042350769043, pvalue=2.6386450083236305e-42)\n",
      "ShapiroResult(statistic=0.9982869029045105, pvalue=7.81336181927162e-23)\n"
     ]
    }
   ],
   "source": [
    "print (stats.levene(data_new['pointsbyprice'][data['country'] == 'Portugal'], data_new['pointsbyprice'][data_new['country'] == 'Greece'], data_new['pointsbyprice'][data_new['country'] == 'Canada']))\n",
    "print (stats.shapiro(data_new['pointsbyprice'][data_new['country'] == 'Portugal']))\n",
    "print (stats.shapiro(data_new['pointsbyprice'][data_new['country'] == 'Greece']))\n",
    "print (stats.shapiro(data_new['pointsbyprice'][data_new['country'] == 'Canada']))"
   ]
  },
  {
   "cell_type": "markdown",
   "metadata": {},
   "source": [
    "Нормальности тоже нет. Нельзя использовать ни ANOVA ни Крускала-Уоллиса ("
   ]
  },
  {
   "cell_type": "code",
   "execution_count": 9,
   "metadata": {},
   "outputs": [
    {
     "name": "stdout",
     "output_type": "stream",
     "text": [
      "KruskalResult(statistic=212.2322929863956, pvalue=8.209999622816209e-47)\n"
     ]
    }
   ],
   "source": [
    "print (stats.kruskal(data_new['pointsbyprice'][data_new['country'] == 'Portugal'], data_new['pointsbyprice'][data_new['country'] == 'Greece'], data_new['pointsbyprice'][data_new['country'] == 'Canada']))"
   ]
  },
  {
   "cell_type": "code",
   "execution_count": 10,
   "metadata": {},
   "outputs": [
    {
     "name": "stdout",
     "output_type": "stream",
     "text": [
      "Multiple Comparison of Means - Tukey HSD, FWER=0.05 \n",
      "====================================================\n",
      "group1  group2  meandiff p-adj  lower  upper  reject\n",
      "----------------------------------------------------\n",
      "Canada   Greece   0.0613 0.0032 0.0172 0.1054   True\n",
      "Canada Portugal   0.1795  0.001 0.1432 0.2159   True\n",
      "Greece Portugal   0.1183  0.001 0.0908 0.1458   True\n",
      "----------------------------------------------------\n",
      "\n",
      "\n",
      "              1             2             3\n",
      "1  1.000000e+00  3.025846e-23  6.972300e-29\n",
      "2  3.025846e-23  1.000000e+00  2.310528e-03\n",
      "3  6.972300e-29  2.310528e-03  1.000000e+00\n"
     ]
    }
   ],
   "source": [
    "#Данна, Тьюки:\n",
    "print(pairwise_tukeyhsd(endog=data_new['pointsbyprice'], groups=data_new['country'], alpha=0.05))\n",
    "print ('\\n')\n",
    "print (spp.posthoc_dunn([data_new['pointsbyprice'][data_new['country'] == 'Portugal'], data_new['pointsbyprice'][data_new['country'] == 'Greece'], data_new['pointsbyprice'][data_new['country'] == 'Canada']], p_adjust='fdr_bh'))"
   ]
  },
  {
   "cell_type": "code",
   "execution_count": 7,
   "metadata": {},
   "outputs": [
    {
     "name": "stdout",
     "output_type": "stream",
     "text": [
      "country  Canada  Greece  Portugal\n",
      "points                           \n",
      "80            0       0         2\n",
      "81            0       0        11\n",
      "82            2       4        27\n",
      "83            3       9       102\n",
      "84            4      42       303\n",
      "85            7      48       530\n",
      "86           11      59       536\n",
      "87           30      87       592\n",
      "88           32      79       672\n",
      "89           29      58       334\n",
      "90           42      44       526\n",
      "91           43      14       420\n",
      "92           34      15       352\n",
      "93           14       2       250\n",
      "94            3       0       122\n",
      "95            0       0        61\n",
      "96            0       0        16\n",
      "97            0       0        12\n",
      "98            0       0         3\n",
      "99            0       0         2\n",
      "100           0       0         2\n"
     ]
    }
   ],
   "source": [
    "data_new_crosstab = pd.crosstab(data_new['points'], data_new['country'], margins = False)\n",
    "print(data_new_crosstab) "
   ]
  },
  {
   "cell_type": "code",
   "execution_count": 8,
   "metadata": {},
   "outputs": [
    {
     "data": {
      "text/plain": [
       "(204.3401399230755,\n",
       " 6.432158976486775e-24,\n",
       " 40,\n",
       " array([[9.08765653e-02, 1.64937388e-01, 1.74418605e+00],\n",
       "        [4.99821109e-01, 9.07155635e-01, 9.59302326e+00],\n",
       "        [1.49946333e+00, 2.72146691e+00, 2.87790698e+01],\n",
       "        [5.17996422e+00, 9.40143113e+00, 9.94186047e+01],\n",
       "        [1.58579606e+01, 2.87815742e+01, 3.04360465e+02],\n",
       "        [2.65813953e+01, 4.82441860e+01, 5.10174419e+02],\n",
       "        [2.75355993e+01, 4.99760286e+01, 5.28488372e+02],\n",
       "        [3.22157424e+01, 5.84703041e+01, 6.18313953e+02],\n",
       "        [3.55781753e+01, 6.45729875e+01, 6.82848837e+02],\n",
       "        [1.91295170e+01, 3.47193202e+01, 3.67151163e+02],\n",
       "        [2.78082290e+01, 5.04708408e+01, 5.33720930e+02],\n",
       "        [2.16740608e+01, 3.93375671e+01, 4.15988372e+02],\n",
       "        [1.82207513e+01, 3.30699463e+01, 3.49709302e+02],\n",
       "        [1.20865832e+01, 2.19366726e+01, 2.31976744e+02],\n",
       "        [5.67978533e+00, 1.03085868e+01, 1.09011628e+02],\n",
       "        [2.77173524e+00, 5.03059034e+00, 5.31976744e+01],\n",
       "        [7.27012522e-01, 1.31949911e+00, 1.39534884e+01],\n",
       "        [5.45259392e-01, 9.89624329e-01, 1.04651163e+01],\n",
       "        [1.36314848e-01, 2.47406082e-01, 2.61627907e+00],\n",
       "        [9.08765653e-02, 1.64937388e-01, 1.74418605e+00],\n",
       "        [9.08765653e-02, 1.64937388e-01, 1.74418605e+00]]))"
      ]
     },
     "execution_count": 8,
     "metadata": {},
     "output_type": "execute_result"
    }
   ],
   "source": [
    "sp.stats.chi2_contingency(data_new_crosstab)"
   ]
  },
  {
   "cell_type": "code",
   "execution_count": null,
   "metadata": {},
   "outputs": [],
   "source": []
  }
 ],
 "metadata": {
  "kernelspec": {
   "display_name": "Python 3",
   "language": "python",
   "name": "python3"
  },
  "language_info": {
   "codemirror_mode": {
    "name": "ipython",
    "version": 3
   },
   "file_extension": ".py",
   "mimetype": "text/x-python",
   "name": "python",
   "nbconvert_exporter": "python",
   "pygments_lexer": "ipython3",
   "version": "3.8.3"
  }
 },
 "nbformat": 4,
 "nbformat_minor": 4
}
