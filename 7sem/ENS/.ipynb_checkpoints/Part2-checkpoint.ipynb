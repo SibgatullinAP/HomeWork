{
 "cells": [
  {
   "cell_type": "markdown",
   "id": "fa05924d",
   "metadata": {},
   "source": [
    "Задание А. Считывание аудиофайла"
   ]
  },
  {
   "cell_type": "code",
   "execution_count": 2,
   "id": "967b1eaa",
   "metadata": {},
   "outputs": [],
   "source": [
    "import numpy as np\n",
    "import matplotlib.pyplot as plt\n",
    "import wave\n",
    "from scipy.fft import *"
   ]
  },
  {
   "cell_type": "code",
   "execution_count": 17,
   "id": "5c1192a6",
   "metadata": {},
   "outputs": [
    {
     "name": "stdout",
     "output_type": "stream",
     "text": [
      "2\n"
     ]
    }
   ],
   "source": [
    "def read_wav (file_path):\n",
    "    wav_file = wave.open(file_path, mode=\"r\")\n",
    "    return wav_file\n",
    "\n",
    "def write_wav (file_path, wav, params, framerate):\n",
    "    wav_file = wave.open(file_path, 'w')\n",
    "    wav_file.setparams(params)\n",
    "    wav_file.setframerate(framerate)\n",
    "    wav_file.writeframes(mix.astype('<i2').tobytes())\n",
    "    wav_file.close()\n",
    "\n",
    "wav = read_wav(\"DanceOfTheknights.wav\")\n",
    "sound_frames = wav.readframes(wav.getnframes())\n",
    "samples = np.frombuffer(sound_frames, dtype='<i2').astype(float)\n",
    "print (wav.getsampwidth())\n",
    "\n",
    "# Разбили на промежутки время проигрывания дорожки\n",
    "time = np.linspace(0, len(samples)/(wav.getframerate()), len(samples))\n",
    "\n",
    "mixed_parameter_1 = 5000\n",
    "mixed_parameter_2 = 2000\n",
    "\n",
    "# Добавили писк(синусоиду)\n",
    "beep = np.sin(2*np.pi*time*mixed_parameter_1)*mixed_parameter_2\n",
    "mix = samples + beep\n",
    "\n",
    "write_wav(\"DanceOfTheknights_beeped.wav\", mix, wav.getparams(), wav.getframerate())"
   ]
  },
  {
   "cell_type": "code",
   "execution_count": null,
   "id": "43d932a0",
   "metadata": {},
   "outputs": [],
   "source": []
  },
  {
   "cell_type": "code",
   "execution_count": null,
   "id": "6d168c39",
   "metadata": {},
   "outputs": [],
   "source": []
  }
 ],
 "metadata": {
  "kernelspec": {
   "display_name": "Python 3 (ipykernel)",
   "language": "python",
   "name": "python3"
  },
  "language_info": {
   "codemirror_mode": {
    "name": "ipython",
    "version": 3
   },
   "file_extension": ".py",
   "mimetype": "text/x-python",
   "name": "python",
   "nbconvert_exporter": "python",
   "pygments_lexer": "ipython3",
   "version": "3.9.5"
  }
 },
 "nbformat": 4,
 "nbformat_minor": 5
}
