{
 "cells": [
  {
   "cell_type": "markdown",
   "metadata": {},
   "source": [
    "Задание С. Количество символов в строке"
   ]
  },
  {
   "cell_type": "code",
   "execution_count": 2,
   "metadata": {},
   "outputs": [
    {
     "name": "stdout",
     "output_type": "stream",
     "text": [
      "Hello World!\n",
      "12\n"
     ]
    }
   ],
   "source": [
    "input_str = input()\n",
    "print(len(input_str))"
   ]
  },
  {
   "cell_type": "markdown",
   "metadata": {},
   "source": [
    "Задание D. Строка в обратном порядке"
   ]
  },
  {
   "cell_type": "code",
   "execution_count": 4,
   "metadata": {},
   "outputs": [
    {
     "name": "stdout",
     "output_type": "stream",
     "text": [
      "Hello World!\n",
      "!dlroW olleH\n"
     ]
    }
   ],
   "source": [
    "def reverse_string (input_str):\n",
    "    return input_str[::-1]\n",
    "\n",
    "input_str = input()\n",
    "print(reverse_string (input_str))"
   ]
  },
  {
   "cell_type": "markdown",
   "metadata": {},
   "source": [
    "E. Подстрока в двойных кавычках"
   ]
  },
  {
   "cell_type": "code",
   "execution_count": 15,
   "metadata": {
    "scrolled": true
   },
   "outputs": [
    {
     "name": "stdout",
     "output_type": "stream",
     "text": [
      "Hel\"lo Wor\"ld!\n",
      "lo Wor\n"
     ]
    }
   ],
   "source": [
    "def find_quotes_substr(input_str):\n",
    "    first_quote_pos = -1\n",
    "    second_quote_pos = 0\n",
    "    for pos, char in enumerate(input_str):\n",
    "        if (char == '\"'):\n",
    "            if (first_quote_pos == -1):\n",
    "                first_quote_pos = pos\n",
    "            else:\n",
    "                second_quote_pos = pos\n",
    "                \n",
    "    return input_str[first_quote_pos + 1:second_quote_pos]\n",
    "    \n",
    "input_str = input()\n",
    "print (find_quotes_substr(input_str))"
   ]
  },
  {
   "cell_type": "markdown",
   "metadata": {},
   "source": [
    "Задание F. 7 → 14"
   ]
  },
  {
   "cell_type": "code",
   "execution_count": 17,
   "metadata": {},
   "outputs": [
    {
     "name": "stdout",
     "output_type": "stream",
     "text": [
      "7\n",
      "14\n"
     ]
    }
   ],
   "source": [
    "def double_number(number):\n",
    "    return number * 2\n",
    "\n",
    "input_str = int(input ())\n",
    "print (double_number(input_str))"
   ]
  },
  {
   "cell_type": "markdown",
   "metadata": {},
   "source": [
    "Задание G. Поменялись!"
   ]
  },
  {
   "cell_type": "code",
   "execution_count": 28,
   "metadata": {},
   "outputs": [
    {
     "name": "stdout",
     "output_type": "stream",
     "text": [
      "3254543 793423410\n",
      "7\n",
      "793423410 3254543\n"
     ]
    }
   ],
   "source": [
    "def swap_numbers(input_str):\n",
    "    space_pos = input_str.find(\" \")\n",
    "    return input_str[space_pos + 1:] + \" \" + input_str[:space_pos]\n",
    "    \n",
    "input_str = input ()\n",
    "print (swap_numbers(input_str))"
   ]
  },
  {
   "cell_type": "code",
   "execution_count": null,
   "metadata": {},
   "outputs": [],
   "source": [
    "Задание H. А какой логин?"
   ]
  },
  {
   "cell_type": "code",
   "execution_count": 30,
   "metadata": {},
   "outputs": [
    {
     "name": "stdout",
     "output_type": "stream",
     "text": [
      "ivan@lenta.ru\n",
      "ivan\n"
     ]
    }
   ],
   "source": [
    "def get_name(input_str):\n",
    "    at_pos = input_str.find(\"@\")\n",
    "    return input_str[:at_pos]\n",
    "    \n",
    "input_str = input ()\n",
    "print (get_name(input_str))"
   ]
  },
  {
   "cell_type": "markdown",
   "metadata": {},
   "source": [
    "Задание I. Как угодно!"
   ]
  },
  {
   "cell_type": "code",
   "execution_count": 32,
   "metadata": {},
   "outputs": [
    {
     "name": "stdout",
     "output_type": "stream",
     "text": [
      "+7 (812) 134-12-324\n",
      "+781213412324\n"
     ]
    }
   ],
   "source": [
    "def delete_some_symbols(input_str, symb_to_delete):\n",
    "    result_str = \"\"\n",
    "    for char in input_str:\n",
    "        if (symb_to_delete.find(char) == -1):\n",
    "            result_str += char\n",
    "            \n",
    "    return result_str\n",
    "    \n",
    "input_str = input ()\n",
    "symbols_to_delete = \"-() \"\n",
    "print (delete_some_symbols(input_str, symbols_to_delete))"
   ]
  },
  {
   "cell_type": "code",
   "execution_count": null,
   "metadata": {},
   "outputs": [],
   "source": [
    "Задание J. Проверка палиндрома"
   ]
  },
  {
   "cell_type": "code",
   "execution_count": 37,
   "metadata": {},
   "outputs": [
    {
     "name": "stdout",
     "output_type": "stream",
     "text": [
      "f AoAO  AF\n",
      "It is a palindrome\n"
     ]
    }
   ],
   "source": [
    "def delete_some_symbols(input_str, symb_to_delete):\n",
    "    result_str = \"\"\n",
    "    for char in input_str:\n",
    "        if (symb_to_delete.find(char) == -1):\n",
    "            result_str += char\n",
    "            \n",
    "    return result_str\n",
    "\n",
    "def is_polyndrom(input_str):\n",
    "    str_without_spaces = delete_some_symbols (input_str, \" \")\n",
    "    str_len = len (str_without_spaces)\n",
    "    for i in range (int(str_len/2)):\n",
    "        if(str_without_spaces[i].casefold() != str_without_spaces[str_len - i - 1].casefold()):\n",
    "            return False\n",
    "        \n",
    "    return True\n",
    "\n",
    "\n",
    "input_str = input ()\n",
    "if (is_polyndrom(input_str)):\n",
    "    print(\"It is a palindrome\")\n",
    "else:\n",
    "    print(\"It is not a palindrome\")"
   ]
  },
  {
   "cell_type": "code",
   "execution_count": null,
   "metadata": {},
   "outputs": [],
   "source": [
    "Задание K. Без девяток"
   ]
  },
  {
   "cell_type": "code",
   "execution_count": 40,
   "metadata": {},
   "outputs": [
    {
     "name": "stdout",
     "output_type": "stream",
     "text": [
      "12345678101112131415161718120212223242526272823031323334353637383404142434445464748450515253545556575856061626364656667686707172737475767778780818283848586878880123456781001011021031041051061071081011011111211311411511611711811120121122123\n"
     ]
    }
   ],
   "source": [
    "def delete_some_symbols(input_str, symb_to_delete):\n",
    "    result_str = \"\"\n",
    "    for char in input_str:\n",
    "        if (symb_to_delete.find(char) == -1):\n",
    "            result_str += char\n",
    "            \n",
    "    return result_str\n",
    "\n",
    "def seq_without_number(N, number_to_remove):\n",
    "    result_str = \"\"\n",
    "    for i in range (1, N + 1):\n",
    "        result_str += delete_some_symbols(str(i), str(number_to_remove))\n",
    "\n",
    "    return result_str\n",
    "    \n",
    "    \n",
    "print (seq_without_number(123, 9))"
   ]
  },
  {
   "cell_type": "code",
   "execution_count": null,
   "metadata": {},
   "outputs": [],
   "source": []
  }
 ],
 "metadata": {
  "kernelspec": {
   "display_name": "Python 3",
   "language": "python",
   "name": "python3"
  },
  "language_info": {
   "codemirror_mode": {
    "name": "ipython",
    "version": 3
   },
   "file_extension": ".py",
   "mimetype": "text/x-python",
   "name": "python",
   "nbconvert_exporter": "python",
   "pygments_lexer": "ipython3",
   "version": "3.8.3"
  }
 },
 "nbformat": 4,
 "nbformat_minor": 4
}
