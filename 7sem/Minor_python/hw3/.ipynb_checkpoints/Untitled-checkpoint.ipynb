{
 "cells": [
  {
   "cell_type": "markdown",
   "metadata": {},
   "source": [
    "Задание C. Задом наперед"
   ]
  },
  {
   "cell_type": "code",
   "execution_count": null,
   "metadata": {},
   "outputs": [],
   "source": [
    "def reverse_word(word):\n",
    "    return word[::-1]\n",
    "\n",
    "def reverse_words(input_str):\n",
    "    return ' '.join([reverse_word(word) for word in input_str.split()])\n",
    "\n",
    "input_file = open(\"input.txt\", \"r\")\n",
    "output_file = open(\"output.txt\", \"w\")\n",
    "\n",
    "print(reverse_words(input_file.read()), file=output_file)\n",
    "\n",
    "input_file.close()\n",
    "output_file.close()"
   ]
  },
  {
   "cell_type": "markdown",
   "metadata": {},
   "source": [
    "Задание D. Буква \"ё\""
   ]
  },
  {
   "cell_type": "code",
   "execution_count": null,
   "metadata": {},
   "outputs": [],
   "source": [
    "def find_yo(input_str):\n",
    "    return '\\n'.join([word for word in input_str.split('\\n') if \"ё\" in word])\n",
    "\n",
    "input_file = open(\"input.txt\", \"r\")\n",
    "output_file = open(\"output.txt\", \"w\")\n",
    "\n",
    "print(find_yo(input_file.read()), file=output_file)\n",
    "\n",
    "input_file.close()\n",
    "output_file.close()"
   ]
  },
  {
   "cell_type": "markdown",
   "metadata": {},
   "source": [
    "Задание E. Убрать половину"
   ]
  },
  {
   "cell_type": "code",
   "execution_count": null,
   "metadata": {},
   "outputs": [],
   "source": [
    "def delete_odd(input_str):\n",
    "    delete_odd_in_line = lambda line:(' '.join([word for word in line.split()][::2]))\n",
    "    return '\\n'.join([delete_odd_in_line(line) for line in input_str.split('\\n')])\n",
    "\n",
    "input_file = open(\"input.txt\", \"r\")\n",
    "output_file = open(\"output.txt\", \"w\")\n",
    "\n",
    "print(delete_odd(input_file.read()), file=output_file)\n",
    "\n",
    "input_file.close()\n",
    "output_file.close()"
   ]
  },
  {
   "cell_type": "markdown",
   "metadata": {},
   "source": [
    "Задание F. Дни рождения"
   ]
  },
  {
   "cell_type": "code",
   "execution_count": null,
   "metadata": {},
   "outputs": [],
   "source": [
    "def to_columns(input_str):\n",
    "    lines = input_str.splitlines()\n",
    "    student_number = int(lines[0])\n",
    "    names = lines[1:student_number + 1]\n",
    "    bdays = lines[student_number + 1:]\n",
    "    return \"\\n\".join('\\t'.join(word) for word in zip(names, bdays))\n",
    "\n",
    "input_file = open(\"input.txt\", \"r\")\n",
    "output_file = open(\"output.txt\", \"w\")\n",
    "\n",
    "print(to_columns(input_file.read()), file=output_file)\n",
    "\n",
    "input_file.close()\n",
    "output_file.close()"
   ]
  },
  {
   "cell_type": "markdown",
   "metadata": {},
   "source": [
    "Задание G. Комбинации дежурных"
   ]
  },
  {
   "cell_type": "code",
   "execution_count": 16,
   "metadata": {},
   "outputs": [
    {
     "name": "stdout",
     "output_type": "stream",
     "text": [
      "1: Dima 2: Petya 3: Sasha\n",
      "1: Dima 2: Petya 3: Misha\n",
      "1: Dima 2: Petya 3: Egor\n",
      "1: Dima 2: Sasha 3: Misha\n",
      "1: Dima 2: Sasha 3: Egor\n",
      "1: Dima 2: Misha 3: Egor\n",
      "1: Petya 2: Sasha 3: Misha\n",
      "1: Petya 2: Sasha 3: Egor\n",
      "1: Petya 2: Misha 3: Egor\n",
      "1: Sasha 2: Misha 3: Egor\n"
     ]
    }
   ],
   "source": [
    "import itertools as itts\n",
    "\n",
    "def combination(input_str):\n",
    "    pupils = input_str.split()\n",
    "    format_func = lambda pupil_tuple:(' '.join([str(number) + \": \" + name for number, name in enumerate(pupil_tuple, 1)]))\n",
    "    return \"\\n\".join(format_func (pupil_tuple) for pupil_tuple in itts.combinations(pupils, 3))\n",
    "\n",
    "input_file = open(\"studygroup.txt\", \"r\")\n",
    "\n",
    "print(combination(input_file.read()))\n",
    "\n",
    "input_file.close()"
   ]
  },
  {
   "cell_type": "code",
   "execution_count": null,
   "metadata": {},
   "outputs": [],
   "source": []
  }
 ],
 "metadata": {
  "kernelspec": {
   "display_name": "Python 3",
   "language": "python",
   "name": "python3"
  },
  "language_info": {
   "codemirror_mode": {
    "name": "ipython",
    "version": 3
   },
   "file_extension": ".py",
   "mimetype": "text/x-python",
   "name": "python",
   "nbconvert_exporter": "python",
   "pygments_lexer": "ipython3",
   "version": "3.8.3"
  }
 },
 "nbformat": 4,
 "nbformat_minor": 4
}
