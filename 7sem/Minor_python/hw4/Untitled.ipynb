{
 "cells": [
  {
   "cell_type": "markdown",
   "id": "f5e5e59b",
   "metadata": {},
   "source": [
    "Задание 3. Перевод из двоичной системы счисления в десятичную"
   ]
  },
  {
   "cell_type": "code",
   "execution_count": null,
   "id": "0778b2d4",
   "metadata": {},
   "outputs": [],
   "source": [
    "def bin_to_dec(input_num):\n",
    "    answer=0\n",
    "    num_length=len(input_num)\n",
    "    for i in range(0, num_length):\n",
    "        answer=answer + int(input_num[i]) * (2**(num_length - i - 1))\n",
    "\n",
    "    return answer\n",
    "\n",
    "\n",
    "input_num = input()\n",
    "print(bin_to_dec(input_num))"
   ]
  },
  {
   "cell_type": "markdown",
   "id": "f022ccce",
   "metadata": {},
   "source": [
    "Задание 4. Вычисление дроби"
   ]
  },
  {
   "cell_type": "code",
   "execution_count": null,
   "id": "ac45ee04",
   "metadata": {},
   "outputs": [],
   "source": [
    "from fractions import Fraction\n",
    "\n",
    "def calc(a,b,c):\n",
    "    answer=Fraction(b,a) + Fraction(b, a+c) - Fraction(c, c-a)\n",
    "    return format(answer.numerator/answer.denominator, \"0.4f\")\n",
    "\n",
    "def str_to_abc (input_str):\n",
    "    lines=input_str.splitlines()\n",
    "    a_line=lines[0].split()\n",
    "    b_line=lines[1].split()\n",
    "    c_line=lines[2].split()\n",
    "    \n",
    "    a=Fraction(int(a_line[0]),int(a_line[1]))\n",
    "    b=Fraction(int(b_line[0]),int(b_line[1]))\n",
    "    c=Fraction(int(c_line[0]),int(c_line[1]))\n",
    "    \n",
    "    return a,b,c\n",
    "\n",
    "a=0\n",
    "b=0\n",
    "c=0\n",
    "\n",
    "input_file = open(\"input.txt\", \"r\")\n",
    "\n",
    "a, b, c=str_to_abc(input_file.read())\n",
    "\n",
    "print(calc(a, b, c))\n",
    "\n",
    "input_file.close()"
   ]
  },
  {
   "cell_type": "markdown",
   "id": "8d38c559",
   "metadata": {},
   "source": [
    "Задание 5. Сумма последовательности чисел"
   ]
  },
  {
   "cell_type": "code",
   "execution_count": null,
   "id": "b27c2b97",
   "metadata": {},
   "outputs": [],
   "source": [
    "def count_sum():\n",
    "    sum_ = 0;\n",
    "    num_ = 0;\n",
    "    curr_num = int(input())\n",
    "    while (curr_num):\n",
    "        sum_+=curr_num\n",
    "        num_ += 1\n",
    "        curr_num = int(input())\n",
    "        \n",
    "        \n",
    "    return sum_, num_\n",
    "\n",
    "sum_, num_ = count_sum()\n",
    "print (str(num_) + \" \" + str(sum_))"
   ]
  },
  {
   "cell_type": "markdown",
   "id": "907a7505",
   "metadata": {},
   "source": [
    "Задание 6. Элемент геометрической прогрессии"
   ]
  },
  {
   "cell_type": "code",
   "execution_count": 4,
   "id": "286f425c",
   "metadata": {},
   "outputs": [
    {
     "name": "stdout",
     "output_type": "stream",
     "text": [
      "3\n"
     ]
    }
   ],
   "source": [
    "def calc_geom_prog(b, q, a):\n",
    "    if (a == 0):\n",
    "        return 0\n",
    "    \n",
    "    b_n = b\n",
    "    n = 1\n",
    "    while (b_n < a):\n",
    "        n+=1\n",
    "        b_n = b * q ** (n - 1)\n",
    "        \n",
    "    return n\n",
    "    \n",
    "\n",
    "def str_to_bqa (input_str):\n",
    "    b, q, a=input_str.split()\n",
    "    return float(b), float(q), float(a)\n",
    "\n",
    "b=0\n",
    "q=0\n",
    "a=0\n",
    "\n",
    "input_file = open(\"input.txt\", \"r\")\n",
    "\n",
    "b, q, a=str_to_bqa(input_file.read())\n",
    "\n",
    "print(calc_geom_prog(b, q, a))\n",
    "\n",
    "input_file.close()"
   ]
  },
  {
   "cell_type": "code",
   "execution_count": null,
   "id": "1949049b",
   "metadata": {},
   "outputs": [],
   "source": []
  }
 ],
 "metadata": {
  "kernelspec": {
   "display_name": "Python 3 (ipykernel)",
   "language": "python",
   "name": "python3"
  },
  "language_info": {
   "codemirror_mode": {
    "name": "ipython",
    "version": 3
   },
   "file_extension": ".py",
   "mimetype": "text/x-python",
   "name": "python",
   "nbconvert_exporter": "python",
   "pygments_lexer": "ipython3",
   "version": "3.9.5"
  }
 },
 "nbformat": 4,
 "nbformat_minor": 5
}
