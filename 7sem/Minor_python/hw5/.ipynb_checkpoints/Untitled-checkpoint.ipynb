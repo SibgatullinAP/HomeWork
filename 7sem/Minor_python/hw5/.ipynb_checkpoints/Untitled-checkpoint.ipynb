{
 "cells": [
  {
   "cell_type": "markdown",
   "id": "db43f094",
   "metadata": {},
   "source": [
    "Задание 3. Две команды"
   ]
  },
  {
   "cell_type": "code",
   "execution_count": 5,
   "id": "72191eeb",
   "metadata": {},
   "outputs": [
    {
     "ename": "NameError",
     "evalue": "name 'close' is not defined",
     "output_type": "error",
     "traceback": [
      "\u001b[0;31m---------------------------------------------------------------------------\u001b[0m",
      "\u001b[0;31mNameError\u001b[0m                                 Traceback (most recent call last)",
      "\u001b[0;32m/tmp/ipykernel_39978/3727314677.py\u001b[0m in \u001b[0;36m<module>\u001b[0;34m\u001b[0m\n\u001b[1;32m     20\u001b[0m \u001b[0;34m\u001b[0m\u001b[0m\n\u001b[1;32m     21\u001b[0m \u001b[0;34m\u001b[0m\u001b[0m\n\u001b[0;32m---> 22\u001b[0;31m \u001b[0mpupils_data\u001b[0m \u001b[0;34m=\u001b[0m \u001b[0mread_from_file\u001b[0m\u001b[0;34m(\u001b[0m\u001b[0;34m\"weights.txt\"\u001b[0m\u001b[0;34m)\u001b[0m\u001b[0;34m\u001b[0m\u001b[0;34m\u001b[0m\u001b[0m\n\u001b[0m\u001b[1;32m     23\u001b[0m \u001b[0mpupils_data\u001b[0m \u001b[0;34m=\u001b[0m \u001b[0mdata_processing\u001b[0m\u001b[0;34m(\u001b[0m\u001b[0mpupils_data\u001b[0m\u001b[0;34m)\u001b[0m\u001b[0;34m\u001b[0m\u001b[0;34m\u001b[0m\u001b[0m\n\u001b[1;32m     24\u001b[0m \u001b[0mwrite_to_file\u001b[0m \u001b[0;34m(\u001b[0m\u001b[0;34m\"team.txt\"\u001b[0m\u001b[0;34m,\u001b[0m \u001b[0mpupils_data\u001b[0m\u001b[0;34m)\u001b[0m\u001b[0;34m\u001b[0m\u001b[0;34m\u001b[0m\u001b[0m\n",
      "\u001b[0;32m/tmp/ipykernel_39978/3727314677.py\u001b[0m in \u001b[0;36mread_from_file\u001b[0;34m(input_file_path)\u001b[0m\n\u001b[1;32m      6\u001b[0m         \u001b[0mresult\u001b[0m\u001b[0;34m.\u001b[0m\u001b[0mappend\u001b[0m\u001b[0;34m(\u001b[0m\u001b[0mlist\u001b[0m\u001b[0;34m(\u001b[0m\u001b[0mpupils\u001b[0m\u001b[0;34m.\u001b[0m\u001b[0msplit\u001b[0m\u001b[0;34m(\u001b[0m\u001b[0;34m)\u001b[0m\u001b[0;34m)\u001b[0m\u001b[0;34m)\u001b[0m\u001b[0;34m\u001b[0m\u001b[0;34m\u001b[0m\u001b[0m\n\u001b[1;32m      7\u001b[0m \u001b[0;34m\u001b[0m\u001b[0m\n\u001b[0;32m----> 8\u001b[0;31m     \u001b[0mclose\u001b[0m\u001b[0;34m(\u001b[0m\u001b[0minput_file_path\u001b[0m\u001b[0;34m)\u001b[0m\u001b[0;34m\u001b[0m\u001b[0;34m\u001b[0m\u001b[0m\n\u001b[0m\u001b[1;32m      9\u001b[0m     \u001b[0;32mreturn\u001b[0m \u001b[0mresult\u001b[0m\u001b[0;34m\u001b[0m\u001b[0;34m\u001b[0m\u001b[0m\n\u001b[1;32m     10\u001b[0m \u001b[0;34m\u001b[0m\u001b[0m\n",
      "\u001b[0;31mNameError\u001b[0m: name 'close' is not defined"
     ]
    }
   ],
   "source": [
    "def read_from_file (input_file_path):\n",
    "    input_file = open(input_file_path, \"r\")\n",
    "    file_data = input_file.read()\n",
    "    result = []\n",
    "    for pupils in file_data.splitlines():\n",
    "        result.append(list(pupils.split()))\n",
    "        \n",
    "    input_file_path.close()\n",
    "    return result\n",
    "\n",
    "def write_to_file (output_file_path, data):\n",
    "    output_file = open(output_file_path, \"w\")\n",
    "    for line in data:\n",
    "          print(str(' '.join(line)), file=output_file)\n",
    "\n",
    "    output_file.close()\n",
    "    \n",
    "def data_processing (data):\n",
    "    return data\n",
    "    \n",
    "\n",
    "pupils_data = read_from_file(\"weights.txt\")\n",
    "pupils_data = data_processing(pupils_data)\n",
    "write_to_file (\"team.txt\", pupils_data)"
   ]
  },
  {
   "cell_type": "code",
   "execution_count": null,
   "id": "55ef9a60",
   "metadata": {},
   "outputs": [],
   "source": []
  }
 ],
 "metadata": {
  "kernelspec": {
   "display_name": "Python 3 (ipykernel)",
   "language": "python",
   "name": "python3"
  },
  "language_info": {
   "codemirror_mode": {
    "name": "ipython",
    "version": 3
   },
   "file_extension": ".py",
   "mimetype": "text/x-python",
   "name": "python",
   "nbconvert_exporter": "python",
   "pygments_lexer": "ipython3",
   "version": "3.9.5"
  }
 },
 "nbformat": 4,
 "nbformat_minor": 5
}
