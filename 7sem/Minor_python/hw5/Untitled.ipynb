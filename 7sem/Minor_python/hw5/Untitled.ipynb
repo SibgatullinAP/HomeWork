{
 "cells": [
  {
   "cell_type": "markdown",
   "id": "23175111",
   "metadata": {},
   "source": [
    "Задание 3. Две команды"
   ]
  },
  {
   "cell_type": "code",
   "execution_count": 22,
   "id": "99e403b0",
   "metadata": {},
   "outputs": [],
   "source": [
    "def read_from_file (input_file_path):\n",
    "    input_file = open(input_file_path, \"r\")\n",
    "    file_data = input_file.read()\n",
    "    result = []\n",
    "    for pupils in file_data.splitlines():\n",
    "        name, weight = pupils.split() \n",
    "        weight = float(weight)\n",
    "        result.append([name, weight])\n",
    "        \n",
    "    input_file.close()\n",
    "    return result\n",
    "\n",
    "def write_to_file (output_file_path, data):\n",
    "    output_file = open(output_file_path, \"w\")\n",
    "    for line in data:\n",
    "          print(str(' '.join([str(word) for word in line])), file=output_file)\n",
    "\n",
    "    output_file.close()\n",
    "    \n",
    "def data_processing (data):\n",
    "    data.sort(reverse=True, key=lambda pupil : pupil[1])\n",
    "    team_1 = data[::2]\n",
    "    team_2 = data[1::2]\n",
    "    return team_1 + team_2\n",
    "    \n",
    "\n",
    "pupils_data = read_from_file(\"weights.txt\")\n",
    "pupils_data = data_processing(pupils_data)\n",
    "write_to_file (\"team.txt\", pupils_data)"
   ]
  },
  {
   "cell_type": "markdown",
   "id": "3f546f71",
   "metadata": {},
   "source": [
    "Задание 4. Неопубликованный шедевр"
   ]
  },
  {
   "cell_type": "code",
   "execution_count": 24,
   "id": "be559eef",
   "metadata": {},
   "outputs": [],
   "source": [
    "def read_from_file (input_file_path):\n",
    "    input_file = open(input_file_path, \"r\")\n",
    "    file_data = input_file.read()\n",
    "    result = []\n",
    "    for line in file_data.splitlines():\n",
    "        result.append(line.split())\n",
    "        \n",
    "    input_file.close()\n",
    "    return result\n",
    "\n",
    "def write_to_file (output_file_path, data):\n",
    "    output_file = open(output_file_path, \"w\")\n",
    "    for line in data:\n",
    "          print(str(' '.join([str(word) for word in line])), file=output_file)\n",
    "\n",
    "    output_file.close()\n",
    "    \n",
    "def data_processing (data):\n",
    "    data.sort(key=lambda line : len(line))\n",
    "    for line in data:\n",
    "        line.sort(key=lambda word : len(word))\n",
    "    return data\n",
    "    \n",
    "\n",
    "data_before = read_from_file(\"poe_unpublished.txt\")\n",
    "data_after = data_processing(data_before)\n",
    "write_to_file (\"poe_decode_attempt.txt\", data_after)"
   ]
  },
  {
   "cell_type": "markdown",
   "id": "521555ce",
   "metadata": {},
   "source": [
    "Задание 5. Транспонирование"
   ]
  },
  {
   "cell_type": "code",
   "execution_count": 36,
   "id": "64cd23fa",
   "metadata": {},
   "outputs": [],
   "source": [
    "def read_from_file (input_file_path):\n",
    "    input_file = open(input_file_path, \"r\")\n",
    "    file_data = input_file.read()\n",
    "    result = []\n",
    "    for line in file_data.splitlines():\n",
    "        result.append(line.split())\n",
    "        \n",
    "    input_file.close()\n",
    "    return result\n",
    "\n",
    "def write_to_file (output_file_path, data):\n",
    "    output_file = open(output_file_path, \"w\")\n",
    "    for line in data:\n",
    "          print(str(' '.join([str(word) for word in line])), file=output_file)\n",
    "\n",
    "    output_file.close()\n",
    "    \n",
    "def data_processing (data):\n",
    "    m_size = len(data)\n",
    "    n_size = len(data[0])\n",
    "    \n",
    "    new_data = [[0 for i in range (m_size)] for j in range(n_size)]\n",
    "    \n",
    "    for i in range (n_size):\n",
    "        for j in range (m_size):\n",
    "            new_data[i][j] = data[j][i]\n",
    "        \n",
    "    return new_data\n",
    "    \n",
    "\n",
    "data_before = read_from_file(\"med_research.txt\")\n",
    "data_after = data_processing(data_before)\n",
    "write_to_file (\"output.txt\", data_after)"
   ]
  },
  {
   "cell_type": "code",
   "execution_count": null,
   "id": "f7e7b333",
   "metadata": {},
   "outputs": [],
   "source": [
    "Задание 6. Логирование звонков"
   ]
  },
  {
   "cell_type": "code",
   "execution_count": 38,
   "id": "c75a9a08",
   "metadata": {},
   "outputs": [],
   "source": [
    "def read_from_file (input_file_path):\n",
    "    input_file = open(input_file_path, \"r\")\n",
    "    file_data = input_file.read()\n",
    "    result = []\n",
    "    for line in file_data.splitlines():\n",
    "        date, elapsed, worker, phone = line.split(\"\\t\")\n",
    "        result.append([date, int(elapsed), worker, phone])\n",
    "        \n",
    "    input_file.close()\n",
    "    return result\n",
    "\n",
    "def write_to_file (output_file_path, data):\n",
    "    output_file = open(output_file_path, \"w\")\n",
    "    for line in data:\n",
    "          print(str('\\t'.join([str(word) for word in line])), file=output_file)\n",
    "\n",
    "    output_file.close()\n",
    "    \n",
    "def data_processing (data):\n",
    "    data.sort(reverse=True, key=lambda call : call[1])\n",
    "    data.sort(key=lambda call : call[2])\n",
    "        \n",
    "    return data\n",
    "    \n",
    "\n",
    "data_before = read_from_file(\"the_calls.txt\")\n",
    "data_after = data_processing(data_before)\n",
    "write_to_file (\"calls.txt\", data_after)"
   ]
  },
  {
   "cell_type": "code",
   "execution_count": null,
   "id": "73a4d9ff",
   "metadata": {},
   "outputs": [],
   "source": []
  }
 ],
 "metadata": {
  "kernelspec": {
   "display_name": "Python 3 (ipykernel)",
   "language": "python",
   "name": "python3"
  },
  "language_info": {
   "codemirror_mode": {
    "name": "ipython",
    "version": 3
   },
   "file_extension": ".py",
   "mimetype": "text/x-python",
   "name": "python",
   "nbconvert_exporter": "python",
   "pygments_lexer": "ipython3",
   "version": "3.9.5"
  }
 },
 "nbformat": 4,
 "nbformat_minor": 5
}
