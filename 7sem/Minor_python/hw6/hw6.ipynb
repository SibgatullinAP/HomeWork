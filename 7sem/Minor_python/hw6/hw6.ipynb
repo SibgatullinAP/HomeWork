{
  "nbformat": 4,
  "nbformat_minor": 0,
  "metadata": {
    "colab": {
      "name": "hw6.ipynb",
      "provenance": [],
      "collapsed_sections": []
    },
    "kernelspec": {
      "name": "python3",
      "display_name": "Python 3"
    },
    "language_info": {
      "name": "python"
    }
  },
  "cells": [
    {
      "cell_type": "markdown",
      "metadata": {
        "id": "leyQHG6Bo9o3"
      },
      "source": [
        "Задание 4. Наиболее часто встречающаяся цифра"
      ]
    },
    {
      "cell_type": "code",
      "metadata": {
        "colab": {
          "base_uri": "https://localhost:8080/"
        },
        "id": "C_BX8kXkpDY8",
        "outputId": "4768643a-925a-4d75-c90b-deb759c1c723"
      },
      "source": [
        "def most_common_number (number: int):\n",
        "  number_freq = [0] * 10\n",
        "  for dig in map (int, str(number)):\n",
        "    number_freq[dig] += 1\n",
        "  \n",
        "  return number_freq.index(max(number_freq))\n",
        "\n",
        "input_numb = int(input())\n",
        "print (most_common_number (input_numb))"
      ],
      "execution_count": null,
      "outputs": [
        {
          "output_type": "stream",
          "name": "stdout",
          "text": [
            "2021\n",
            "2\n"
          ]
        }
      ]
    },
    {
      "cell_type": "markdown",
      "metadata": {
        "id": "l7IVD-3MyjQf"
      },
      "source": [
        "Задание 5. Все виды животных"
      ]
    },
    {
      "cell_type": "code",
      "metadata": {
        "colab": {
          "base_uri": "https://localhost:8080/"
        },
        "id": "-KPxxwiHy1bm",
        "outputId": "8f675011-c23b-46d7-8980-ff7e44fcf9ae"
      },
      "source": [
        "def sort_name_by_length(input_str: str):\n",
        "  names = set()\n",
        "  for line in input_str.splitlines():\n",
        "    names.add([i for i in line.split()][1])\n",
        "\n",
        "  return (\"\\n\").join(sorted(names, key=len))\n",
        "\n",
        "\n",
        "input_file = open(\"/content/drive/MyDrive/hw6/input.txt\", \"r\")\n",
        "input_str = input_file.read ()\n",
        "\n",
        "print (sort_name_by_length(input_str))"
      ],
      "execution_count": null,
      "outputs": [
        {
          "output_type": "stream",
          "name": "stdout",
          "text": [
            "leopard\n",
            "orangutan\n"
          ]
        }
      ]
    },
    {
      "cell_type": "markdown",
      "metadata": {
        "id": "kmoBsXwBAwFn"
      },
      "source": [
        "Задание 6. Создание потомства"
      ]
    },
    {
      "cell_type": "code",
      "metadata": {
        "colab": {
          "base_uri": "https://localhost:8080/"
        },
        "id": "twzr5ApfA1xB",
        "outputId": "3806007f-c941-4c5c-906e-46b1b91c7219"
      },
      "source": [
        "def creating_children(input_str: str):\n",
        "  female_animal = set()\n",
        "  male_animal = set()\n",
        "  for line in input_str.splitlines():\n",
        "    tokenized_line = [i for i in line.split()]\n",
        "    if (tokenized_line[2] == \"male\"):\n",
        "      male_animal.add(tokenized_line[1])\n",
        "    elif (tokenized_line[2] == \"female\"):\n",
        "      female_animal.add(tokenized_line[1])\n",
        "\n",
        "  coupled_species = male_animal & female_animal\n",
        "\n",
        "  if (bool(coupled_species)):\n",
        "    return (\"\\n\").join(sorted(coupled_species, key=len))\n",
        "  else:\n",
        "    return 0\n",
        "\n",
        "\n",
        "input_file = open(\"/content/drive/MyDrive/hw6/input.txt\", \"r\")\n",
        "input_str = input_file.read ()\n",
        "\n",
        "print (creating_children(input_str))"
      ],
      "execution_count": 19,
      "outputs": [
        {
          "output_type": "stream",
          "name": "stdout",
          "text": [
            "leopard\n"
          ]
        }
      ]
    },
    {
      "cell_type": "markdown",
      "metadata": {
        "id": "HQP3a-K20XEo"
      },
      "source": [
        "Задание 7. Наиболее часто встречающееся животное"
      ]
    },
    {
      "cell_type": "code",
      "metadata": {
        "colab": {
          "base_uri": "https://localhost:8080/"
        },
        "id": "8TxlN0ga0fyH",
        "outputId": "92773253-1671-4455-f320-f72c44f52e73"
      },
      "source": [
        "def most_common_animal(input_str: str):\n",
        "  animals = {}\n",
        "  for line in input_str.splitlines():\n",
        "    animal_speices = [i for i in line.split()][1]\n",
        "    animals[animal_speices] = animals.get(animal_speices, 0) + 1\n",
        "\n",
        "  animals = list(sorted(animals.items(), key=lambda item: item[1], reverse=True))\n",
        "  result_str = \"\"\n",
        "  for animal in animals:\n",
        "    result_str += animal[0] + \" - \" + str(animal[1]) + \"\\n\"\n",
        "  return result_str\n",
        "\n",
        "\n",
        "input_file = open(\"/content/drive/MyDrive/hw6/input.txt\", \"r\")\n",
        "input_str = input_file.read ()\n",
        "\n",
        "print (most_common_animal(input_str))"
      ],
      "execution_count": 16,
      "outputs": [
        {
          "output_type": "stream",
          "name": "stdout",
          "text": [
            "leopard-2\n",
            "orangutan-1\n",
            "\n"
          ]
        }
      ]
    },
    {
      "cell_type": "markdown",
      "metadata": {
        "id": "Neg2pFGlODF7"
      },
      "source": [
        "Задание 8. ID животных"
      ]
    },
    {
      "cell_type": "code",
      "metadata": {
        "colab": {
          "base_uri": "https://localhost:8080/"
        },
        "id": "C_yPOEicOGQd",
        "outputId": "932b9b32-cb6c-485d-f874-de2fcdfa77c6"
      },
      "source": [
        "from collections import defaultdict\n",
        "\n",
        "def animal_to_ID(input_str: str):\n",
        "  animals = defaultdict(lambda : [])\n",
        "  for line in input_str.splitlines():\n",
        "    tokenized_animal=[i for i in line.split()]\n",
        "    animal_speices=tokenized_animal[1]\n",
        "    animals[animal_speices].append(tokenized_animal[0])\n",
        "\n",
        "  animals = list(sorted(animals.items(), key=lambda item: len(item[0])))\n",
        "  result_str = \"\"\n",
        "  for animal in animals:\n",
        "    result_str += animal[0] + \": \" + \", \".join([str(i) for i in sorted(animal[1])]) + \" \\n\"\n",
        "\n",
        "  return result_str\n",
        "\n",
        "\n",
        "input_file = open(\"/content/drive/MyDrive/hw6/input.txt\", \"r\")\n",
        "input_str = input_file.read ()\n",
        "\n",
        "print (animal_to_ID(input_str))"
      ],
      "execution_count": 38,
      "outputs": [
        {
          "output_type": "stream",
          "name": "stdout",
          "text": [
            "dog: 0003, 0003, 0003, 0003, 0043, 0043, 0043, 0043 \n",
            "lion: 0042, 0042, 0042, 0042 \n",
            "\n"
          ]
        }
      ]
    }
  ]
}