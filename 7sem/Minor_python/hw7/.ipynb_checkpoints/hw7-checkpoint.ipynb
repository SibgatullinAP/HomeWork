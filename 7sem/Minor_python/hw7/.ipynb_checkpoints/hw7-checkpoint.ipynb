{
 "cells": [
  {
   "cell_type": "markdown",
   "id": "853cf34c",
   "metadata": {},
   "source": [
    "Задание 2. Управление пекарней"
   ]
  },
  {
   "cell_type": "code",
   "execution_count": 1,
   "id": "c6c19d3b",
   "metadata": {},
   "outputs": [
    {
     "name": "stdout",
     "output_type": "stream",
     "text": [
      "27\n"
     ]
    }
   ],
   "source": [
    "import math \n",
    "\n",
    "def clients(day: int):\n",
    "    return math.exp(math.sin(day / 100) * day / 10) * 20\n",
    "\n",
    "print (int(clients(18)))"
   ]
  },
  {
   "cell_type": "markdown",
   "id": "61d56095",
   "metadata": {},
   "source": [
    "Задание 3. Битва при Азенкуре"
   ]
  },
  {
   "cell_type": "code",
   "execution_count": 6,
   "id": "41f5cabe",
   "metadata": {},
   "outputs": [
    {
     "name": "stdout",
     "output_type": "stream",
     "text": [
      "0\n",
      "None\n"
     ]
    }
   ],
   "source": [
    "import numpy as np\n",
    "\n",
    "# def binary_search(arr, number):\n",
    "#     size = arr.size()\n",
    "#     if (arr[size / 2] == number):\n",
    "#         return size / 2\n",
    "    \n",
    "#     if (arr[size / 2] > number):\n",
    "#         return binary_search (arr[:arr.size()], number)\n",
    "#     elif (arr[size / 2] < number):\n",
    "#         return binary_search (arr[arr.size():], number)\n",
    "\n",
    "def binary_search(arr, key):    \n",
    "    left = 0\n",
    "    right = arr.size\n",
    "    mid = (left + right) // 2\n",
    "    while (left < right):\n",
    "        if (arr[mid] == key):\n",
    "            return mid\n",
    "        elif (arr[mid] < key):\n",
    "            right = mid\n",
    "        else:\n",
    "            left = mid + 1\n",
    "        \n",
    "        print (mid)\n",
    "        mid = (left + right) // 2\n",
    "\n",
    "\n",
    "np_arr = np.fromfile(\"input.txt\")\n",
    "print (binary_search(np_arr, 1415))"
   ]
  },
  {
   "cell_type": "code",
   "execution_count": null,
   "id": "91feda1c",
   "metadata": {},
   "outputs": [],
   "source": []
  },
  {
   "cell_type": "code",
   "execution_count": null,
   "id": "cb8afcda",
   "metadata": {},
   "outputs": [],
   "source": []
  }
 ],
 "metadata": {
  "kernelspec": {
   "display_name": "Python 3 (ipykernel)",
   "language": "python",
   "name": "python3"
  },
  "language_info": {
   "codemirror_mode": {
    "name": "ipython",
    "version": 3
   },
   "file_extension": ".py",
   "mimetype": "text/x-python",
   "name": "python",
   "nbconvert_exporter": "python",
   "pygments_lexer": "ipython3",
   "version": "3.9.5"
  }
 },
 "nbformat": 4,
 "nbformat_minor": 5
}
