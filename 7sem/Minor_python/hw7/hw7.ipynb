{
 "cells": [
  {
   "cell_type": "markdown",
   "id": "853cf34c",
   "metadata": {},
   "source": [
    "Задание 2. Управление пекарней"
   ]
  },
  {
   "cell_type": "code",
   "execution_count": 1,
   "id": "c6c19d3b",
   "metadata": {},
   "outputs": [
    {
     "name": "stdout",
     "output_type": "stream",
     "text": [
      "27\n"
     ]
    }
   ],
   "source": [
    "import math \n",
    "\n",
    "def clients(day: int):\n",
    "    return math.exp(math.sin(day / 100) * day / 10) * 20\n",
    "\n",
    "print (int(clients(18)))"
   ]
  },
  {
   "cell_type": "markdown",
   "id": "61d56095",
   "metadata": {},
   "source": [
    "Задание 3. Битва при Азенкуре"
   ]
  },
  {
   "cell_type": "code",
   "execution_count": 3,
   "id": "41f5cabe",
   "metadata": {},
   "outputs": [
    {
     "name": "stdout",
     "output_type": "stream",
     "text": [
      "1\n"
     ]
    }
   ],
   "source": [
    "import numpy as np\n",
    "\n",
    "def binary_search(arr, key):    \n",
    "    left = 0\n",
    "    right = arr.size - 1\n",
    "    mid = (left + right) // 2\n",
    "    while (left <= right):\n",
    "        if (arr[mid] == key):\n",
    "            return mid\n",
    "        elif (arr[mid] < key):\n",
    "            left = mid + 1\n",
    "        else:\n",
    "            right = mid\n",
    "        \n",
    "        mid = (left + right) // 2\n",
    "\n",
    "np_arr = np.fromstring(open(\"input.txt\", \"r\").read(), dtype=int, sep=\" \")\n",
    "print (binary_search(np_arr, 1415))"
   ]
  },
  {
   "cell_type": "code",
   "execution_count": null,
   "id": "2ab53ff7",
   "metadata": {},
   "outputs": [],
   "source": []
  }
 ],
 "metadata": {
  "kernelspec": {
   "display_name": "Python 3 (ipykernel)",
   "language": "python",
   "name": "python3"
  },
  "language_info": {
   "codemirror_mode": {
    "name": "ipython",
    "version": 3
   },
   "file_extension": ".py",
   "mimetype": "text/x-python",
   "name": "python",
   "nbconvert_exporter": "python",
   "pygments_lexer": "ipython3",
   "version": "3.9.5"
  }
 },
 "nbformat": 4,
 "nbformat_minor": 5
}
