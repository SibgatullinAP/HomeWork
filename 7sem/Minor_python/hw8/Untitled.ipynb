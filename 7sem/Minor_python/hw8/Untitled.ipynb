{
 "cells": [
  {
   "cell_type": "code",
   "execution_count": null,
   "id": "f1853d93",
   "metadata": {},
   "outputs": [],
   "source": [
    "1. Немного статистики"
   ]
  },
  {
   "cell_type": "code",
   "execution_count": 5,
   "id": "4c8c9b9b",
   "metadata": {},
   "outputs": [
    {
     "name": "stdout",
     "output_type": "stream",
     "text": [
      "6104.00 5442.20 2612.10\n"
     ]
    }
   ],
   "source": [
    "import numpy as np\n",
    "\n",
    "np_arr = np.fromstring(open(\"input.txt\", \"r\").read(), dtype=int, sep=\" \")\n",
    "print(\"{:.2f} {:.2f} {:.2f}\".format(np.median(np_arr), np.mean(np_arr), np.std(np_arr)))"
   ]
  },
  {
   "cell_type": "code",
   "execution_count": 3,
   "id": "20efed1b",
   "metadata": {},
   "outputs": [
    {
     "name": "stdout",
     "output_type": "stream",
     "text": [
      "[[14 47 96 11 94 47 19 13 91 36]\n",
      " [17 22 61 16 70 43 36 50 25 22]\n",
      " [27 76 39 12 82 81 42 41 40 12]]\n",
      "1\n"
     ]
    }
   ],
   "source": [
    "import csv\n",
    "import numpy as np\n",
    "\n",
    "with open('input.csv', newline='') as csvfile:\n",
    "    np_arr = np.array(list(csv.reader(csvfile)))\n",
    "\n",
    "np_arr = np_arr.transpose().astype(int)\n",
    "\n",
    "freq_green = np.sum(np_arr[0])\n",
    "freq_lgreen = np.sum(np_arr[1])\n",
    "freq_leafgreen = np.sum(np_arr[2])\n",
    "\n",
    "max_ind  = 1 if (freq_green > freq_lgreen and freq_green > freq_leafgreen) else 2 if (freq_lgreen > freq_leafgreen and freq_lgreen > freq_green) else 3\n",
    "print (max_ind)"
   ]
  },
  {
   "cell_type": "code",
   "execution_count": null,
   "id": "d992f776",
   "metadata": {},
   "outputs": [],
   "source": [
    "Задача 4. Очистка логов"
   ]
  },
  {
   "cell_type": "code",
   "execution_count": 12,
   "id": "6b2a0a83",
   "metadata": {},
   "outputs": [],
   "source": [
    "import csv\n",
    "import numpy as np\n",
    "\n",
    "with open('input.csv', newline='') as incsvfile:\n",
    "    np_arr = np.genfromtxt(incsvfile, delimiter=',')\n",
    "\n",
    "for i in range(30):\n",
    "    for j in range(12):\n",
    "        if (i%2 != 0 and j % 2 == 0) or (i%2 == 0 and j % 2 != 0):\n",
    "            np_arr[i][j] /= 2\n",
    "\n",
    "with open('output.csv', 'w') as outcsvfile:\n",
    "    np.savetxt(outcsvfile, np_arr, delimiter=\",\", fmt=\"%g\")"
   ]
  },
  {
   "cell_type": "code",
   "execution_count": null,
   "id": "ae4993f5",
   "metadata": {},
   "outputs": [],
   "source": []
  }
 ],
 "metadata": {
  "kernelspec": {
   "display_name": "Python 3 (ipykernel)",
   "language": "python",
   "name": "python3"
  },
  "language_info": {
   "codemirror_mode": {
    "name": "ipython",
    "version": 3
   },
   "file_extension": ".py",
   "mimetype": "text/x-python",
   "name": "python",
   "nbconvert_exporter": "python",
   "pygments_lexer": "ipython3",
   "version": "3.9.5"
  }
 },
 "nbformat": 4,
 "nbformat_minor": 5
}
