{
 "cells": [
  {
   "cell_type": "code",
   "execution_count": null,
   "id": "395ceaec",
   "metadata": {},
   "outputs": [],
   "source": [
    "Задача 1. Железная логика"
   ]
  },
  {
   "cell_type": "code",
   "execution_count": 8,
   "id": "512ec27b",
   "metadata": {},
   "outputs": [
    {
     "name": "stdout",
     "output_type": "stream",
     "text": [
      "False True False\n",
      "False True True\n",
      "True False False\n"
     ]
    }
   ],
   "source": [
    "import itertools\n",
    "bool_value = (True, False)\n",
    "\n",
    "answer = []\n",
    "for x1, x2, x3 in itertools.product(bool_value, bool_value, bool_value):\n",
    "    if ((not x1 and x2 and not x3) or (not x1 and x2 and x3) or (x1 and not x2 and not x3)):\n",
    "        answer.append([x1, x2, x3])\n",
    "\n",
    "for i in sorted (answer):\n",
    "    print (*i)    "
   ]
  },
  {
   "cell_type": "code",
   "execution_count": null,
   "id": "ae236a0b",
   "metadata": {},
   "outputs": [],
   "source": [
    "Задача 2. Электрик Станислав и интернет-казино"
   ]
  },
  {
   "cell_type": "code",
   "execution_count": 7,
   "id": "e54dc6ff",
   "metadata": {},
   "outputs": [
    {
     "name": "stdout",
     "output_type": "stream",
     "text": [
      "Вишенка\n"
     ]
    }
   ],
   "source": [
    "import pandas as pd \n",
    "\n",
    "table = pd.read_csv(\"input.csv\")\n",
    "max_mean = table[table.columns[0]].mean()\n",
    "\n",
    "for name in table.columns:\n",
    "    if table[name].mean() > max_mean:\n",
    "        max_mean, res = table[name].mean(), name\n",
    "        \n",
    "print(res) "
   ]
  },
  {
   "cell_type": "code",
   "execution_count": null,
   "id": "ef49df9e",
   "metadata": {},
   "outputs": [],
   "source": [
    "3. Инвестор Генадий и новый Мерседес"
   ]
  },
  {
   "cell_type": "code",
   "execution_count": 9,
   "id": "f8f3a4a2",
   "metadata": {},
   "outputs": [
    {
     "name": "stdout",
     "output_type": "stream",
     "text": [
      "1 Мыло.ру\n"
     ]
    }
   ],
   "source": [
    "import pandas as pd \n",
    "\n",
    "table = pd.read_csv(\"input.csv\")\n",
    "max_sum = 0\n",
    "sum_ = 0;\n",
    "\n",
    "for name in table.columns:\n",
    "    if table[name].sum() > max_sum:\n",
    "        max_sum, res = table[name].sum(), name\n",
    "    sum_ += table[name].sum()\n",
    "        \n",
    "print(str(1 if sum_ > 8000000 else 0) + \" \" + res) "
   ]
  },
  {
   "cell_type": "code",
   "execution_count": null,
   "id": "2fafeea9",
   "metadata": {},
   "outputs": [],
   "source": []
  }
 ],
 "metadata": {
  "kernelspec": {
   "display_name": "Python 3 (ipykernel)",
   "language": "python",
   "name": "python3"
  },
  "language_info": {
   "codemirror_mode": {
    "name": "ipython",
    "version": 3
   },
   "file_extension": ".py",
   "mimetype": "text/x-python",
   "name": "python",
   "nbconvert_exporter": "python",
   "pygments_lexer": "ipython3",
   "version": "3.9.5"
  }
 },
 "nbformat": 4,
 "nbformat_minor": 5
}
