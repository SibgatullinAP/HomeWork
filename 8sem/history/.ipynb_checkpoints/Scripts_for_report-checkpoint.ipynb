{
 "cells": [
  {
   "cell_type": "code",
   "execution_count": 26,
   "id": "d574d871",
   "metadata": {},
   "outputs": [
    {
     "data": {
      "image/png": "[encoded data removed]",
      "text/plain": [
       "<Figure size 432x288 with 1 Axes>"
      ]
     },
     "metadata": {
      "needs_background": "light"
     },
     "output_type": "display_data"
    }
   ],
   "source": [
    "#Рисование области из задания\n",
    "import matplotlib\n",
    "import matplotlib.pyplot as plt\n",
    "\n",
    "def drawArea(axes, points):\n",
    "    polygon = plt.Polygon(points)\n",
    "    axes.add_patch(polygon)\n",
    "    \n",
    "def drawVectors(axes, begin_points):\n",
    "    arrow_x0 = -0.5\n",
    "    arrow_y0 = 1\n",
    "    arrow_dx = 0.5\n",
    "    arrow_dy = 0\n",
    "\n",
    "    arrow = matplotlib.patches.Arrow(arrow_x0,\n",
    "                                     arrow_y0,\n",
    "                                     arrow_dx,\n",
    "                                     arrow_dy,\n",
    "                                     width=0.2,\n",
    "                                     color=\"r\")\n",
    "    axes.add_patch(arrow)\n",
    "\n",
    "\n",
    "plt.xlim(-1, 4)\n",
    "plt.ylim(-1, 4)\n",
    "plt.grid()\n",
    "axes = plt.gca()\n",
    "#axes.set_aspect(\"equal\")\n",
    "\n",
    "points = [[0, 1], [0, 2], [2, 2], [2, 3], [3, 3], [3, 0], [1, 0], [1, 1], [0, 1]]\n",
    "drawArea (axes, points)\n",
    "\n",
    "\n",
    "drawArrow (axes)\n",
    "\n",
    "plt.show()"
   ]
  },
  {
   "cell_type": "code",
   "execution_count": null,
   "id": "4d55ef0b",
   "metadata": {},
   "outputs": [],
   "source": []
  },
  {
   "cell_type": "code",
   "execution_count": null,
   "id": "a638d57d",
   "metadata": {},
   "outputs": [],
   "source": []
  }
 ],
 "metadata": {
  "kernelspec": {
   "display_name": "Python 3 (ipykernel)",
   "language": "python",
   "name": "python3"
  },
  "language_info": {
   "codemirror_mode": {
    "name": "ipython",
    "version": 3
   },
   "file_extension": ".py",
   "mimetype": "text/x-python",
   "name": "python",
   "nbconvert_exporter": "python",
   "pygments_lexer": "ipython3",
   "version": "3.9.5"
  }
 },
 "nbformat": 4,
 "nbformat_minor": 5
}
