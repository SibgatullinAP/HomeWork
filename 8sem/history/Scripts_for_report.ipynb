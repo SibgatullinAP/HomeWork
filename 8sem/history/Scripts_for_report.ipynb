{
 "cells": [
  {
   "cell_type": "code",
   "execution_count": 31,
   "id": "833376de",
   "metadata": {},
   "outputs": [
    {
     "data": {
      "image/png": "[encoded data removed]",
      "text/plain": [
       "<Figure size 432x288 with 1 Axes>"
      ]
     },
     "metadata": {
      "needs_background": "light"
     },
     "output_type": "display_data"
    }
   ],
   "source": [
    "#Рисование области из задания\n",
    "import matplotlib\n",
    "import matplotlib.pyplot as plt\n",
    "\n",
    "def drawArea(axes, points):\n",
    "    polygon = plt.Polygon(points)\n",
    "    axes.add_patch(polygon)\n",
    "    \n",
    "def drawVectors(axes, beginPoints):\n",
    "    arrow_dx = 0.5\n",
    "    arrow_dy = 0\n",
    "\n",
    "    for beginPoint in beginPoints:\n",
    "        arrow = matplotlib.patches.Arrow(beginPoint[0],\n",
    "                                     beginPoint[1],\n",
    "                                     arrow_dx,\n",
    "                                     arrow_dy,\n",
    "                                     width=0.2,\n",
    "                                     color=\"r\")\n",
    "        axes.add_patch(arrow)\n",
    "\n",
    "\n",
    "plt.xlim(-1, 4)\n",
    "plt.ylim(-1, 4)\n",
    "plt.grid()\n",
    "axes = plt.gca()\n",
    "#axes.set_aspect(\"equal\")\n",
    "\n",
    "#Рисуем область \n",
    "points = [[0, 1], [0, 2], [2, 2], [2, 3], [3, 3], [3, 0], [1, 0], [1, 1], [0, 1]]\n",
    "drawArea (axes, points)\n",
    "\n",
    "#Рисуем вектора входящего потока газа\n",
    "beginPoints = []\n",
    "for i in range (5 + 1):\n",
    "    beginPoints.append ([-0.5, 1 + 1 / 5 * i])\n",
    "drawVectors (axes, beginPoints)\n",
    "\n",
    "#Рисуем вектора выходящего потока газа\n",
    "\n",
    "plt.show()"
   ]
  },
  {
   "cell_type": "code",
   "execution_count": null,
   "id": "13f2aa7a",
   "metadata": {},
   "outputs": [],
   "source": []
  },
  {
   "cell_type": "code",
   "execution_count": null,
   "id": "46c6a5c2",
   "metadata": {},
   "outputs": [],
   "source": []
  },
  {
   "cell_type": "code",
   "execution_count": null,
   "id": "30e86448",
   "metadata": {},
   "outputs": [],
   "source": []
  }
 ],
 "metadata": {
  "kernelspec": {
   "display_name": "Python 3 (ipykernel)",
   "language": "python",
   "name": "python3"
  },
  "language_info": {
   "codemirror_mode": {
    "name": "ipython",
    "version": 3
   },
   "file_extension": ".py",
   "mimetype": "text/x-python",
   "name": "python",
   "nbconvert_exporter": "python",
   "pygments_lexer": "ipython3",
   "version": "3.9.5"
  }
 },
 "nbformat": 4,
 "nbformat_minor": 5
}
