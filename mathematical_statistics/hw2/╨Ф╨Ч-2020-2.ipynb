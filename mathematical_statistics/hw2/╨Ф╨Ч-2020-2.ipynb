{
 "cells": [
  {
   "cell_type": "markdown",
   "metadata": {},
   "source": [
    "# Теоретическая часть\n"
   ]
  },
  {
   "cell_type": "markdown",
   "metadata": {},
   "source": [
    "Задача 1\n",
    "\n",
    "Построить оценки методом моментов и методом максимума правдоподобия для \n",
    "\n",
    "А\n",
    "\n",
    "1) параметра распределения Пуассона;\n",
    "\n",
    "2) параметра $(x_0, \\alpha)$ распределения Парето с плотностью\n",
    "$$\n",
    "p(x) = \\frac{\\alpha}{x_0}\\left( \\frac{x}{x_0}\\right)^{-\\alpha-1},\\,\\, x\\ge x_0\n",
    "$$\n",
    "\n",
    "В\n",
    "\n",
    "1) вероятности успеха для геометрического распределения\n",
    "\n",
    "2) параметра $(x_0, \\theta)$ cдвинутого показательного распределения\n",
    "$$\n",
    "p(x) = \\frac{1}{\\theta}e^{-\\frac{1}{\\theta}(x-x_0)},\\,\\, x\\ge x_0\n",
    "$$\n",
    "\n",
    "С\n",
    "\n",
    "1) параметра $\\theta$ гамма распределения \n",
    "$$\n",
    "p(x) = \\frac{x^{k-1}}{\\theta^k(k-1)!}e^{-x/\\theta},\\,\\, x\\ge 0\n",
    "$$\n",
    "\n",
    "\n",
    "\n",
    "2) Биномиального распределения с двумя неизвестными параметрами: число испытаний и вероятность успеха\n"
   ]
  },
  {
   "cell_type": "markdown",
   "metadata": {},
   "source": [
    "Задача 2\n",
    "\n",
    "Построить асимптотический доверительный интервал (доказав асимптотическую нормальность соответствующих оценок) \n",
    "\n",
    "А \n",
    "\n",
    "1) для параметра распределения Пуассона; (на основе оценки максимума правдоподобия)\n",
    "\n",
    "2) для параметра $\\alpha$ распределения Парето с неизвестным $x_0$ (на основе оценки максимума правдоподобия)\n",
    "\n",
    "В \n",
    "\n",
    "1) для вероятности успеха для геометрического распределения (на основе оценки максимума правдоподобия)\n",
    "\n",
    "2) для параметра $\\theta$ на основе оценки, полученной методом квантилей, для распределения Коши  с двумя неизвестными параметрами $\\theta, \\sigma$\n",
    " $$\n",
    " p(x) = \\frac{1}{\\pi\\sigma(1+((x-\\theta)/\\sigma)^2)}\n",
    " $$\n",
    "\n",
    "\n",
    "С \n",
    "\n",
    "На основе оценки максимума правдоподобия\n",
    "\n",
    "1) для вероятности успеха биномиального распределения с известным числом испытаний\n",
    "\n",
    "2) для вероятности успеха биномиального распределения с неизвестным числом испытаний\n",
    "\n",
    "D \n",
    "\n",
    "На основе оценки метода моментов\n",
    "\n",
    "1) для вероятности успеха биномиального распределения с известным числом испытаний\n",
    "\n",
    "2) для вероятности успеха биномиального распределения с неизвестным числом испытаний\n"
   ]
  },
  {
   "cell_type": "markdown",
   "metadata": {},
   "source": [
    "# Практическая часть"
   ]
  },
  {
   "cell_type": "markdown",
   "metadata": {},
   "source": [
    "Задача 3\n",
    "\n",
    "По выборке (безосновательно надеясь, что второй момент конечен)\n",
    "построить состоятельные оценки математического ожидания и дисперсии, а также асимптотический доверительный интервал для среднего (то есть для математического ожидания) той случайной величины, что указана в таблице\n"
   ]
  },
  {
   "cell_type": "code",
   "execution_count": 56,
   "metadata": {},
   "outputs": [],
   "source": [
    "import numpy as np\n",
    "import matplotlib.pyplot as plt\n",
    "import seaborn as sns\n",
    "import pandas as pd\n",
    "from scipy import stats\n",
    "pd.set_option('max_colwidth', 80)\n",
    "np.random.seed(5)"
   ]
  },
  {
   "cell_type": "code",
   "execution_count": 58,
   "metadata": {},
   "outputs": [
    {
     "data": {
      "text/html": [
       "<div>\n",
       "<style scoped>\n",
       "    .dataframe tbody tr th:only-of-type {\n",
       "        vertical-align: middle;\n",
       "    }\n",
       "\n",
       "    .dataframe tbody tr th {\n",
       "        vertical-align: top;\n",
       "    }\n",
       "\n",
       "    .dataframe thead th {\n",
       "        text-align: right;\n",
       "    }\n",
       "</style>\n",
       "<table border=\"1\" class=\"dataframe\">\n",
       "  <thead>\n",
       "    <tr style=\"text-align: right;\">\n",
       "      <th></th>\n",
       "      <th>ФИО</th>\n",
       "      <th>Задача 1</th>\n",
       "      <th>Задача 2</th>\n",
       "      <th>Задача 3</th>\n",
       "    </tr>\n",
       "  </thead>\n",
       "  <tbody>\n",
       "    <tr>\n",
       "      <td>0</td>\n",
       "      <td>Арсланова Алина Рустямовна</td>\n",
       "      <td>B</td>\n",
       "      <td>C</td>\n",
       "      <td>Инкубационный период  у женщин</td>\n",
       "    </tr>\n",
       "    <tr>\n",
       "      <td>1</td>\n",
       "      <td>Афиногенова Ирина Андреевна</td>\n",
       "      <td>B</td>\n",
       "      <td>A</td>\n",
       "      <td>возраст  мужчин</td>\n",
       "    </tr>\n",
       "    <tr>\n",
       "      <td>2</td>\n",
       "      <td>Винницкий Всеволод Сергеевич</td>\n",
       "      <td>B</td>\n",
       "      <td>D</td>\n",
       "      <td>возраст  мужчин</td>\n",
       "    </tr>\n",
       "    <tr>\n",
       "      <td>3</td>\n",
       "      <td>Григорьев Степан Александрович</td>\n",
       "      <td>A</td>\n",
       "      <td>D</td>\n",
       "      <td>Время от первых симптомов до выздоровления у женщин</td>\n",
       "    </tr>\n",
       "    <tr>\n",
       "      <td>4</td>\n",
       "      <td>Дерюгин Максим Сергеевич</td>\n",
       "      <td>C</td>\n",
       "      <td>C</td>\n",
       "      <td>возраст в ЯпонииИнкубационный период  у мужчин</td>\n",
       "    </tr>\n",
       "    <tr>\n",
       "      <td>5</td>\n",
       "      <td>Карковский Остап Игоревич</td>\n",
       "      <td>C</td>\n",
       "      <td>D</td>\n",
       "      <td>Инкубационный период в Китае</td>\n",
       "    </tr>\n",
       "    <tr>\n",
       "      <td>6</td>\n",
       "      <td>Кармацких Ирина Вадимовна</td>\n",
       "      <td>C</td>\n",
       "      <td>A</td>\n",
       "      <td>Время от первых симптомов до выздоровления после 60 лет</td>\n",
       "    </tr>\n",
       "    <tr>\n",
       "      <td>7</td>\n",
       "      <td>Кутасин Кирилл Андреевич</td>\n",
       "      <td>B</td>\n",
       "      <td>A</td>\n",
       "      <td>возраст в Китае</td>\n",
       "    </tr>\n",
       "    <tr>\n",
       "      <td>8</td>\n",
       "      <td>Лебедь Иван Сергеевич</td>\n",
       "      <td>C</td>\n",
       "      <td>A</td>\n",
       "      <td>Время от первых симптомов до выздоровления у женщин</td>\n",
       "    </tr>\n",
       "    <tr>\n",
       "      <td>9</td>\n",
       "      <td>Лобанова Валерия Алексеевна</td>\n",
       "      <td>A</td>\n",
       "      <td>C</td>\n",
       "      <td>возраст  мужчин</td>\n",
       "    </tr>\n",
       "    <tr>\n",
       "      <td>10</td>\n",
       "      <td>Локтев Дмитрий Константинович</td>\n",
       "      <td>B</td>\n",
       "      <td>A</td>\n",
       "      <td>Время от первых симптомов до выздоровления у мужчин</td>\n",
       "    </tr>\n",
       "    <tr>\n",
       "      <td>11</td>\n",
       "      <td>Мартынов Николай Сергеевич</td>\n",
       "      <td>C</td>\n",
       "      <td>C</td>\n",
       "      <td>Время от первых симптомов до выздоровления до 60 лет</td>\n",
       "    </tr>\n",
       "    <tr>\n",
       "      <td>12</td>\n",
       "      <td>Намит Максим Михайлович</td>\n",
       "      <td>B</td>\n",
       "      <td>B</td>\n",
       "      <td>Инкубационный период  у женщин</td>\n",
       "    </tr>\n",
       "    <tr>\n",
       "      <td>13</td>\n",
       "      <td>Попова Анна Романовна</td>\n",
       "      <td>A</td>\n",
       "      <td>C</td>\n",
       "      <td>возраст в ЯпонииИнкубационный период  у мужчин</td>\n",
       "    </tr>\n",
       "    <tr>\n",
       "      <td>14</td>\n",
       "      <td>Сибгатуллин Артур Петрович</td>\n",
       "      <td>B</td>\n",
       "      <td>D</td>\n",
       "      <td>возраст в Китае</td>\n",
       "    </tr>\n",
       "    <tr>\n",
       "      <td>15</td>\n",
       "      <td>Сокунов Дмитрий Антонович</td>\n",
       "      <td>C</td>\n",
       "      <td>B</td>\n",
       "      <td>Время от первых симптомов до выздоровления до 60 лет</td>\n",
       "    </tr>\n",
       "    <tr>\n",
       "      <td>16</td>\n",
       "      <td>Стрельчик Роман Семёнович</td>\n",
       "      <td>A</td>\n",
       "      <td>B</td>\n",
       "      <td>возраст в Китае</td>\n",
       "    </tr>\n",
       "    <tr>\n",
       "      <td>17</td>\n",
       "      <td>Тимофеев Кирилл Сергеевич</td>\n",
       "      <td>A</td>\n",
       "      <td>C</td>\n",
       "      <td>Время от первых симптомов до выздоровления у женщин</td>\n",
       "    </tr>\n",
       "    <tr>\n",
       "      <td>18</td>\n",
       "      <td>Устинов Никита Евгеньевич</td>\n",
       "      <td>A</td>\n",
       "      <td>A</td>\n",
       "      <td>Инкубационный период в Китае</td>\n",
       "    </tr>\n",
       "    <tr>\n",
       "      <td>19</td>\n",
       "      <td>Федотов Иван Андреевич</td>\n",
       "      <td>A</td>\n",
       "      <td>B</td>\n",
       "      <td>возраст в Европе</td>\n",
       "    </tr>\n",
       "    <tr>\n",
       "      <td>20</td>\n",
       "      <td>Фирсов Михаил Михайлович</td>\n",
       "      <td>B</td>\n",
       "      <td>C</td>\n",
       "      <td>Время от первых симптомов до выздоровления после 60 лет</td>\n",
       "    </tr>\n",
       "    <tr>\n",
       "      <td>21</td>\n",
       "      <td>Чухнов Антон Владимирович</td>\n",
       "      <td>C</td>\n",
       "      <td>A</td>\n",
       "      <td>возраст в Китае</td>\n",
       "    </tr>\n",
       "    <tr>\n",
       "      <td>22</td>\n",
       "      <td>Шиканян Лев Романович</td>\n",
       "      <td>C</td>\n",
       "      <td>D</td>\n",
       "      <td>возраст в Китае</td>\n",
       "    </tr>\n",
       "  </tbody>\n",
       "</table>\n",
       "</div>"
      ],
      "text/plain": [
       "                               ФИО Задача 1 Задача 2  \\\n",
       "0       Арсланова Алина Рустямовна        B        C   \n",
       "1      Афиногенова Ирина Андреевна        B        A   \n",
       "2     Винницкий Всеволод Сергеевич        B        D   \n",
       "3   Григорьев Степан Александрович        A        D   \n",
       "4         Дерюгин Максим Сергеевич        C        C   \n",
       "5        Карковский Остап Игоревич        C        D   \n",
       "6        Кармацких Ирина Вадимовна        C        A   \n",
       "7         Кутасин Кирилл Андреевич        B        A   \n",
       "8            Лебедь Иван Сергеевич        C        A   \n",
       "9      Лобанова Валерия Алексеевна        A        C   \n",
       "10   Локтев Дмитрий Константинович        B        A   \n",
       "11      Мартынов Николай Сергеевич        C        C   \n",
       "12         Намит Максим Михайлович        B        B   \n",
       "13           Попова Анна Романовна        A        C   \n",
       "14      Сибгатуллин Артур Петрович        B        D   \n",
       "15       Сокунов Дмитрий Антонович        C        B   \n",
       "16       Стрельчик Роман Семёнович        A        B   \n",
       "17       Тимофеев Кирилл Сергеевич        A        C   \n",
       "18       Устинов Никита Евгеньевич        A        A   \n",
       "19          Федотов Иван Андреевич        A        B   \n",
       "20        Фирсов Михаил Михайлович        B        C   \n",
       "21       Чухнов Антон Владимирович        C        A   \n",
       "22           Шиканян Лев Романович        C        D   \n",
       "\n",
       "                                                   Задача 3  \n",
       "0                            Инкубационный период  у женщин  \n",
       "1                                           возраст  мужчин  \n",
       "2                                           возраст  мужчин  \n",
       "3       Время от первых симптомов до выздоровления у женщин  \n",
       "4            возраст в ЯпонииИнкубационный период  у мужчин  \n",
       "5                              Инкубационный период в Китае  \n",
       "6   Время от первых симптомов до выздоровления после 60 лет  \n",
       "7                                           возраст в Китае  \n",
       "8       Время от первых симптомов до выздоровления у женщин  \n",
       "9                                           возраст  мужчин  \n",
       "10      Время от первых симптомов до выздоровления у мужчин  \n",
       "11     Время от первых симптомов до выздоровления до 60 лет  \n",
       "12                           Инкубационный период  у женщин  \n",
       "13           возраст в ЯпонииИнкубационный период  у мужчин  \n",
       "14                                          возраст в Китае  \n",
       "15     Время от первых симптомов до выздоровления до 60 лет  \n",
       "16                                          возраст в Китае  \n",
       "17      Время от первых симптомов до выздоровления у женщин  \n",
       "18                             Инкубационный период в Китае  \n",
       "19                                         возраст в Европе  \n",
       "20  Время от первых симптомов до выздоровления после 60 лет  \n",
       "21                                          возраст в Китае  \n",
       "22                                          возраст в Китае  "
      ]
     },
     "execution_count": 58,
     "metadata": {},
     "output_type": "execute_result"
    }
   ],
   "source": [
    "students = pd.read_excel(\"310.xlsx\")\n",
    "students=students.drop('почта', axis = 1)\n",
    "students.insert(1,'Задача 1', np.random.choice(['A','B',\"C\"], size = len(students)))\n",
    "students.insert(2,'Задача 2', np.random.choice(['A','B',\"C\",'D'], size = len(students)))\n",
    "students.insert(3,'Задача 3', np.random.choice(['Время от первых симптомов до выздоровления у мужчин', 'Время от первых симптомов до выздоровления у женщин', \n",
    "'Время от первых симптомов до выздоровления до 60 лет', 'Время от первых симптомов до выздоровления после 60 лет', 'возраст в Китае', 'возраст в Японии',\n",
    "'Инкубационный период в Китае', 'Инкубационный период в Азии кроме Китая', \n",
    "'возраст  мужчин', 'возраст женщин', 'возраст в Европе', \"возраст в Китае\", 'возраст в Японии'\n",
    " 'Инкубационный период  у мужчин', 'Инкубационный период  у женщин'],size = len(students)))\n",
    "students\n",
    "\n",
    "\n"
   ]
  },
  {
   "cell_type": "code",
   "execution_count": 2,
   "metadata": {},
   "outputs": [
    {
     "data": {
      "text/html": [
       "<div>\n",
       "<style scoped>\n",
       "    .dataframe tbody tr th:only-of-type {\n",
       "        vertical-align: middle;\n",
       "    }\n",
       "\n",
       "    .dataframe tbody tr th {\n",
       "        vertical-align: top;\n",
       "    }\n",
       "\n",
       "    .dataframe thead th {\n",
       "        text-align: right;\n",
       "    }\n",
       "</style>\n",
       "<table border=\"1\" class=\"dataframe\">\n",
       "  <thead>\n",
       "    <tr style=\"text-align: right;\">\n",
       "      <th></th>\n",
       "      <th>reporting date</th>\n",
       "      <th>location</th>\n",
       "      <th>country</th>\n",
       "      <th>gender</th>\n",
       "      <th>age</th>\n",
       "      <th>symptom_onset</th>\n",
       "      <th>exposure_start</th>\n",
       "      <th>exposure_end</th>\n",
       "      <th>visiting Wuhan</th>\n",
       "      <th>from Wuhan</th>\n",
       "      <th>death</th>\n",
       "      <th>recovered</th>\n",
       "    </tr>\n",
       "  </thead>\n",
       "  <tbody>\n",
       "    <tr>\n",
       "      <td>0</td>\n",
       "      <td>1/20/2020</td>\n",
       "      <td>Shenzhen, Guangdong</td>\n",
       "      <td>China</td>\n",
       "      <td>male</td>\n",
       "      <td>66.0</td>\n",
       "      <td>01/03/20</td>\n",
       "      <td>12/29/2019</td>\n",
       "      <td>01/04/20</td>\n",
       "      <td>1</td>\n",
       "      <td>0.0</td>\n",
       "      <td>0</td>\n",
       "      <td>0</td>\n",
       "    </tr>\n",
       "    <tr>\n",
       "      <td>1</td>\n",
       "      <td>1/20/2020</td>\n",
       "      <td>Shanghai</td>\n",
       "      <td>China</td>\n",
       "      <td>female</td>\n",
       "      <td>56.0</td>\n",
       "      <td>1/15/2020</td>\n",
       "      <td>NaN</td>\n",
       "      <td>01/12/20</td>\n",
       "      <td>0</td>\n",
       "      <td>1.0</td>\n",
       "      <td>0</td>\n",
       "      <td>0</td>\n",
       "    </tr>\n",
       "    <tr>\n",
       "      <td>2</td>\n",
       "      <td>1/21/2020</td>\n",
       "      <td>Zhejiang</td>\n",
       "      <td>China</td>\n",
       "      <td>male</td>\n",
       "      <td>46.0</td>\n",
       "      <td>01/04/20</td>\n",
       "      <td>NaN</td>\n",
       "      <td>01/03/20</td>\n",
       "      <td>0</td>\n",
       "      <td>1.0</td>\n",
       "      <td>0</td>\n",
       "      <td>0</td>\n",
       "    </tr>\n",
       "    <tr>\n",
       "      <td>3</td>\n",
       "      <td>1/21/2020</td>\n",
       "      <td>Tianjin</td>\n",
       "      <td>China</td>\n",
       "      <td>female</td>\n",
       "      <td>60.0</td>\n",
       "      <td>NaN</td>\n",
       "      <td>NaN</td>\n",
       "      <td>NaN</td>\n",
       "      <td>1</td>\n",
       "      <td>0.0</td>\n",
       "      <td>0</td>\n",
       "      <td>0</td>\n",
       "    </tr>\n",
       "    <tr>\n",
       "      <td>4</td>\n",
       "      <td>1/21/2020</td>\n",
       "      <td>Tianjin</td>\n",
       "      <td>China</td>\n",
       "      <td>male</td>\n",
       "      <td>58.0</td>\n",
       "      <td>NaN</td>\n",
       "      <td>NaN</td>\n",
       "      <td>NaN</td>\n",
       "      <td>0</td>\n",
       "      <td>0.0</td>\n",
       "      <td>0</td>\n",
       "      <td>0</td>\n",
       "    </tr>\n",
       "  </tbody>\n",
       "</table>\n",
       "</div>"
      ],
      "text/plain": [
       "  reporting date             location country  gender   age symptom_onset  \\\n",
       "0      1/20/2020  Shenzhen, Guangdong   China    male  66.0      01/03/20   \n",
       "1      1/20/2020             Shanghai   China  female  56.0     1/15/2020   \n",
       "2      1/21/2020             Zhejiang   China    male  46.0      01/04/20   \n",
       "3      1/21/2020              Tianjin   China  female  60.0           NaN   \n",
       "4      1/21/2020              Tianjin   China    male  58.0           NaN   \n",
       "\n",
       "  exposure_start exposure_end  visiting Wuhan  from Wuhan death recovered  \n",
       "0     12/29/2019     01/04/20               1         0.0     0         0  \n",
       "1            NaN     01/12/20               0         1.0     0         0  \n",
       "2            NaN     01/03/20               0         1.0     0         0  \n",
       "3            NaN          NaN               1         0.0     0         0  \n",
       "4            NaN          NaN               0         0.0     0         0  "
      ]
     },
     "execution_count": 2,
     "metadata": {},
     "output_type": "execute_result"
    }
   ],
   "source": [
    "data = pd.read_csv(\"covid_short_data-5.csv\")\n",
    "data.head()"
   ]
  },
  {
   "cell_type": "code",
   "execution_count": 249,
   "metadata": {},
   "outputs": [
    {
     "data": {
      "text/plain": [
       "pandas.core.frame.DataFrame"
      ]
     },
     "execution_count": 249,
     "metadata": {},
     "output_type": "execute_result"
    }
   ],
   "source": [
    "type(data)"
   ]
  },
  {
   "cell_type": "code",
   "execution_count": 6,
   "metadata": {},
   "outputs": [
    {
     "name": "stdout",
     "output_type": "stream",
     "text": [
      "0    66.0\n",
      "1    56.0\n",
      "2    46.0\n",
      "3    60.0\n",
      "4    58.0\n",
      "5    44.0\n",
      "6    34.0\n",
      "7    37.0\n",
      "8    39.0\n",
      "9    56.0\n",
      "Name: age, dtype: float64\n"
     ]
    }
   ],
   "source": [
    "print(data['age'][0:10])"
   ]
  },
  {
   "cell_type": "markdown",
   "metadata": {},
   "source": [
    "symptom_onset - дата появления симптомов\n",
    "\n",
    "exposure_start - дата начала контакта с вирусом\n",
    "\n",
    "exposure_end - дата окончания контакта с вирусом\n"
   ]
  },
  {
   "cell_type": "markdown",
   "metadata": {},
   "source": [
    "\n",
    "Работа с датами"
   ]
  },
  {
   "cell_type": "code",
   "execution_count": 7,
   "metadata": {},
   "outputs": [],
   "source": [
    "from datetime import datetime"
   ]
  },
  {
   "cell_type": "code",
   "execution_count": 8,
   "metadata": {},
   "outputs": [
    {
     "name": "stdout",
     "output_type": "stream",
     "text": [
      "43 days\n"
     ]
    },
    {
     "data": {
      "text/plain": [
       "int"
      ]
     },
     "execution_count": 8,
     "metadata": {},
     "output_type": "execute_result"
    }
   ],
   "source": [
    "\n",
    "def to_date(date):\n",
    "    if len(date.split('/')[-1])==2:\n",
    "        return datetime.strptime(date, '%m/%d/%y').date()\n",
    "    return datetime.strptime(date, '%m/%d/%Y').date()\n",
    "def numOfDays(date1, date2): \n",
    "    return (to_date(date2)-to_date(date1)).days \n",
    "      \n",
    "date1 = '12/31/2019'\n",
    "date2 = '02/12/20'\n",
    "print(numOfDays(date1, date2), \"days\") \n",
    "type(numOfDays(date1, date2))"
   ]
  },
  {
   "cell_type": "markdown",
   "metadata": {},
   "source": [
    "Применяем к файлу: посчитаем число дней от заболевания до даты отчета у мужчин"
   ]
  },
  {
   "cell_type": "code",
   "execution_count": 9,
   "metadata": {},
   "outputs": [],
   "source": [
    "daysMale = np.array([numOfDays(data['symptom_onset'][n], data['reporting date'][n]) \n",
    "                     for n in range(len(data['reporting date'])) \n",
    "                     if type(data['symptom_onset'][n]) == str \n",
    "                     and type(data['reporting date'][n]) == str \n",
    "                     and data['gender'][n] == 'male'])"
   ]
  },
  {
   "cell_type": "code",
   "execution_count": 84,
   "metadata": {
    "scrolled": true
   },
   "outputs": [
    {
     "name": "stdout",
     "output_type": "stream",
     "text": [
      "3.0\n"
     ]
    },
    {
     "data": {
      "text/plain": [
       "numpy.float64"
      ]
     },
     "execution_count": 84,
     "metadata": {},
     "output_type": "execute_result"
    }
   ],
   "source": [
    "deltaDays = np.array([numOfDays(data['exposure_start'][n], data['exposure_end'][n]) \n",
    "                     for n in range(len(data['reporting date'])) \n",
    "                     if type(data['exposure_start'][n]) == str \n",
    "                     and type(data['exposure_end'][n]) == str \n",
    "                     ])\n",
    "median = np.median(deltaDays)\n",
    "print(median)\n",
    "type(median)"
   ]
  },
  {
   "cell_type": "markdown",
   "metadata": {},
   "source": [
    "Инкубационный период нужно считать хитро - вот кажущийся естественным подход, позволяющий не терять неполные данные"
   ]
  },
  {
   "cell_type": "code",
   "execution_count": 86,
   "metadata": {},
   "outputs": [
    {
     "name": "stdout",
     "output_type": "stream",
     "text": [
      "[ 4.  6.  8.  3.  4.  4.  4. 11.  5.  7.  5. 10.  4.  8.  5.  4.  9. 11.\n",
      "  4.  4.  3.  8.  6.  4.  3.  4. 10.  7.  4. 10.  6.  3.  6.  3.  6.  7.\n",
      "  3.  9.  5.  9.  4.  4.  7.  4.  4.  5.  4.  5.  3. 15.  6. 12. 11. 31.\n",
      "  7.  5.  8.  5.  4.  4.  9.  4.  8.  4.  5.  4. 10.  5.  4.  6.  4.  6.\n",
      "  5. 20.  4.  6.  4. 12.  3.  4.  7.  4.  9.  3.  5.  5.  6.  8.  5.  4.\n",
      "  9.  9. 11. 12.  4. 16. 16.  3.  7.  5.]\n"
     ]
    }
   ],
   "source": [
    "def IncubationPeriod(data,m,n):\n",
    "    if type(data['exposure_end'][n]) == str and type(data['symptom_onset'][n]) == str and data['gender'][n] == 'male':\n",
    "        nD=numOfDays(data['exposure_end'][n], data['symptom_onset'][n])\n",
    "        if nD>=0:\n",
    "            return nD+m\n",
    "    elif type(data['exposure_start'][n]) == str  and type(data['symptom_onset'][n]) == str and data['gender'][n] == 'male':\n",
    "        return numOfDays(data['exposure_start'][n], data['symptom_onset'][n])-m\n",
    "    return    \n",
    "IncubationMale = np.array([IncubationPeriod(data,median,n) for n in range(len(data['reporting date'])) if IncubationPeriod(data,mean,n)!= None])\n",
    "print(IncubationMale)                         "
   ]
  },
  {
   "cell_type": "code",
   "execution_count": null,
   "metadata": {},
   "outputs": [],
   "source": []
  },
  {
   "cell_type": "code",
   "execution_count": null,
   "metadata": {},
   "outputs": [],
   "source": []
  }
 ],
 "metadata": {
  "kernelspec": {
   "display_name": "Python 3",
   "language": "python",
   "name": "python3"
  },
  "language_info": {
   "codemirror_mode": {
    "name": "ipython",
    "version": 3
   },
   "file_extension": ".py",
   "mimetype": "text/x-python",
   "name": "python",
   "nbconvert_exporter": "python",
   "pygments_lexer": "ipython3",
   "version": "3.8.3"
  }
 },
 "nbformat": 4,
 "nbformat_minor": 2
}
