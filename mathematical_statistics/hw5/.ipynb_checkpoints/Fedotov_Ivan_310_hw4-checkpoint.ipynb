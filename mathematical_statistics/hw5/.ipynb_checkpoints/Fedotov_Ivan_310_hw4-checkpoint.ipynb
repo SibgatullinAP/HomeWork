{
 "cells": [
  {
   "cell_type": "code",
   "execution_count": 4,
   "metadata": {},
   "outputs": [],
   "source": [
    "import numpy as np\n",
    "import scipy as sp\n",
    "import matplotlib.pyplot as plt\n",
    "import seaborn as sns\n",
    "import pandas as pd\n",
    "from scipy import stats\n",
    "from statsmodels.stats.multicomp import pairwise_tukeyhsd\n",
    "import scikit_posthocs as spp"
   ]
  },
  {
   "cell_type": "code",
   "execution_count": 13,
   "metadata": {},
   "outputs": [],
   "source": [
    "def C(x):\n",
    "    if type(x)==str:\n",
    "        if 'Canada' in x:\n",
    "            return True\n",
    "        else:\n",
    "            return False\n",
    "    return False\n",
    "\n",
    "def G(x):\n",
    "    if type(x)==str:\n",
    "        if 'Greece' in x:\n",
    "            return True\n",
    "        else:\n",
    "            return False\n",
    "    return False\n",
    "\n",
    "def P(x):\n",
    "    if type(x)==str:\n",
    "        if 'Portugal' in x:\n",
    "            return True\n",
    "        else:\n",
    "            return False\n",
    "    return False\n",
    "\n",
    "data = pd.read_csv(\"winemag-data-130k-v2.csv\")\n",
    "print (data_new.groupby('country').groups)\n",
    "\n",
    "df = data[['country', 'points', 'price']]\n",
    "df.to_csv ('new_wine.csv', index=False)\n",
    "data_new = pd.read_csv ('new_wine.csv')\n",
    "\n",
    "data_new = data_new.groupby(data.apply(lambda x: C(x['country']) or G(x['country']) or P(x['country']), axis=1))\n",
    "data_new = data_new.get_group(True)\n",
    "data_new = data_new.dropna(axis=0)\n",
    "\n",
    "# data_new = data_new.sort_values(by='country')\n",
    "# data_new = data_new[:1000]"
   ]
  },
  {
   "cell_type": "markdown",
   "metadata": {},
   "source": [
    "Закончили предварительную обработку таблиц. Посчитаем соотношение цена/качество для каждой записи. И построим \"ящики с усами\" чтобы прикинуть совпадают ли дисперсии"
   ]
  },
  {
   "cell_type": "code",
   "execution_count": 6,
   "metadata": {},
   "outputs": [
    {
     "data": {
      "image/png": "[encoded data removed]",
      "text/plain": [
       "<Figure size 432x288 with 1 Axes>"
      ]
     },
     "metadata": {
      "needs_background": "light"
     },
     "output_type": "display_data"
    }
   ],
   "source": [
    "data_new['pointsbyprice']= data_new.apply(lambda x: x['points']/(10+np.log( x['price'])), axis=1)\n",
    "\n",
    "sns.boxplot( y=data_new['pointsbyprice'], x=data_new['country'] );\n",
    "plt.show()"
   ]
  },
  {
   "cell_type": "markdown",
   "metadata": {},
   "source": [
    "По графикам видно, что все плохо и дисперсии не совпадают, теперь проверим это статистически с помощью Теста Левена. Также проверим с помощью Теста Шапиро нормальность выборок."
   ]
  },
  {
   "cell_type": "code",
   "execution_count": 7,
   "metadata": {},
   "outputs": [
    {
     "name": "stdout",
     "output_type": "stream",
     "text": [
      "LeveneResult(statistic=3.530985144246875, pvalue=0.029341410309435587)\n",
      "ShapiroResult(statistic=0.974319338798523, pvalue=9.390311398481639e-29)\n",
      "ShapiroResult(statistic=0.9893981218338013, pvalue=0.002050064504146576)\n",
      "ShapiroResult(statistic=0.9927505850791931, pvalue=0.25151291489601135)\n"
     ]
    }
   ],
   "source": [
    "print (stats.levene(data_new['pointsbyprice'][data['country'] == 'Portugal'], data_new['pointsbyprice'][data_new['country'] == 'Greece'], data_new['pointsbyprice'][data_new['country'] == 'Canada']))\n",
    "print (stats.shapiro(data_new['pointsbyprice'][data_new['country'] == 'Portugal']))\n",
    "print (stats.shapiro(data_new['pointsbyprice'][data_new['country'] == 'Greece']))\n",
    "print (stats.shapiro(data_new['pointsbyprice'][data_new['country'] == 'Canada']))"
   ]
  },
  {
   "cell_type": "markdown",
   "metadata": {},
   "source": [
    "Нормальности тоже нет. Нельзя использовать ни ANOVA ни Крускала-Уоллиса ("
   ]
  },
  {
   "cell_type": "code",
   "execution_count": 8,
   "metadata": {},
   "outputs": [
    {
     "name": "stdout",
     "output_type": "stream",
     "text": [
      "KruskalResult(statistic=212.2322929863956, pvalue=8.209999622816209e-47)\n"
     ]
    }
   ],
   "source": [
    "print (stats.kruskal(data_new['pointsbyprice'][data_new['country'] == 'Portugal'], data_new['pointsbyprice'][data_new['country'] == 'Greece'], data_new['pointsbyprice'][data_new['country'] == 'Canada']))"
   ]
  },
  {
   "cell_type": "code",
   "execution_count": 9,
   "metadata": {},
   "outputs": [
    {
     "name": "stdout",
     "output_type": "stream",
     "text": [
      "Multiple Comparison of Means - Tukey HSD, FWER=0.05 \n",
      "====================================================\n",
      "group1  group2  meandiff p-adj  lower  upper  reject\n",
      "----------------------------------------------------\n",
      "Canada   Greece   0.0613 0.0032 0.0172 0.1054   True\n",
      "Canada Portugal   0.1795  0.001 0.1432 0.2159   True\n",
      "Greece Portugal   0.1183  0.001 0.0908 0.1458   True\n",
      "----------------------------------------------------\n",
      "\n",
      "\n",
      "              1             2             3\n",
      "1  1.000000e+00  3.025846e-23  6.972300e-29\n",
      "2  3.025846e-23  1.000000e+00  2.310528e-03\n",
      "3  6.972300e-29  2.310528e-03  1.000000e+00\n"
     ]
    }
   ],
   "source": [
    "#Данна, Тьюки:\n",
    "print(pairwise_tukeyhsd(endog=data_new['pointsbyprice'], groups=data_new['country'], alpha=0.05))\n",
    "print ('\\n')\n",
    "print (spp.posthoc_dunn([data_new['pointsbyprice'][data_new['country'] == 'Portugal'], data_new['pointsbyprice'][data_new['country'] == 'Greece'], data_new['pointsbyprice'][data_new['country'] == 'Canada']], p_adjust='fdr_bh'))"
   ]
  },
  {
   "cell_type": "code",
   "execution_count": 10,
   "metadata": {},
   "outputs": [
    {
     "name": "stdout",
     "output_type": "stream",
     "text": [
      "country  Canada  Greece  Portugal\n",
      "points                           \n",
      "80            0       0         2\n",
      "81            0       0        11\n",
      "82            2       4        27\n",
      "83            3       9       102\n",
      "84            4      42       303\n",
      "85            7      48       530\n",
      "86           11      59       536\n",
      "87           30      87       592\n",
      "88           32      79       672\n",
      "89           29      58       334\n",
      "90           42      44       526\n",
      "91           43      14       420\n",
      "92           34      15       352\n",
      "93           14       2       250\n",
      "94            3       0       122\n",
      "95            0       0        61\n",
      "96            0       0        16\n",
      "97            0       0        12\n",
      "98            0       0         3\n",
      "99            0       0         2\n",
      "100           0       0         2\n"
     ]
    }
   ],
   "source": [
    "data_new_crosstab = pd.crosstab(data_new['points'], data_new['country'], margins = False)\n",
    "print(data_new_crosstab) "
   ]
  },
  {
   "cell_type": "code",
   "execution_count": 11,
   "metadata": {},
   "outputs": [
    {
     "data": {
      "text/plain": [
       "(204.3401399230755,\n",
       " 6.432158976486775e-24,\n",
       " 40,\n",
       " array([[9.08765653e-02, 1.64937388e-01, 1.74418605e+00],\n",
       "        [4.99821109e-01, 9.07155635e-01, 9.59302326e+00],\n",
       "        [1.49946333e+00, 2.72146691e+00, 2.87790698e+01],\n",
       "        [5.17996422e+00, 9.40143113e+00, 9.94186047e+01],\n",
       "        [1.58579606e+01, 2.87815742e+01, 3.04360465e+02],\n",
       "        [2.65813953e+01, 4.82441860e+01, 5.10174419e+02],\n",
       "        [2.75355993e+01, 4.99760286e+01, 5.28488372e+02],\n",
       "        [3.22157424e+01, 5.84703041e+01, 6.18313953e+02],\n",
       "        [3.55781753e+01, 6.45729875e+01, 6.82848837e+02],\n",
       "        [1.91295170e+01, 3.47193202e+01, 3.67151163e+02],\n",
       "        [2.78082290e+01, 5.04708408e+01, 5.33720930e+02],\n",
       "        [2.16740608e+01, 3.93375671e+01, 4.15988372e+02],\n",
       "        [1.82207513e+01, 3.30699463e+01, 3.49709302e+02],\n",
       "        [1.20865832e+01, 2.19366726e+01, 2.31976744e+02],\n",
       "        [5.67978533e+00, 1.03085868e+01, 1.09011628e+02],\n",
       "        [2.77173524e+00, 5.03059034e+00, 5.31976744e+01],\n",
       "        [7.27012522e-01, 1.31949911e+00, 1.39534884e+01],\n",
       "        [5.45259392e-01, 9.89624329e-01, 1.04651163e+01],\n",
       "        [1.36314848e-01, 2.47406082e-01, 2.61627907e+00],\n",
       "        [9.08765653e-02, 1.64937388e-01, 1.74418605e+00],\n",
       "        [9.08765653e-02, 1.64937388e-01, 1.74418605e+00]]))"
      ]
     },
     "execution_count": 11,
     "metadata": {},
     "output_type": "execute_result"
    }
   ],
   "source": [
    "sp.stats.chi2_contingency(data_new_crosstab)"
   ]
  },
  {
   "cell_type": "code",
   "execution_count": null,
   "metadata": {},
   "outputs": [],
   "source": []
  }
 ],
 "metadata": {
  "kernelspec": {
   "display_name": "Python 3",
   "language": "python",
   "name": "python3"
  },
  "language_info": {
   "codemirror_mode": {
    "name": "ipython",
    "version": 3
   },
   "file_extension": ".py",
   "mimetype": "text/x-python",
   "name": "python",
   "nbconvert_exporter": "python",
   "pygments_lexer": "ipython3",
   "version": "3.8.3"
  }
 },
 "nbformat": 4,
 "nbformat_minor": 4
}
