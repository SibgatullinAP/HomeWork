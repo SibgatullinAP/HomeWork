{
 "cells": [
  {
   "cell_type": "code",
   "execution_count": 1,
   "metadata": {},
   "outputs": [],
   "source": [
    "import numpy as np\n",
    "import scipy as sp\n",
    "import matplotlib.pyplot as plt\n",
    "import seaborn as sns\n",
    "import pandas as pd\n",
    "from scipy import stats\n",
    "from statsmodels.stats.multicomp import pairwise_tukeyhsd\n",
    "import scikit_posthocs as spp"
   ]
  },
  {
   "cell_type": "code",
   "execution_count": 2,
   "metadata": {
    "scrolled": false
   },
   "outputs": [],
   "source": [
    "def is_Spain(x):\n",
    "    if type(x)==str:\n",
    "        if 'Spain' in x:\n",
    "            return True\n",
    "        else:\n",
    "            return False\n",
    "    return False\n",
    "\n",
    "def is_Argentina(x):\n",
    "    if type(x)==str:\n",
    "        if 'Argentina' in x:\n",
    "            return True\n",
    "        else:\n",
    "            return False\n",
    "    return False\n",
    "\n",
    "def is_Burgundy_France(x, y):\n",
    "    if type(x)==str:\n",
    "        if 'Burgundy' in x and 'France' in y:\n",
    "            return True\n",
    "        else:\n",
    "            return False\n",
    "    return False\n",
    "\n",
    "data = pd.read_csv(\"winemag-data-130k-v2.csv\")\n",
    "\n",
    "df = data[['country', 'points', 'price', 'province']]\n",
    "df.to_csv ('new_wine.csv', index=False)\n",
    "data_new = pd.read_csv ('new_wine.csv')\n",
    "\n",
    "data_new = data_new.groupby(data.apply(lambda x: is_Spain(x['country']) or is_Argentina(x['country']) or is_Burgundy_France(x['province'], x['country']), axis=1))\n",
    "data_new = data_new.get_group(True)\n",
    "data_new = data_new.dropna(axis=0)\n",
    "\n",
    "# data_new = data_new.sort_values(by='country')\n",
    "# data_new = data_new[:11000]"
   ]
  },
  {
   "cell_type": "markdown",
   "metadata": {},
   "source": [
    "Закончили предварительную обработку таблиц. Посчитаем соотношение цена/качество для каждой записи. И построим \"ящики с усами\" чтобы прикинуть совпадают ли дисперсии"
   ]
  },
  {
   "cell_type": "code",
   "execution_count": 3,
   "metadata": {},
   "outputs": [
    {
     "data": {
      "image/png": "[encoded data removed]",
      "text/plain": [
       "<Figure size 432x288 with 1 Axes>"
      ]
     },
     "metadata": {
      "needs_background": "light"
     },
     "output_type": "display_data"
    }
   ],
   "source": [
    "data_new['pointsbyprice']= data_new.apply(lambda x: x['points']/(10+np.log( x['price'])), axis=1)\n",
    "\n",
    "sns.boxplot( y=data_new['pointsbyprice'], x=data_new['country']);\n",
    "plt.show()"
   ]
  },
  {
   "cell_type": "markdown",
   "metadata": {},
   "source": [
    "По графикам видно, что все плохо и дисперсии не совпадают, теперь проверим это статистически с помощью Теста Левена. Также проверим с помощью Теста Шапиро нормальность выборок."
   ]
  },
  {
   "cell_type": "code",
   "execution_count": 4,
   "metadata": {},
   "outputs": [
    {
     "name": "stdout",
     "output_type": "stream",
     "text": [
      "LeveneResult(statistic=14.702413710172433, pvalue=4.186024500997588e-07)\n",
      "ShapiroResult(statistic=0.971365749835968, pvalue=2.7515436822282986e-34)\n",
      "ShapiroResult(statistic=0.9820742011070251, pvalue=2.043422475825461e-21)\n",
      "ShapiroResult(statistic=0.9886605739593506, pvalue=4.765556862567884e-15)\n"
     ]
    },
    {
     "name": "stderr",
     "output_type": "stream",
     "text": [
      "/home/pam/anaconda3/lib/python3.8/site-packages/scipy/stats/morestats.py:1681: UserWarning: p-value may not be accurate for N > 5000.\n",
      "  warnings.warn(\"p-value may not be accurate for N > 5000.\")\n"
     ]
    }
   ],
   "source": [
    "print (stats.levene(data_new['pointsbyprice'][data['country'] == 'Spain'],\n",
    "                    data_new['pointsbyprice'][data_new['country'] == 'Argentina'],\n",
    "                    data_new['pointsbyprice'][(data_new['province'] == 'Burgundy')]))\n",
    "\n",
    "print (stats.shapiro(data_new['pointsbyprice'][data_new['country'] == 'Spain']))\n",
    "print (stats.shapiro(data_new['pointsbyprice'][data_new['country'] == 'Argentina']))\n",
    "print (stats.shapiro(data_new['pointsbyprice'][data_new['province'] == 'Burgundy']))"
   ]
  },
  {
   "cell_type": "markdown",
   "metadata": {},
   "source": [
    "Нормальности тоже нет. Нельзя использовать ни ANOVA ни Крускала-Уоллиса ("
   ]
  },
  {
   "cell_type": "code",
   "execution_count": 5,
   "metadata": {},
   "outputs": [
    {
     "name": "stdout",
     "output_type": "stream",
     "text": [
      "KruskalResult(statistic=nan, pvalue=nan)\n"
     ]
    }
   ],
   "source": [
    "#print (stats.kruskal(data_new['pointsbyprice'][data_new['country'] == 'Portugal'], data_new['pointsbyprice'][data_new['country'] == 'Greece'], data_new['pointsbyprice'][data_new['country'] == 'Canada']))"
   ]
  },
  {
   "cell_type": "code",
   "execution_count": 6,
   "metadata": {},
   "outputs": [
    {
     "name": "stdout",
     "output_type": "stream",
     "text": [
      "  Multiple Comparison of Means - Tukey HSD, FWER=0.05  \n",
      "=======================================================\n",
      "  group1  group2 meandiff p-adj   lower   upper  reject\n",
      "-------------------------------------------------------\n",
      "Argentina France  -0.2257  0.001 -0.2397 -0.2118   True\n",
      "Argentina  Spain   0.0043 0.6543 -0.0075  0.0161  False\n",
      "   France  Spain     0.23  0.001  0.2175  0.2425   True\n",
      "-------------------------------------------------------\n",
      "\n",
      "\n"
     ]
    },
    {
     "ename": "ZeroDivisionError",
     "evalue": "float division by zero",
     "output_type": "error",
     "traceback": [
      "\u001b[0;31m---------------------------------------------------------------------------\u001b[0m",
      "\u001b[0;31mZeroDivisionError\u001b[0m                         Traceback (most recent call last)",
      "\u001b[0;32m<ipython-input-6-a1b4698b312b>\u001b[0m in \u001b[0;36m<module>\u001b[0;34m\u001b[0m\n\u001b[1;32m      2\u001b[0m \u001b[0mprint\u001b[0m\u001b[0;34m(\u001b[0m\u001b[0mpairwise_tukeyhsd\u001b[0m\u001b[0;34m(\u001b[0m\u001b[0mendog\u001b[0m\u001b[0;34m=\u001b[0m\u001b[0mdata_new\u001b[0m\u001b[0;34m[\u001b[0m\u001b[0;34m'pointsbyprice'\u001b[0m\u001b[0;34m]\u001b[0m\u001b[0;34m,\u001b[0m \u001b[0mgroups\u001b[0m\u001b[0;34m=\u001b[0m\u001b[0mdata_new\u001b[0m\u001b[0;34m[\u001b[0m\u001b[0;34m'country'\u001b[0m\u001b[0;34m]\u001b[0m\u001b[0;34m,\u001b[0m \u001b[0malpha\u001b[0m\u001b[0;34m=\u001b[0m\u001b[0;36m0.05\u001b[0m\u001b[0;34m)\u001b[0m\u001b[0;34m)\u001b[0m\u001b[0;34m\u001b[0m\u001b[0;34m\u001b[0m\u001b[0m\n\u001b[1;32m      3\u001b[0m \u001b[0mprint\u001b[0m \u001b[0;34m(\u001b[0m\u001b[0;34m'\\n'\u001b[0m\u001b[0;34m)\u001b[0m\u001b[0;34m\u001b[0m\u001b[0;34m\u001b[0m\u001b[0m\n\u001b[0;32m----> 4\u001b[0;31m \u001b[0mprint\u001b[0m \u001b[0;34m(\u001b[0m\u001b[0mspp\u001b[0m\u001b[0;34m.\u001b[0m\u001b[0mposthoc_dunn\u001b[0m\u001b[0;34m(\u001b[0m\u001b[0;34m[\u001b[0m\u001b[0mdata_new\u001b[0m\u001b[0;34m[\u001b[0m\u001b[0;34m'pointsbyprice'\u001b[0m\u001b[0;34m]\u001b[0m\u001b[0;34m[\u001b[0m\u001b[0mdata_new\u001b[0m\u001b[0;34m[\u001b[0m\u001b[0;34m'country'\u001b[0m\u001b[0;34m]\u001b[0m \u001b[0;34m==\u001b[0m \u001b[0;34m'Portugal'\u001b[0m\u001b[0;34m]\u001b[0m\u001b[0;34m,\u001b[0m \u001b[0mdata_new\u001b[0m\u001b[0;34m[\u001b[0m\u001b[0;34m'pointsbyprice'\u001b[0m\u001b[0;34m]\u001b[0m\u001b[0;34m[\u001b[0m\u001b[0mdata_new\u001b[0m\u001b[0;34m[\u001b[0m\u001b[0;34m'country'\u001b[0m\u001b[0;34m]\u001b[0m \u001b[0;34m==\u001b[0m \u001b[0;34m'Greece'\u001b[0m\u001b[0;34m]\u001b[0m\u001b[0;34m,\u001b[0m \u001b[0mdata_new\u001b[0m\u001b[0;34m[\u001b[0m\u001b[0;34m'pointsbyprice'\u001b[0m\u001b[0;34m]\u001b[0m\u001b[0;34m[\u001b[0m\u001b[0mdata_new\u001b[0m\u001b[0;34m[\u001b[0m\u001b[0;34m'country'\u001b[0m\u001b[0;34m]\u001b[0m \u001b[0;34m==\u001b[0m \u001b[0;34m'Canada'\u001b[0m\u001b[0;34m]\u001b[0m\u001b[0;34m]\u001b[0m\u001b[0;34m,\u001b[0m \u001b[0mp_adjust\u001b[0m\u001b[0;34m=\u001b[0m\u001b[0;34m'fdr_bh'\u001b[0m\u001b[0;34m)\u001b[0m\u001b[0;34m)\u001b[0m\u001b[0;34m\u001b[0m\u001b[0;34m\u001b[0m\u001b[0m\n\u001b[0m",
      "\u001b[0;32m~/anaconda3/lib/python3.8/site-packages/scikit_posthocs/_posthocs.py\u001b[0m in \u001b[0;36mposthoc_dunn\u001b[0;34m(a, val_col, group_col, p_adjust, sort)\u001b[0m\n\u001b[1;32m    364\u001b[0m \u001b[0;34m\u001b[0m\u001b[0m\n\u001b[1;32m    365\u001b[0m     \u001b[0;32mif\u001b[0m \u001b[0mp_adjust\u001b[0m\u001b[0;34m:\u001b[0m\u001b[0;34m\u001b[0m\u001b[0;34m\u001b[0m\u001b[0m\n\u001b[0;32m--> 366\u001b[0;31m         \u001b[0mvs\u001b[0m\u001b[0;34m[\u001b[0m\u001b[0mtri_upper\u001b[0m\u001b[0;34m]\u001b[0m \u001b[0;34m=\u001b[0m \u001b[0mmultipletests\u001b[0m\u001b[0;34m(\u001b[0m\u001b[0mvs\u001b[0m\u001b[0;34m[\u001b[0m\u001b[0mtri_upper\u001b[0m\u001b[0;34m]\u001b[0m\u001b[0;34m,\u001b[0m \u001b[0mmethod\u001b[0m\u001b[0;34m=\u001b[0m\u001b[0mp_adjust\u001b[0m\u001b[0;34m)\u001b[0m\u001b[0;34m[\u001b[0m\u001b[0;36m1\u001b[0m\u001b[0;34m]\u001b[0m\u001b[0;34m\u001b[0m\u001b[0;34m\u001b[0m\u001b[0m\n\u001b[0m\u001b[1;32m    367\u001b[0m \u001b[0;34m\u001b[0m\u001b[0m\n\u001b[1;32m    368\u001b[0m     \u001b[0mvs\u001b[0m\u001b[0;34m[\u001b[0m\u001b[0mtri_lower\u001b[0m\u001b[0;34m]\u001b[0m \u001b[0;34m=\u001b[0m \u001b[0mvs\u001b[0m\u001b[0;34m.\u001b[0m\u001b[0mT\u001b[0m\u001b[0;34m[\u001b[0m\u001b[0mtri_lower\u001b[0m\u001b[0;34m]\u001b[0m\u001b[0;34m\u001b[0m\u001b[0;34m\u001b[0m\u001b[0m\n",
      "\u001b[0;32m~/anaconda3/lib/python3.8/site-packages/statsmodels/stats/multitest.py\u001b[0m in \u001b[0;36mmultipletests\u001b[0;34m(pvals, alpha, method, is_sorted, returnsorted)\u001b[0m\n\u001b[1;32m    147\u001b[0m \u001b[0;34m\u001b[0m\u001b[0m\n\u001b[1;32m    148\u001b[0m     \u001b[0mntests\u001b[0m \u001b[0;34m=\u001b[0m \u001b[0mlen\u001b[0m\u001b[0;34m(\u001b[0m\u001b[0mpvals\u001b[0m\u001b[0;34m)\u001b[0m\u001b[0;34m\u001b[0m\u001b[0;34m\u001b[0m\u001b[0m\n\u001b[0;32m--> 149\u001b[0;31m     \u001b[0malphacSidak\u001b[0m \u001b[0;34m=\u001b[0m \u001b[0;36m1\u001b[0m \u001b[0;34m-\u001b[0m \u001b[0mnp\u001b[0m\u001b[0;34m.\u001b[0m\u001b[0mpower\u001b[0m\u001b[0;34m(\u001b[0m\u001b[0;34m(\u001b[0m\u001b[0;36m1.\u001b[0m \u001b[0;34m-\u001b[0m \u001b[0malphaf\u001b[0m\u001b[0;34m)\u001b[0m\u001b[0;34m,\u001b[0m \u001b[0;36m1.\u001b[0m\u001b[0;34m/\u001b[0m\u001b[0mntests\u001b[0m\u001b[0;34m)\u001b[0m\u001b[0;34m\u001b[0m\u001b[0;34m\u001b[0m\u001b[0m\n\u001b[0m\u001b[1;32m    150\u001b[0m     \u001b[0malphacBonf\u001b[0m \u001b[0;34m=\u001b[0m \u001b[0malphaf\u001b[0m \u001b[0;34m/\u001b[0m \u001b[0mfloat\u001b[0m\u001b[0;34m(\u001b[0m\u001b[0mntests\u001b[0m\u001b[0;34m)\u001b[0m\u001b[0;34m\u001b[0m\u001b[0;34m\u001b[0m\u001b[0m\n\u001b[1;32m    151\u001b[0m     \u001b[0;32mif\u001b[0m \u001b[0mmethod\u001b[0m\u001b[0;34m.\u001b[0m\u001b[0mlower\u001b[0m\u001b[0;34m(\u001b[0m\u001b[0;34m)\u001b[0m \u001b[0;32min\u001b[0m \u001b[0;34m[\u001b[0m\u001b[0;34m'b'\u001b[0m\u001b[0;34m,\u001b[0m \u001b[0;34m'bonf'\u001b[0m\u001b[0;34m,\u001b[0m \u001b[0;34m'bonferroni'\u001b[0m\u001b[0;34m]\u001b[0m\u001b[0;34m:\u001b[0m\u001b[0;34m\u001b[0m\u001b[0;34m\u001b[0m\u001b[0m\n",
      "\u001b[0;31mZeroDivisionError\u001b[0m: float division by zero"
     ]
    }
   ],
   "source": [
    "#Данна, Тьюки:\n",
    "print(pairwise_tukeyhsd(endog=data_new['pointsbyprice'], groups=data_new['country'], alpha=0.05))\n",
    "print ('\\n')\n",
    "print (spp.posthoc_dunn([data_new['pointsbyprice'][data_new['country'] == 'Portugal'], data_new['pointsbyprice'][data_new['country'] == 'Greece'], data_new['pointsbyprice'][data_new['country'] == 'Canada']], p_adjust='fdr_bh'))"
   ]
  },
  {
   "cell_type": "code",
   "execution_count": 7,
   "metadata": {},
   "outputs": [
    {
     "name": "stdout",
     "output_type": "stream",
     "text": [
      "country  Argentina  France  Spain\n",
      "points                           \n",
      "80              76       0     78\n",
      "81              94       1     92\n",
      "82             147       6    212\n",
      "83             280      24    347\n",
      "84             406     100    488\n",
      "85             416     191    629\n",
      "86             416     208    799\n",
      "87             465     315    913\n",
      "88             389     383    833\n",
      "89             299     290    599\n",
      "90             247     317    540\n",
      "91             207     309    394\n",
      "92             180     313    354\n",
      "93              80     290    164\n",
      "94              43     192     80\n",
      "95               8     111     29\n",
      "96               2      34     16\n",
      "97               1      16      5\n",
      "98               0       5      1\n",
      "99               0       1      0\n"
     ]
    }
   ],
   "source": [
    "data_new_crosstab = pd.crosstab(data_new['points'], data_new['country'], margins = False)\n",
    "print(data_new_crosstab) "
   ]
  },
  {
   "cell_type": "code",
   "execution_count": 8,
   "metadata": {},
   "outputs": [
    {
     "data": {
      "text/plain": [
       "(1729.092344793215,\n",
       " 0.0,\n",
       " 38,\n",
       " array([[4.30535169e+01, 3.56028284e+01, 7.53436546e+01],\n",
       "        [5.22792706e+01, 4.32320060e+01, 9.14887235e+01],\n",
       "        [1.02042426e+02, 8.43833271e+01, 1.78574246e+02],\n",
       "        [1.81998958e+02, 1.50502866e+02, 3.18498176e+02],\n",
       "        [2.77890882e+02, 2.29800074e+02, 4.86309044e+02],\n",
       "        [3.45546409e+02, 2.85747376e+02, 6.04706215e+02],\n",
       "        [3.97825679e+02, 3.28979382e+02, 6.96194939e+02],\n",
       "        [4.73309118e+02, 3.91399926e+02, 8.28290956e+02],\n",
       "        [4.48707108e+02, 3.71055452e+02, 7.85237440e+02],\n",
       "        [3.32127131e+02, 2.74650391e+02, 5.81222479e+02],\n",
       "        [3.08643394e+02, 2.55230666e+02, 5.40125940e+02],\n",
       "        [2.54407146e+02, 2.10380350e+02, 4.45212505e+02],\n",
       "        [2.36794343e+02, 1.95815556e+02, 4.14390100e+02],\n",
       "        [1.49289468e+02, 1.23453964e+02, 2.61256569e+02],\n",
       "        [8.80640119e+01, 7.28239672e+01, 1.54112021e+02],\n",
       "        [4.13761072e+01, 3.42157052e+01, 7.24081876e+01],\n",
       "        [1.45375512e+01, 1.20217343e+01, 2.54407146e+01],\n",
       "        [6.15050242e+00, 5.08611835e+00, 1.07633792e+01],\n",
       "        [1.67740975e+00, 1.38712319e+00, 2.93546706e+00],\n",
       "        [2.79568292e-01, 2.31187198e-01, 4.89244511e-01]]))"
      ]
     },
     "execution_count": 8,
     "metadata": {},
     "output_type": "execute_result"
    }
   ],
   "source": [
    "sp.stats.chi2_contingency(data_new_crosstab)"
   ]
  },
  {
   "cell_type": "code",
   "execution_count": null,
   "metadata": {},
   "outputs": [],
   "source": []
  }
 ],
 "metadata": {
  "kernelspec": {
   "display_name": "Python 3",
   "language": "python",
   "name": "python3"
  },
  "language_info": {
   "codemirror_mode": {
    "name": "ipython",
    "version": 3
   },
   "file_extension": ".py",
   "mimetype": "text/x-python",
   "name": "python",
   "nbconvert_exporter": "python",
   "pygments_lexer": "ipython3",
   "version": "3.8.3"
  }
 },
 "nbformat": 4,
 "nbformat_minor": 4
}
